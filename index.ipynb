{
 "cells": [
  {
   "cell_type": "markdown",
   "metadata": {},
   "source": [
    "## Index "
   ]
  },
  {
   "cell_type": "markdown",
   "metadata": {},
   "source": [
    "- [Distracted Driver Detection (main)](Distracted_Driver_Detection.ipynb)\n",
    " \n",
    "    - Transfer learning using 3 types of models;\n",
    "    - Training the model with and without hiperparametres tunning. \n",
    "    \n",
    "- [Extracting Features](Extracting_features.ipynb)\n",
    "\n",
    "    - Data Transformations;\n",
    "    - Features Extraction.\n",
    " \n",
    "- [Machine Ensemble](Machine_ensemble.ipynb)\n",
    "\n",
    "    - Improved submission response;\n",
    "    - Get ensembles output by averaging the response of each model. \n",
    " \n",
    "- [Data Visualization](Data_Visualization.ipynb)\n",
    "\n",
    "    - Layers weights;\n",
    "    - Mismatch predictions;\n",
    "    - Metrics analysis\n",
    "        - Confusion matrix;\n",
    "        - Metrics trajectory evolution;"
   ]
  },
  {
   "cell_type": "code",
   "execution_count": null,
   "metadata": {},
   "outputs": [],
   "source": []
  }
 ],
 "metadata": {
  "kernelspec": {
   "display_name": "Python 3",
   "language": "python",
   "name": "python3"
  },
  "language_info": {
   "codemirror_mode": {
    "name": "ipython",
    "version": 3
   },
   "file_extension": ".py",
   "mimetype": "text/x-python",
   "name": "python",
   "nbconvert_exporter": "python",
   "pygments_lexer": "ipython3",
   "version": "3.6.3"
  }
 },
 "nbformat": 4,
 "nbformat_minor": 2
}
