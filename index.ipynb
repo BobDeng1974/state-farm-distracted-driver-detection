{
 "cells": [
  {
   "cell_type": "markdown",
   "metadata": {},
   "source": [
    "# State Farm Distracted Driver Detection \n",
    "\n",
    "https://www.kaggle.com/c/state-farm-distracted-driver-detection\n",
    "\n",
    "    - Renato BML Rodrigues\n",
    "    - Euler RS Faria"
   ]
  },
  {
   "cell_type": "markdown",
   "metadata": {},
   "source": [
    "## Goal"
   ]
  },
  {
   "cell_type": "markdown",
   "metadata": {},
   "source": [
    "The goal of the challenge is to identify dangerous driver behavior through images from the onboard camera."
   ]
  },
  {
   "cell_type": "markdown",
   "metadata": {},
   "source": [
    "![driver](./figures/distracted_driver.gif)"
   ]
  },
  {
   "cell_type": "markdown",
   "metadata": {},
   "source": [
    "## Index"
   ]
  },
  {
   "cell_type": "markdown",
   "metadata": {},
   "source": [
    "- [Distracted Driver Detection (main)](Distracted_Driver_Detection.ipynb)\n",
    " \n",
    "    - Transfer learning using 3 different models;\n",
    "    - Model tranning with and without hyperparameter tuning. \n",
    "    \n",
    "- [Extracting Features](Extracting_features.ipynb)\n",
    "\n",
    "    - Data Transformations;\n",
    "    - Features Extraction.\n",
    "    - Saving extracted features.\n",
    " \n",
    "- [Machine Ensemble](Machine_ensemble.ipynb)\n",
    "\n",
    "    - Improved submission response;\n",
    "    - Get ensembles output by averaging the response of each model. \n",
    " \n",
    "- [Data Visualization](Data_Visualization.ipynb)\n",
    "\n",
    "    - Layers weights;\n",
    "    - Mismatch and Correct predictions;\n",
    "    - Metrics analysis\n",
    "        - Confusion matrix;\n",
    "        - Metrics trajectory evolution;"
   ]
  }
 ],
 "metadata": {
  "kernelspec": {
   "display_name": "Python 3",
   "language": "python",
   "name": "python3"
  },
  "language_info": {
   "codemirror_mode": {
    "name": "ipython",
    "version": 3
   },
   "file_extension": ".py",
   "mimetype": "text/x-python",
   "name": "python",
   "nbconvert_exporter": "python",
   "pygments_lexer": "ipython3",
   "version": "3.6.3"
  }
 },
 "nbformat": 4,
 "nbformat_minor": 2
}
