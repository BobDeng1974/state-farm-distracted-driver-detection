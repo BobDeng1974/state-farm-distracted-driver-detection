{
 "cells": [
  {
   "cell_type": "markdown",
   "metadata": {},
   "source": [
    "## Index "
   ]
  },
  {
   "cell_type": "markdown",
   "metadata": {},
   "source": [
    "- [Distracted Driver Detection (main)](Distracted_Driver_Detection.ipynb)\n",
    " \n",
    "    - Transfer learning using 3 types of models;\n",
    "    - Training the model with and without hyperparameter tuning. \n",
    "    \n",
    "- [Extracting Features](Extracting_features.ipynb)\n",
    "\n",
    "    - Data Transformations;\n",
    "    - Features Extraction.\n",
    " \n",
    "- [Machine Ensemble](Machine_ensemble.ipynb)\n",
    "\n",
    "    - Improved submission response;\n",
    "    - Get ensembles output by averaging the response of each model. \n",
    " \n",
    "- [Data Visualization](Data_Visualization.ipynb)\n",
    "\n",
    "    - Layers weights;\n",
    "    - Mismatch predictions;\n",
    "    - Metrics analysis\n",
    "        - Confusion matrix;\n",
    "        - Metrics trajectory evolution;"
   ]
  },
  {
   "cell_type": "code",
   "execution_count": 5,
   "metadata": {},
   "outputs": [],
   "source": [
    "import os\n",
    "\n",
    "def func(x):\n",
    "    return os.path.splitext(x)[::-1]\n",
    "\n",
    "dirs = os.listdir()\n",
    "dirs.sort(key = func)"
   ]
  },
  {
   "cell_type": "code",
   "execution_count": 6,
   "metadata": {},
   "outputs": [
    {
     "data": {
      "text/plain": [
       "['.git',\n",
       " '.gitignore',\n",
       " '.ipynb_checkpoints',\n",
       " 'features',\n",
       " 'figures',\n",
       " 'lib',\n",
       " 'metrics',\n",
       " 'models',\n",
       " 'results',\n",
       " 'src',\n",
       " 'subm',\n",
       " 'utils',\n",
       " 'Data_Visualization.ipynb',\n",
       " 'Distracted_Driver_Detection.ipynb',\n",
       " 'Extracting_features.ipynb',\n",
       " 'Machine_ensemble.ipynb',\n",
       " 'index.ipynb',\n",
       " 'README.md']"
      ]
     },
     "execution_count": 6,
     "metadata": {},
     "output_type": "execute_result"
    }
   ],
   "source": [
    "dirs"
   ]
  },
  {
   "cell_type": "code",
   "execution_count": null,
   "metadata": {},
   "outputs": [],
   "source": []
  }
 ],
 "metadata": {
  "kernelspec": {
   "display_name": "Python 3",
   "language": "python",
   "name": "python3"
  },
  "language_info": {
   "codemirror_mode": {
    "name": "ipython",
    "version": 3
   },
   "file_extension": ".py",
   "mimetype": "text/x-python",
   "name": "python",
   "nbconvert_exporter": "python",
   "pygments_lexer": "ipython3",
   "version": "3.6.3"
  }
 },
 "nbformat": 4,
 "nbformat_minor": 2
}
