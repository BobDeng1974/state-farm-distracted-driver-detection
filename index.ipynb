{
 "cells": [
  {
   "cell_type": "markdown",
   "metadata": {},
   "source": [
    "## Index "
   ]
  },
  {
   "cell_type": "markdown",
   "metadata": {},
   "source": [
    "- [Distracted Driver Detection (main)](https://ia368z-gpu.eastus.cloudapp.azure.com/jupyterhub/user/r120084/notebooks/r120084/project/state-farm-distracted-driver-detection/Distracted_Driver_Detection.ipynb)\n",
    " \n",
    "    - Transfer learning using 3 types of models;\n",
    "    - Training the model with and without hiperparametres tunning. \n",
    "    \n",
    "- [Extracting Features](https://ia368z-gpu.eastus.cloudapp.azure.com/jupyterhub/user/r120084/notebooks/r120084/project/state-farm-distracted-driver-detection/Extracting_features.ipynb)\n",
    "\n",
    "    - Data Transformations;\n",
    "    - Features Extraction.\n",
    " \n",
    "- [Machine Ensemble](https://ia368z-gpu.eastus.cloudapp.azure.com/jupyterhub/user/r120084/notebooks/r120084/project/state-farm-distracted-driver-detection/Machine_ensemble.ipynb)\n",
    "\n",
    "    - Improved submission response;\n",
    "    - Get ensembles output by averaging the response of each model. \n",
    " \n",
    "- [Data Visualization](https://ia368z-gpu.eastus.cloudapp.azure.com/jupyterhub/user/r120084/notebooks/r120084/project/state-farm-distracted-driver-detection/Data_Visualization.ipynb)\n",
    "\n",
    "    - Layers weights;\n",
    "    - Mismatch predictions;\n",
    "    - Metrics analysis\n",
    "        - Confusion matrix;\n",
    "        - Metrics trajectory evolution;"
   ]
  },
  {
   "cell_type": "code",
   "execution_count": null,
   "metadata": {},
   "outputs": [],
   "source": []
  }
 ],
 "metadata": {
  "kernelspec": {
   "display_name": "Python 3",
   "language": "python",
   "name": "python3"
  },
  "language_info": {
   "codemirror_mode": {
    "name": "ipython",
    "version": 3
   },
   "file_extension": ".py",
   "mimetype": "text/x-python",
   "name": "python",
   "nbconvert_exporter": "python",
   "pygments_lexer": "ipython3",
   "version": "3.6.3"
  }
 },
 "nbformat": 4,
 "nbformat_minor": 2
}
