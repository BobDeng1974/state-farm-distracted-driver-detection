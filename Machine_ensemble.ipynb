{
 "cells": [
  {
   "cell_type": "code",
   "execution_count": 1,
   "metadata": {},
   "outputs": [],
   "source": [
    "import torch\n",
    "\n",
    "from src.ensemble import averaging\n",
    "from src.extractor_utils import load_prediction\n",
    "from utils.utils import create_submission"
   ]
  },
  {
   "cell_type": "code",
   "execution_count": 2,
   "metadata": {},
   "outputs": [
    {
     "name": "stdout",
     "output_type": "stream",
     "text": [
      "4 GPU's available:\n",
      "\n",
      "cpu_count: 24\n"
     ]
    }
   ],
   "source": [
    "print(\"{} GPU's available:\".format(torch.cuda.device_count()) )\n",
    "cpu_count = torch.multiprocessing.cpu_count()\n",
    "print(\"\\ncpu_count: {}\".format(cpu_count))"
   ]
  },
  {
   "cell_type": "code",
   "execution_count": 3,
   "metadata": {},
   "outputs": [
    {
     "name": "stdout",
     "output_type": "stream",
     "text": [
      "Improved submission for ResNet\n",
      "\n",
      "Loaded features with shapes: \n",
      "\n",
      "\n",
      "train:\n",
      "pred torch.Size([17940, 10]), true torch.Size([17940])\n",
      "\n",
      "valid:\n",
      "pred torch.Size([4484, 10]), true torch.Size([4484])\n",
      "\n",
      "test:\n",
      "pred torch.Size([79726, 10]), true torch.Size([79726])\n",
      "done!\n",
      "Improved submission for Inception\n",
      "\n",
      "Loaded features with shapes: \n",
      "\n",
      "\n",
      "train:\n",
      "pred torch.Size([17940, 10]), true torch.Size([17940])\n",
      "\n",
      "valid:\n",
      "pred torch.Size([4484, 10]), true torch.Size([4484])\n",
      "\n",
      "test:\n",
      "pred torch.Size([79726, 10]), true torch.Size([79726])\n",
      "done!\n",
      "Improved submission for DenseNet\n",
      "\n",
      "Loaded features with shapes: \n",
      "\n",
      "\n",
      "train:\n",
      "pred torch.Size([17940, 10]), true torch.Size([17940])\n",
      "\n",
      "valid:\n",
      "pred torch.Size([4484, 10]), true torch.Size([4484])\n",
      "\n",
      "test:\n",
      "pred torch.Size([79726, 10]), true torch.Size([79726])\n",
      "done!\n"
     ]
    }
   ],
   "source": [
    "# improve Kaggle Submission\n",
    "\n",
    "path2results = \"./results/\"\n",
    "\n",
    "models_lst = [\"ResNet\", \"Inception\", \"DenseNet\"]\n",
    "\n",
    "for model_name in models_lst:\n",
    "    print('Improved submission for '+ model_name + '\\n')\n",
    "    load_results= load_prediction(path2results,model_name)\n",
    "    results_test = {'pred': load_results['test'][0], 'true':load_results['test'][1]}\n",
    "    create_submission(results_test, model_name+ '_distracted_driver')"
   ]
  },
  {
   "cell_type": "markdown",
   "metadata": {},
   "source": [
    "# Machine Ensemble"
   ]
  },
  {
   "cell_type": "code",
   "execution_count": 4,
   "metadata": {},
   "outputs": [
    {
     "name": "stdout",
     "output_type": "stream",
     "text": [
      "done!\n"
     ]
    }
   ],
   "source": [
    "averaging(models_lst, submission_name='Ensemble')"
   ]
  },
  {
   "cell_type": "code",
   "execution_count": null,
   "metadata": {},
   "outputs": [],
   "source": []
  },
  {
   "cell_type": "code",
   "execution_count": null,
   "metadata": {},
   "outputs": [],
   "source": []
  },
  {
   "cell_type": "code",
   "execution_count": null,
   "metadata": {},
   "outputs": [],
   "source": []
  }
 ],
 "metadata": {
  "kernelspec": {
   "display_name": "Python 3",
   "language": "python",
   "name": "python3"
  },
  "language_info": {
   "codemirror_mode": {
    "name": "ipython",
    "version": 3
   },
   "file_extension": ".py",
   "mimetype": "text/x-python",
   "name": "python",
   "nbconvert_exporter": "python",
   "pygments_lexer": "ipython3",
   "version": "3.6.3"
  }
 },
 "nbformat": 4,
 "nbformat_minor": 2
}
