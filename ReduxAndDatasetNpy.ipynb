{
 "cells": [
  {
   "cell_type": "code",
   "execution_count": 1,
   "metadata": {
    "collapsed": true
   },
   "outputs": [],
   "source": [
    "path2train = \"/home/e209440/data/train\"\n",
    "path2test = \"/home/e209440/data/test\"\n",
    "path2redux_data = \"/home/e209440/data/redux/my_distract_driver_data_redux.npy\"\n",
    "path2data = \"/home/e209440/data/redux/my_distract_driver_data.npy\""
   ]
  },
  {
   "cell_type": "code",
   "execution_count": 2,
   "metadata": {
    "collapsed": true
   },
   "outputs": [],
   "source": [
    "%matplotlib inline\n",
    "import numpy as np\n",
    "import pandas as pd\n",
    "import seaborn as sns\n",
    "import matplotlib.pyplot as plt\n",
    "\n",
    "from tqdm import tqdm \n",
    "import random\n",
    "\n",
    "import os, glob, math,time\n",
    "from scipy import misc\n",
    "\n",
    "random.seed(7)"
   ]
  },
  {
   "cell_type": "code",
   "execution_count": 3,
   "metadata": {},
   "outputs": [],
   "source": [
    "img_size = 50\n",
    "sz = (img_size, img_size)\n",
    "\n",
    "labels = {'c0' : 'safe driving', \n",
    "'c1' : 'texting - right', \n",
    "'c2' : 'talking on the phone - right', \n",
    "'c3' : 'texting - left', \n",
    "'c4' : 'talking on the phone - left', \n",
    "'c5' : 'operating the radio', \n",
    "'c6' : 'drinking', \n",
    "'c7' : 'reaching behind', \n",
    "'c8' : 'hair and makeup', \n",
    "'c9' : 'talking to passenger'}\n",
    "\n",
    "few_samples = True\n",
    "if few_samples:\n",
    "    n_samples = 200"
   ]
  },
  {
   "cell_type": "code",
   "execution_count": 4,
   "metadata": {
    "collapsed": true
   },
   "outputs": [],
   "source": [
    "def process_image(img_file, sz):\n",
    "    img = misc.imread(img_file)\n",
    "    img = misc.imresize(img, sz).transpose((2,0,1)).astype('float32') / 255.0\n",
    "    #img = img.transpose((2,0,1)).astype('float32') / 255.0\n",
    "    return img"
   ]
  },
  {
   "cell_type": "code",
   "execution_count": 5,
   "metadata": {},
   "outputs": [
    {
     "data": {
      "text/plain": [
       "2317"
      ]
     },
     "execution_count": 5,
     "metadata": {},
     "output_type": "execute_result"
    }
   ],
   "source": [
    "path_folder = os.path.join(path2train,\"c2\", '*.jpg')\n",
    "files = glob.glob(path_folder)\n",
    "len(files)"
   ]
  },
  {
   "cell_type": "code",
   "execution_count": 6,
   "metadata": {
    "collapsed": true,
    "run_control": {
     "marked": false
    }
   },
   "outputs": [],
   "source": [
    "def load_traindata(path, labels):\n",
    "    print('Load train dataset...')\n",
    "    X_train= []\n",
    "    y_train = []\n",
    "    for j in tqdm(labels):\n",
    "        path_folder = os.path.join(path, str(j), '*.jpg')\n",
    "        files = glob.glob(path_folder)\n",
    "#       X_train.extend(process_image(im_file, sz) for im_file in files)\n",
    "#       Y_train.extend([int(j[-1])]*len(files))    \n",
    "        X_train.extend(files)\n",
    "        y_train.extend([int(j[-1])]*len(files))\n",
    "        \n",
    "        \n",
    "#    X_train = np.array(X_train)\n",
    "#    Y_train = np.array(Y_train)\n",
    "    return X_train,y_train"
   ]
  },
  {
   "cell_type": "code",
   "execution_count": 7,
   "metadata": {
    "collapsed": true
   },
   "outputs": [],
   "source": [
    "def load_testdata(path):\n",
    "    print('Load test dataset...')\n",
    "    X_test    = []\n",
    "    \n",
    "    path  = os.path.join(path2test, '*.jpg')\n",
    "    files = glob.glob(path)\n",
    "    \n",
    "    X_test.extend(files)    \n",
    "        \n",
    "#    X_test = np.array(X_test)\n",
    "    \n",
    "    return X_test"
   ]
  },
  {
   "cell_type": "code",
   "execution_count": 8,
   "metadata": {
    "collapsed": true
   },
   "outputs": [],
   "source": [
    "def get_driver_data(path2train, path2test, labels):\n",
    "    \n",
    "    X_train, Y_train = load_traindata(path2train, labels)\n",
    "    X_test = load_testdata(path2test)\n",
    "    \n",
    "    data = {}\n",
    "    data['X_train'] = X_train\n",
    "    data['y_train'] = Y_train\n",
    "    data['X_test'] = X_test\n",
    "#    data['X_test_id'] = X_test_id\n",
    "    return data"
   ]
  },
  {
   "cell_type": "code",
   "execution_count": 9,
   "metadata": {
    "scrolled": true
   },
   "outputs": [
    {
     "name": "stdout",
     "output_type": "stream",
     "text": [
      "Load train dataset...\n"
     ]
    },
    {
     "name": "stderr",
     "output_type": "stream",
     "text": [
      "100%|██████████| 10/10 [00:00<00:00, 49.23it/s]\n"
     ]
    },
    {
     "name": "stdout",
     "output_type": "stream",
     "text": [
      "Load test dataset...\n"
     ]
    }
   ],
   "source": [
    "data = get_driver_data(path2train, path2test, labels)"
   ]
  },
  {
   "cell_type": "code",
   "execution_count": 10,
   "metadata": {},
   "outputs": [
    {
     "data": {
      "text/plain": [
       "(22424, 22424, 79726)"
      ]
     },
     "execution_count": 10,
     "metadata": {},
     "output_type": "execute_result"
    }
   ],
   "source": [
    "len(data['X_train']),len(data['y_train']),len(data['X_test'])"
   ]
  },
  {
   "cell_type": "code",
   "execution_count": 11,
   "metadata": {
    "collapsed": true
   },
   "outputs": [],
   "source": [
    "np.save(path2data,data)"
   ]
  }
 ],
 "metadata": {
  "kernelspec": {
   "display_name": "Python 3",
   "language": "python",
   "name": "python3"
  },
  "language_info": {
   "codemirror_mode": {
    "name": "ipython",
    "version": 3
   },
   "file_extension": ".py",
   "mimetype": "text/x-python",
   "name": "python",
   "nbconvert_exporter": "python",
   "pygments_lexer": "ipython3",
   "version": "3.6.0"
  }
 },
 "nbformat": 4,
 "nbformat_minor": 2
}
