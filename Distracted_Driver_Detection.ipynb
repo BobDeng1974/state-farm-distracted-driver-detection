{
 "cells": [
  {
   "cell_type": "code",
   "execution_count": 39,
   "metadata": {},
   "outputs": [],
   "source": [
    "%matplotlib inline\n",
    "import sys\n",
    "import random\n",
    "from math import floor\n",
    "import numpy as np\n",
    "import numpy.random as nr\n",
    "import pandas as pd\n",
    "import seaborn as sns\n",
    "import matplotlib.pyplot as plt\n",
    "from PIL import Image\n",
    "import os, glob, math,time\n",
    "import multiprocessing\n",
    "\n",
    "from scipy import misc\n",
    "import torch\n",
    "import torch as tc\n",
    "import torch.nn as nn\n",
    "import torch.nn.functional as F\n",
    "import torch.optim as optim\n",
    "import torchvision.transforms as transforms\n",
    "from torchvision import transforms, utils\n",
    "from torchvision import models\n",
    "from torch.utils.data import DataLoader, Dataset, TensorDataset\n",
    "import torchvision\n",
    "\n",
    "import sys\n",
    "sys.path.append('/home/r120084/pytorch_lib/pytorch')\n",
    "sys.path.append('mnt/home/e209440')\n",
    "import lib.pytorch_trainer as ptt\n",
    "\n",
    "from torch.autograd import Variable\n",
    "from torch.utils.data import Dataset, DataLoader\n",
    "from torch.optim.lr_scheduler import StepLR"
   ]
  },
  {
   "cell_type": "code",
   "execution_count": 40,
   "metadata": {},
   "outputs": [
    {
     "name": "stdout",
     "output_type": "stream",
     "text": [
      "GPU available: False\n",
      "cpu_count:  12\n"
     ]
    }
   ],
   "source": [
    "use_gpu = torch.cuda.is_available()\n",
    "print('GPU available:', use_gpu)\n",
    "cpu_count = multiprocessing.cpu_count()\n",
    "print('cpu_count: ', cpu_count)"
   ]
  },
  {
   "cell_type": "markdown",
   "metadata": {},
   "source": [
    "\n",
    "# Choose dataset "
   ]
  },
  {
   "cell_type": "code",
   "execution_count": 41,
   "metadata": {
    "collapsed": true
   },
   "outputs": [],
   "source": [
    "if use_gpu:\n",
    "    path2train = \"/mnt/home/e209440/data/train\"\n",
    "    path2test = \"/mnt/home/e209440/data/test\"\n",
    "else:\n",
    "    path2train = \"/home/r120084/project/data/train\"\n",
    "    path2test = \"/home/r120084/project/data/test\""
   ]
  },
  {
   "cell_type": "code",
   "execution_count": 42,
   "metadata": {
    "collapsed": true
   },
   "outputs": [],
   "source": [
    "labels = {  'c0' : 'safe driving', \n",
    "            'c1' : 'texting - right', \n",
    "            'c2' : 'talking on the phone - right', \n",
    "            'c3' : 'texting - left', \n",
    "            'c4' : 'talking on the phone - left', \n",
    "            'c5' : 'operating the radio', \n",
    "            'c6' : 'drinking', \n",
    "            'c7' : 'reaching behind', \n",
    "            'c8' : 'hair and makeup', \n",
    "            'c9' : 'talking to passenger'}"
   ]
  },
  {
   "cell_type": "code",
   "execution_count": 43,
   "metadata": {
    "collapsed": true
   },
   "outputs": [],
   "source": [
    "def get_traindata_path(path, labels):\n",
    "    print('Loading train dataset...')\n",
    "    X_train= []\n",
    "    y_train = []\n",
    "    ii_n = len(labels)\n",
    "    for i, label in enumerate(labels):\n",
    "        path_folder = os.path.join(path, str(label), '*.jpg')\n",
    "        files = glob.glob(path_folder) \n",
    "        X_train.extend(files)\n",
    "        y_train.extend([int(label[-1])]*len(files))\n",
    "        print('\\rpredict: {}/{}'.format(i, ii_n - 1), end='')\n",
    "    print(' ok')\n",
    "   \n",
    "    return X_train,y_train"
   ]
  },
  {
   "cell_type": "code",
   "execution_count": 44,
   "metadata": {
    "collapsed": true
   },
   "outputs": [],
   "source": [
    "def get_testdata_path(path):\n",
    "    print('\\nLoading test dataset...')\n",
    "    X_test    = []\n",
    "    path  = os.path.join(path2test, '*.jpg')\n",
    "    files = glob.glob(path)\n",
    "    X_test.extend(files)  \n",
    "    print('\\rok')\n",
    "    return X_test"
   ]
  },
  {
   "cell_type": "code",
   "execution_count": 45,
   "metadata": {
    "collapsed": true
   },
   "outputs": [],
   "source": [
    "def get_driver_data(path2train, path2test, labels):\n",
    "    \n",
    "    X_train, Y_train = get_traindata_path(path2train, labels)\n",
    "    X_test = get_testdata_path(path2test)\n",
    "    \n",
    "    data = {}\n",
    "    data['X_train'] = X_train\n",
    "    data['y_train'] = Y_train\n",
    "    data['X_test'] = X_test\n",
    "    return data"
   ]
  },
  {
   "cell_type": "code",
   "execution_count": 46,
   "metadata": {
    "scrolled": false
   },
   "outputs": [
    {
     "name": "stdout",
     "output_type": "stream",
     "text": [
      "Loading train dataset...\n",
      "predict: 9/9 ok\n",
      "\n",
      "Loading test dataset...\n",
      "ok\n"
     ]
    }
   ],
   "source": [
    "data = get_driver_data(path2train, path2test, labels)"
   ]
  },
  {
   "cell_type": "code",
   "execution_count": 47,
   "metadata": {},
   "outputs": [
    {
     "data": {
      "text/plain": [
       "(22424, 22424, 79726)"
      ]
     },
     "execution_count": 47,
     "metadata": {},
     "output_type": "execute_result"
    }
   ],
   "source": [
    "len(data['X_train']),len(data['y_train']),len(data['X_test'])"
   ]
  },
  {
   "cell_type": "markdown",
   "metadata": {},
   "source": [
    "# Dataset Class with split data, transformations and onehot code "
   ]
  },
  {
   "cell_type": "code",
   "execution_count": 48,
   "metadata": {
    "collapsed": true
   },
   "outputs": [],
   "source": [
    "class KaggleSafeDriverDataset(Dataset):\n",
    "    \"\"\"\n",
    "    Arguments:\n",
    "        tmp_data: Dictionary containing paths to all dataset (train and test) \n",
    "        use_only: Percentage of total data that will be used.\n",
    "        transforms: PIL transforms to be perfomed on each item of get_item method\n",
    "        is_test: Test data (boolean)\n",
    "        is_val: Validation data (boolean)\n",
    "        val_size: Size of validation data \n",
    "        \n",
    "        **** The indices of Validation and Train dataset are shuffled****\n",
    "        \n",
    "    \"\"\"\n",
    "\n",
    "    def __init__(self, tmp_data, use_only =1.0, transforms=None, \\\n",
    "                 is_test=False,is_val=False,val_size=0.2):\n",
    "    \n",
    "        self.transform = transforms        \n",
    "        if is_test:\n",
    "            \n",
    "            length = len(tmp_data['X_test'])\n",
    "            only = int(use_only * length)\n",
    "            self.X = tmp_data['X_test'][:only]\n",
    "            \n",
    "            self.y = None # In order to create the Dataloader of test data it has to have a y coordenate.\n",
    "        \n",
    "        else:\n",
    "            \n",
    "            length = len(tmp_data['X_train'])\n",
    "            indices = np.array((range(0,length)))\n",
    "            \n",
    "#            random.seed(62)\n",
    "#            random.shuffle(indices)\n",
    "            nr.seed(4572)\n",
    "            ind = nr.permutation(indices)\n",
    "            \n",
    "            \n",
    "            length = ind.shape[0]\n",
    "#            length = len(indices)\n",
    "            only = int(use_only * length)\n",
    "            \n",
    "            ind = ind[:only]\n",
    "            length = ind.shape[0]\n",
    "             \n",
    "#            indices = indices[:only]\n",
    "#            length = len(indices)\n",
    "    \n",
    "            split = int(val_size * length)\n",
    "            \n",
    "            if is_val:\n",
    "                self.X = [tmp_data['X_train'][i] for i in ind[:split]]\n",
    "                self.y = [tmp_data['y_train'][i] for i in ind[:split]]\n",
    "\n",
    "\n",
    " \n",
    "            else:\n",
    "                self.X = [tmp_data['X_train'][i] for i in ind[split:]]\n",
    "                self.y = [tmp_data['y_train'][i] for i in ind[split:]]\n",
    "\n",
    "    \n",
    "    def __getitem__(self, index):\n",
    "        path = self.X[index]\n",
    "        label = self.y[index]\n",
    "        with open(path, 'rb') as f:\n",
    "            with Image.open(f) as img:\n",
    "                 image = img.convert('RGB')\n",
    "#                arr = np.array(img) / 255. # Normalizing 0 - 1\n",
    " #               image = Image.fromarray(arr.astype('float'),'RGB')\n",
    "        if self.transform is not None:\n",
    "            image = self.transform(image)\n",
    "        return image, label\n",
    "\n",
    "    def __len__(self):\n",
    "        return len(self.X)\n",
    "    "
   ]
  },
  {
   "cell_type": "code",
   "execution_count": 49,
   "metadata": {
    "collapsed": true
   },
   "outputs": [],
   "source": [
    "batch_size = 32\n",
    "img_size ,img_width, img_height = 50, 50, 50\n",
    "use_only = 0.1 # Use only 20% of the full dataset"
   ]
  },
  {
   "cell_type": "code",
   "execution_count": 50,
   "metadata": {
    "collapsed": true
   },
   "outputs": [],
   "source": [
    "def my_transforms(img, img_width=img_width, img_height=img_height):\n",
    "    return img.resize((img_width, img_height))\n",
    "\n",
    "imagenet_mean = np.array([0.485, 0.456, 0.406])\n",
    "imagenet_std  = np.array([0.229, 0.224, 0.225])\n",
    "\n",
    "def denormalize(image, mean=imagenet_mean, std=imagenet_std):\n",
    "    inp = image.transpose((1, 2, 0))  \n",
    "    img = std * inp + mean\n",
    "    return img"
   ]
  },
  {
   "cell_type": "code",
   "execution_count": 51,
   "metadata": {
    "collapsed": true
   },
   "outputs": [],
   "source": [
    "# Data augmentation and normalization for training \n",
    "data_transforms = {\n",
    "    'train': transforms.Compose([\n",
    "        transforms.RandomHorizontalFlip(),\n",
    "        transforms.Lambda(my_transforms),\n",
    "        transforms.ToTensor(),\n",
    "        transforms.Normalize(imagenet_mean, imagenet_std),\n",
    "    ]),\n",
    "    'valid': transforms.Compose([\n",
    "        transforms.Lambda(my_transforms),\n",
    "        transforms.ToTensor(),\n",
    "        transforms.Normalize(imagenet_mean, imagenet_std),\n",
    "    ]),\n",
    "}\n"
   ]
  },
  {
   "cell_type": "code",
   "execution_count": 52,
   "metadata": {
    "collapsed": true
   },
   "outputs": [],
   "source": [
    "dsets = {\n",
    "    'train': KaggleSafeDriverDataset(data, transforms=data_transforms['train'],use_only=use_only),\n",
    "    'valid': KaggleSafeDriverDataset(data, transforms=data_transforms['valid'],use_only=use_only, is_val=True, val_size=0.2),\n",
    "    'test':  KaggleSafeDriverDataset(data, transforms=data_transforms['valid'],use_only=use_only, is_test=True),\n",
    "}"
   ]
  },
  {
   "cell_type": "code",
   "execution_count": 53,
   "metadata": {
    "collapsed": true
   },
   "outputs": [],
   "source": [
    "def _create_dataLoader(dsets, batch_size, cpu_count, pin_memory =  False):\n",
    "\n",
    "    dset_loaders = {}\n",
    "    for key in dsets.keys():\n",
    "        dset_loaders[key] = DataLoader(dsets[key], batch_size=batch_size, shuffle=True, num_workers=2*cpu_count, pin_memory=pin_memory)\n",
    "\n",
    "    return dset_loaders"
   ]
  },
  {
   "cell_type": "code",
   "execution_count": 54,
   "metadata": {
    "collapsed": true
   },
   "outputs": [],
   "source": [
    "dset_loaders = _create_dataLoader(dsets, batch_size, cpu_count)"
   ]
  },
  {
   "cell_type": "code",
   "execution_count": 55,
   "metadata": {},
   "outputs": [
    {
     "data": {
      "text/plain": [
       "(1794, {'test': 7972, 'train': 1794, 'valid': 448})"
      ]
     },
     "execution_count": 55,
     "metadata": {},
     "output_type": "execute_result"
    }
   ],
   "source": [
    "dset_sizes = {x: len(dsets[x]) for x in ['train', 'valid', 'test']}\n",
    "dset_classes = len(dsets['train'].y)\n",
    "dset_classes, dset_sizes\n",
    "\n",
    "# Datates has much more samples than datatrain ***It comes from the test.zip****"
   ]
  },
  {
   "cell_type": "markdown",
   "metadata": {},
   "source": [
    "# Plotting some examples"
   ]
  },
  {
   "cell_type": "code",
   "execution_count": 56,
   "metadata": {
    "collapsed": true
   },
   "outputs": [],
   "source": [
    "def plot_classes(dset_loaders, labels, path2save = './figures/data.png'):\n",
    "\n",
    "    # Get a batch of training data\n",
    "    inputs, cls = next(iter(dset_loaders))\n",
    "    print(inputs[8].shape, cls.shape)\n",
    "    fig = plt.figure(figsize=(15,6))\n",
    "    for i, j in enumerate(range(0,10)):\n",
    "        fig.add_subplot(2,5, i+1)\n",
    "        img = denormalize(inputs.numpy()[j])\n",
    "        img = np.clip(img, 0, 1.0)\n",
    "        plt.imshow(img)\n",
    "        plt.title('{}'.format(labels['c'+str(cls[j])]))\n",
    "        plt.axis('off')\n",
    "    fig.savefig(path2save)"
   ]
  },
  {
   "cell_type": "code",
   "execution_count": 57,
   "metadata": {},
   "outputs": [
    {
     "name": "stdout",
     "output_type": "stream",
     "text": [
      "torch.Size([3, 50, 50]) torch.Size([32])\n"
     ]
    },
    {
     "name": "stderr",
     "output_type": "stream",
     "text": [
      "/home/adessowiki/anaconda3/lib/python3.6/site-packages/matplotlib/font_manager.py:1297: UserWarning: findfont: Font family ['sans-serif'] not found. Falling back to DejaVu Sans\n",
      "  (prop.get_family(), self.defaultFamily[fontext]))\n"
     ]
    },
    {
     "data": {
      "image/png": "[encoded data removed]",
      "text/plain": [
       "<matplotlib.figure.Figure at 0x7fd37b4a7978>"
      ]
     },
     "metadata": {},
     "output_type": "display_data"
    }
   ],
   "source": [
    "plot_classes(dset_loaders['train'], labels)"
   ]
  },
  {
   "cell_type": "code",
   "execution_count": 58,
   "metadata": {
    "collapsed": true
   },
   "outputs": [],
   "source": [
    "def plot_distribution(img):\n",
    "    \n",
    "    if img.shape[2] != 3:\n",
    "        img = img.transpose((1, 2, 0))\n",
    "        \n",
    "    color_lst = ['red', 'green', 'blue']\n",
    "    for i in range(0, img.shape[2]):\n",
    "        c1=img[:,:,i].reshape(-1)\n",
    "        plt.hist(c1, 50, facecolor=color_lst[i], label = color_lst[i])\n",
    "    plt.legend()\n",
    "    plt.grid(True)"
   ]
  },
  {
   "cell_type": "code",
   "execution_count": 59,
   "metadata": {
    "collapsed": true
   },
   "outputs": [],
   "source": [
    "def statistical_analysis_image(dset_loaders, labels, path2save = './figures/distribution.png'):\n",
    "\n",
    "    \n",
    "    fig = plt.figure(figsize=(15,6))\n",
    "    inputs, cls = next(iter(dset_loaders))\n",
    "    rand_idx = random.randrange(0, len(inputs))\n",
    "    img = inputs.numpy()[rand_idx]\n",
    "    img_denorm = denormalize(img)\n",
    "    plt.subplot(2,2,2)\n",
    "    plot_distribution(img_denorm)\n",
    "    plt.title('Image RGB after denormalization')\n",
    "    plt.subplot(2,2,4)\n",
    "    plot_distribution(img)\n",
    "    plt.title('Image RGB normalization')\n",
    "    plt.subplot(1,2,1)\n",
    "    img_denorm = np.clip(img_denorm, 0, 1.0)\n",
    "    plt.imshow(img_denorm)\n",
    "    plt.title('{}'.format(labels['c'+str(cls[rand_idx])]))\n",
    "    plt.axis('off')\n",
    "    fig.savefig(path2save)"
   ]
  },
  {
   "cell_type": "code",
   "execution_count": 60,
   "metadata": {},
   "outputs": [
    {
     "name": "stderr",
     "output_type": "stream",
     "text": [
      "/home/adessowiki/anaconda3/lib/python3.6/site-packages/matplotlib/font_manager.py:1297: UserWarning: findfont: Font family ['sans-serif'] not found. Falling back to DejaVu Sans\n",
      "  (prop.get_family(), self.defaultFamily[fontext]))\n"
     ]
    },
    {
     "data": {
      "image/png": "[encoded data removed]",
      "text/plain": [
       "<matplotlib.figure.Figure at 0x7fd37b78d2b0>"
      ]
     },
     "metadata": {},
     "output_type": "display_data"
    }
   ],
   "source": [
    "statistical_analysis_image(dset_loaders['train'], labels)"
   ]
  },
  {
   "cell_type": "markdown",
   "metadata": {},
   "source": [
    "# Data Analysis"
   ]
  },
  {
   "cell_type": "code",
   "execution_count": 61,
   "metadata": {
    "collapsed": true,
    "run_control": {
     "marked": false
    }
   },
   "outputs": [],
   "source": [
    "def code2label(dataset, labels): \n",
    "    class_str = []\n",
    "    for item in dataset.y:\n",
    "        class_str.append(labels['c'+str(item)])  \n",
    "    return class_str           "
   ]
  },
  {
   "cell_type": "code",
   "execution_count": 62,
   "metadata": {
    "collapsed": true
   },
   "outputs": [],
   "source": [
    "class_str = code2label(dsets['train'], labels)"
   ]
  },
  {
   "cell_type": "code",
   "execution_count": 63,
   "metadata": {},
   "outputs": [
    {
     "name": "stderr",
     "output_type": "stream",
     "text": [
      "/home/adessowiki/anaconda3/lib/python3.6/site-packages/matplotlib/font_manager.py:1297: UserWarning: findfont: Font family ['sans-serif'] not found. Falling back to DejaVu Sans\n",
      "  (prop.get_family(), self.defaultFamily[fontext]))\n"
     ]
    },
    {
     "data": {
      "image/png": "[encoded data removed]",
      "text/plain": [
       "<matplotlib.figure.Figure at 0x7fd37b2b12e8>"
      ]
     },
     "metadata": {},
     "output_type": "display_data"
    }
   ],
   "source": [
    "fig = plt.figure(figsize=(12,8))\n",
    "sns.countplot(x=class_str, palette=\"Greens_d\");\n",
    "plt.xlabel(\"Classes\", fontsize=12)\n",
    "plt.ylabel('Counts', fontsize=12)\n",
    "plt.xticks(rotation=90)\n",
    "plt.title(\"Classes Distribution\", fontsize=15)\n",
    "plt.show()\n",
    "path2save = './figures/distribution_classes.png'\n",
    "fig.savefig(path2save)"
   ]
  },
  {
   "cell_type": "code",
   "execution_count": 64,
   "metadata": {
    "collapsed": true
   },
   "outputs": [],
   "source": [
    "nb_out = len(set(class_str))"
   ]
  },
  {
   "cell_type": "code",
   "execution_count": 65,
   "metadata": {
    "collapsed": true
   },
   "outputs": [],
   "source": [
    "class MyResNetConv(torchvision.models.ResNet):\n",
    "    def __init__(self, fixed_extractor = True):\n",
    "        super().__init__(torchvision.models.resnet.BasicBlock, [2, 2, 2, 2])\n",
    "        self.load_state_dict(torch.utils.model_zoo.load_url(\n",
    "            'https://download.pytorch.org/models/resnet18-5c106cde.pth'))\n",
    "        \n",
    "        del self.layer2\n",
    "        del self.layer3\n",
    "        del self.layer4\n",
    "        del self.fc\n",
    "        \n",
    "        if fixed_extractor:\n",
    "            for param in self.parameters():\n",
    "                param.requires_grad = False\n",
    "\n",
    "    def forward(self, x):\n",
    "        x = self.conv1(x)\n",
    "        x = self.bn1(x)\n",
    "        x = self.relu(x)\n",
    "        x = self.maxpool(x)\n",
    "        x = self.layer1(x)\n",
    "        x = self.avgpool(x)\n",
    "        x = x.view(x.size(0), -1)\n",
    "        return x\n",
    "\n",
    "class MyResNetDens(torch.nn.Module):\n",
    "    def __init__(self):\n",
    "        super().__init__()\n",
    "        self.dens1 = torch.nn.Linear(in_features=64, out_features=32)\n",
    "        self.dens2 = torch.nn.Linear(in_features=32, out_features=nb_out)\n",
    "    def forward(self, x):\n",
    "        x = self.dens1(x)\n",
    "        x = torch.nn.functional.selu(x)\n",
    "        x = self.dens2(x)\n",
    "        return x\n",
    "\n",
    "class MyResNet(torch.nn.Module):\n",
    "    def __init__(self):\n",
    "        super().__init__()\n",
    "        self.mrnc = MyResNetConv()\n",
    "        self.mrnd = MyResNetDens()\n",
    "    def forward(self, x):\n",
    "        x = self.mrnc(x)\n",
    "        x = self.mrnd(x)\n",
    "        return x"
   ]
  },
  {
   "cell_type": "markdown",
   "metadata": {},
   "source": [
    "# Verificando disponibilidade de recursos"
   ]
  },
  {
   "cell_type": "code",
   "execution_count": 137,
   "metadata": {
    "scrolled": true
   },
   "outputs": [
    {
     "name": "stdout",
     "output_type": "stream",
     "text": [
      "              total        used        free      shared  buff/cache   available\r\n",
      "Mem:           220G         17G        168G         58M         34G        200G\r\n",
      "Swap:            0B          0B          0B\r\n"
     ]
    }
   ],
   "source": [
    "!free -h"
   ]
  },
  {
   "cell_type": "code",
   "execution_count": 138,
   "metadata": {
    "scrolled": true
   },
   "outputs": [
    {
     "name": "stdout",
     "output_type": "stream",
     "text": [
      "Sat Nov 11 22:36:40 2017       \n",
      "+-----------------------------------------------------------------------------+\n",
      "| NVIDIA-SMI 384.90                 Driver Version: 384.90                    |\n",
      "|-------------------------------+----------------------+----------------------+\n",
      "| GPU  Name        Persistence-M| Bus-Id        Disp.A | Volatile Uncorr. ECC |\n",
      "| Fan  Temp  Perf  Pwr:Usage/Cap|         Memory-Usage | GPU-Util  Compute M. |\n",
      "|===============================+======================+======================|\n",
      "|   0  Tesla K80           Off  | 00003609:00:00.0 Off |                    0 |\n",
      "| N/A   41C    P0    72W / 149W |   4967MiB / 11439MiB |      0%      Default |\n",
      "+-------------------------------+----------------------+----------------------+\n",
      "|   1  Tesla K80           Off  | 00004BDC:00:00.0 Off |                    0 |\n",
      "| N/A   41C    P8    26W / 149W |     11MiB / 11439MiB |      0%      Default |\n",
      "+-------------------------------+----------------------+----------------------+\n",
      "|   2  Tesla K80           Off  | 00006ABF:00:00.0 Off |                    0 |\n",
      "| N/A   30C    P8    26W / 149W |     11MiB / 11439MiB |      0%      Default |\n",
      "+-------------------------------+----------------------+----------------------+\n",
      "|   3  Tesla K80           Off  | 00008660:00:00.0 Off |                    0 |\n",
      "| N/A   26C    P8    33W / 149W |     11MiB / 11439MiB |      0%      Default |\n",
      "+-------------------------------+----------------------+----------------------+\n",
      "                                                                               \n",
      "+-----------------------------------------------------------------------------+\n",
      "| Processes:                                                       GPU Memory |\n",
      "|  GPU       PID   Type   Process name                             Usage      |\n",
      "|=============================================================================|\n",
      "|    0     37730      C   /usr/local/bin/python3.6                     350MiB |\n",
      "|    0     55937      C   /usr/local/bin/python3.6                    3949MiB |\n",
      "+-----------------------------------------------------------------------------+\n"
     ]
    }
   ],
   "source": [
    "!nvidia-smi"
   ]
  },
  {
   "cell_type": "code",
   "execution_count": null,
   "metadata": {
    "collapsed": true
   },
   "outputs": [],
   "source": [
    "model = MyResNet()\n",
    "if use_gpu:\n",
    "    model.cuda()\n",
    "    !free -h\n",
    "    !nvidia-smi\n",
    "    model = torch.nn.DataParallel(MyResNet())"
   ]
  },
  {
   "cell_type": "code",
   "execution_count": null,
   "metadata": {
    "collapsed": true
   },
   "outputs": [],
   "source": [
    "print(model)"
   ]
  },
  {
   "cell_type": "code",
   "execution_count": null,
   "metadata": {
    "collapsed": true
   },
   "outputs": [],
   "source": [
    "def predict_convolutional(dset_loaders, model, get_labels = False):\n",
    "\n",
    "    predictions = []\n",
    "    labels_lst = []\n",
    "    ii_n = len(dset_loaders)\n",
    "\n",
    "    for i, (inputs, labels) in enumerate(dset_loaders):\n",
    "        if use_gpu:\n",
    "            inputs = inputs.cuda()\n",
    "            labels = labels.cuda()\n",
    "        inputs = Variable(inputs)\n",
    "        predictions.append(model(inputs).data)\n",
    "        if get_labels:\n",
    "            labels_lst.append(labels)\n",
    "\n",
    "        print('\\rpredict: {}/{}'.format(i, ii_n - 1), end='')\n",
    "    print(' ok')\n",
    "    if len(predictions) > 0:\n",
    "        return {'input': torch.cat(predictions, 0), 'ouput':torch.cat(labels_lst, 0) }"
   ]
  },
  {
   "cell_type": "code",
   "execution_count": null,
   "metadata": {
    "collapsed": true
   },
   "outputs": [],
   "source": [
    "convOutput_train = predict_convolutional(dset_loaders['train'], model.mrnc, get_labels= True)\n",
    "convOutput_valid = predict_convolutional(dset_loaders['valid'], model.mrnc, get_labels= True)"
   ]
  },
  {
   "cell_type": "code",
   "execution_count": null,
   "metadata": {
    "collapsed": true
   },
   "outputs": [],
   "source": [
    "print(convOutput_train['input'].size(), convOutput_train['ouput'].size())\n",
    "print(convOutput_valid['input'].size(), convOutput_valid['ouput'].size())"
   ]
  },
  {
   "cell_type": "code",
   "execution_count": null,
   "metadata": {
    "collapsed": true
   },
   "outputs": [],
   "source": [
    "conv_dset ={\n",
    "    'train': TensorDataset(convOutput_train['input'], convOutput_train['ouput']),\n",
    "    'valid': TensorDataset(convOutput_valid['input'], convOutput_valid['ouput'])\n",
    "} "
   ]
  },
  {
   "cell_type": "code",
   "execution_count": null,
   "metadata": {
    "collapsed": true
   },
   "outputs": [],
   "source": [
    "dset_loaders_convnet = _create_dataLoader(conv_dset, batch_size, cpu_count)"
   ]
  },
  {
   "cell_type": "code",
   "execution_count": null,
   "metadata": {
    "collapsed": true
   },
   "outputs": [],
   "source": [
    "optimizer =  optim.Adam(model.mrnd.parameters(), lr=1e-3)\n",
    "scheduler = StepLR(optimizer, step_size=5, gamma=0.75)\n",
    "loss_fn = nn.CrossEntropyLoss()\n",
    "num_epochs = 10"
   ]
  },
  {
   "cell_type": "code",
   "execution_count": 66,
   "metadata": {
    "collapsed": true
   },
   "outputs": [],
   "source": [
    "path2saveModel = '/home/r120084/project/models/distractdriver'\n",
    "savebest = ptt.ModelCheckpoint(path2saveModel,reset=False, verbose=1)"
   ]
  },
  {
   "cell_type": "code",
   "execution_count": null,
   "metadata": {
    "collapsed": true
   },
   "outputs": [],
   "source": [
    "params = {'model' : model.mrnd, \n",
    "    'criterion': loss_fn,  \n",
    "    'optimizer': optimizer, \n",
    "    'callbacks': [savebest,  ptt.PrintCallback()] #ptt.PlotCallback(),\n",
    "        }"
   ]
  },
  {
   "cell_type": "code",
   "execution_count": null,
   "metadata": {
    "collapsed": true
   },
   "outputs": [],
   "source": [
    "trainer = ptt.DeepNetTrainer(**params)"
   ]
  },
  {
   "cell_type": "code",
   "execution_count": null,
   "metadata": {
    "collapsed": true
   },
   "outputs": [],
   "source": [
    "trainer.fit_loader(200, dset_loaders_convnet['train'], dset_loaders_convnet['valid'])"
   ]
  },
  {
   "cell_type": "code",
   "execution_count": null,
   "metadata": {
    "collapsed": true
   },
   "outputs": [],
   "source": [
    "if use_gpu:\n",
    "    !free -h\n",
    "    !nvidia-smi"
   ]
  },
  {
   "cell_type": "code",
   "execution_count": null,
   "metadata": {
    "collapsed": true
   },
   "outputs": [],
   "source": [
    "path2save = './figures/results_metrics.png'\n",
    "\n",
    "fig = plt.figure(figsize=(10,5))\n",
    "metrics_map = {'losses': 'Loss', 'acc': 'Acuracy'}\n",
    "\n",
    "metrics_eval_nb = len(trainer.metrics['train'].keys())\n",
    "count = 1\n",
    "for metric in trainer.metrics['train'].keys():\n",
    "    plt.subplot(1,metrics_eval_nb, count)\n",
    "    plt.plot(trainer.metrics['train'][metric], 'ob', label = 'train')\n",
    "    plt.plot(trainer.metrics['valid'][metric], 'or', label = 'valid')\n",
    "    count += 1\n",
    "    plt.xlabel('Epochs', fontsize = 12)\n",
    "    plt.ylabel(metrics_map[metric], fontsize = 12)\n",
    "    plt.title(metrics_map[metric] + \" during the model's training\", fontsize = 16)\n",
    "    plt.legend()\n",
    "fig.savefig(path2save)"
   ]
  },
  {
   "cell_type": "code",
   "execution_count": null,
   "metadata": {
    "collapsed": true
   },
   "outputs": [],
   "source": [
    "train_eval = trainer.evaluate_loader(dset_loaders_convnet['train'])\n",
    "valid_eval = trainer.evaluate_loader(dset_loaders_convnet['valid'])"
   ]
  },
  {
   "cell_type": "code",
   "execution_count": null,
   "metadata": {
    "collapsed": true
   },
   "outputs": [],
   "source": [
    "train_eval, valid_eval"
   ]
  },
  {
   "cell_type": "code",
   "execution_count": null,
   "metadata": {
    "collapsed": true
   },
   "outputs": [],
   "source": [
    "def predict_images(dset):\n",
    "\n",
    "    output_true = []\n",
    "    output_pred_lst = []\n",
    "    correct = 0\n",
    "    for i, (inputs, outputs) in enumerate(dset):\n",
    "        if use_gpu:\n",
    "            inputs = inputs.cuda()\n",
    "            outputs = outputs.cuda()\n",
    "        output_pred = trainer.predict(inputs)      \n",
    "        _, predicted = torch.max(output_pred, 0)\n",
    "        predicted = predicted.numpy()\n",
    "        correct += (predicted == outputs)\n",
    "        output_pred_lst.append(predicted[0])\n",
    "        output_true.append(outputs)\n",
    "    output_pred_lst = np.array(output_pred_lst)\n",
    "    output_true = np.array(output_true)\n",
    "\n",
    "    result = {'true': output_true, 'pred': output_pred_lst}\n",
    "    return result"
   ]
  },
  {
   "cell_type": "code",
   "execution_count": null,
   "metadata": {
    "collapsed": true
   },
   "outputs": [],
   "source": [
    "result_train = predict_images(conv_dset['train'])\n",
    "result_valid = predict_images(conv_dset['valid'])"
   ]
  },
  {
   "cell_type": "code",
   "execution_count": null,
   "metadata": {
    "collapsed": true
   },
   "outputs": [],
   "source": [
    "correct_train = (result_train['true'] == result_train['pred']).sum()\n",
    "correct_valid = (result_valid['true'] == result_valid['pred']).sum()"
   ]
  },
  {
   "cell_type": "code",
   "execution_count": null,
   "metadata": {
    "collapsed": true
   },
   "outputs": [],
   "source": [
    "print('Train: ', correct_train, '/', len(conv_dset['train']) )\n",
    "print('Valid: ', correct_valid, '/', len(conv_dset['valid']) )"
   ]
  },
  {
   "cell_type": "code",
   "execution_count": null,
   "metadata": {
    "collapsed": true
   },
   "outputs": [],
   "source": [
    "lst_correct = np.where(result_train['true'] == result_train['pred'])[0]\n",
    "lst_incorrect = np.where(result_train['true'] != result_train['pred'])[0]"
   ]
  },
  {
   "cell_type": "code",
   "execution_count": null,
   "metadata": {
    "collapsed": true
   },
   "outputs": [],
   "source": [
    "def visualize_predictions(dsets, lst, path2save = []):\n",
    "\n",
    "    fig = plt.figure(figsize=(15,6))\n",
    "    for i, j in enumerate(range(0,4)):\n",
    "        fig.add_subplot(1,4, i+1)\n",
    "        (inputs, output) = dsets[lst[j]]\n",
    "        img = denormalize(inputs.numpy())\n",
    "        img = np.clip(img, 0, 1.0)\n",
    "        plt.imshow(img)\n",
    "        #plt.title('{0} / {1}'.format(labels['c'+str(output)],  labels[('c'+str(result_train['pred'][lst[j]]))]))    \n",
    "        plt.title('{0} / {1}'.format(('c'+str(output)),  ('c'+str(result_train['pred'][lst[j]]))))    \n",
    "        plt.axis('off')\n",
    "    if len(path2save) !=0:\n",
    "        fig.savefig(path2save)"
   ]
  },
  {
   "cell_type": "code",
   "execution_count": null,
   "metadata": {
    "collapsed": true
   },
   "outputs": [],
   "source": [
    "visualize_predictions(dsets['train'], lst_correct)"
   ]
  },
  {
   "cell_type": "code",
   "execution_count": null,
   "metadata": {
    "collapsed": true
   },
   "outputs": [],
   "source": [
    "visualize_predictions(dsets['train'], lst_incorrect)"
   ]
  },
  {
   "cell_type": "code",
   "execution_count": null,
   "metadata": {
    "collapsed": true
   },
   "outputs": [],
   "source": [
    "def plot_confusion(results):\n",
    "    mc = np.array(pd.crosstab(results['pred'], results['true']))\n",
    "    plt.imshow(mc/mc.sum(axis=1))\n",
    "    plt.colorbar()\n",
    "    plt.axis('off')"
   ]
  },
  {
   "cell_type": "code",
   "execution_count": null,
   "metadata": {
    "collapsed": true
   },
   "outputs": [],
   "source": [
    "plt.figure(figsize=(20,5))\n",
    "plt.subplot(1,2,1)\n",
    "plot_confusion(result_train)\n",
    "plt.title('Train dataset')\n",
    "plt.subplot(1,2,2)\n",
    "plot_confusion(result_valid)\n",
    "plt.title('Valid dataset')"
   ]
  },
  {
   "cell_type": "code",
   "execution_count": null,
   "metadata": {
    "collapsed": true
   },
   "outputs": [],
   "source": [
    "def plot_layers_weight(conv_model = model.mrnc, ncols = 8, H = 14, W=30):\n",
    "\n",
    "\n",
    "    rand_idx = random.randrange(0, len(dsets['train']))\n",
    "    input, _ = dsets['train'][rand_idx]\n",
    "    input = input.view(1, 3, 50, 50)\n",
    "\n",
    "    if use_gpu:\n",
    "        x = Variable(input.cuda())\n",
    "    else:\n",
    "        x = Variable(input)\n",
    "\n",
    "\n",
    "    for name, layer in conv_model.named_children():\n",
    "        x = layer(x)\n",
    "        grid = torchvision.utils.make_grid(torch.transpose(x.data, 0, 1), normalize=True, \n",
    "                                           pad_value=1.0, padding=1).cpu().numpy()\n",
    "\n",
    "        if name == 'max_pool':\n",
    "            H /= 3/2\n",
    "            W /= 3/2\n",
    "        fig = plt.figure(figsize=(H,W))\n",
    "        plt.imshow(grid.transpose((1,2,0)))\n",
    "        plt.title(name)\n",
    "        plt.axis('off')\n",
    "        plt.show()"
   ]
  },
  {
   "cell_type": "code",
   "execution_count": null,
   "metadata": {
    "collapsed": true
   },
   "outputs": [],
   "source": [
    "plot_layers_weight()"
   ]
  },
  {
   "cell_type": "code",
   "execution_count": null,
   "metadata": {
    "collapsed": true
   },
   "outputs": [],
   "source": []
  }
 ],
 "metadata": {
  "kernelspec": {
   "display_name": "Python 3",
   "language": "python",
   "name": "python3"
  },
  "language_info": {
   "codemirror_mode": {
    "name": "ipython",
    "version": 3
   },
   "file_extension": ".py",
   "mimetype": "text/x-python",
   "name": "python",
   "nbconvert_exporter": "python",
   "pygments_lexer": "ipython3",
   "version": "3.6.0"
  }
 },
 "nbformat": 4,
 "nbformat_minor": 2
}
