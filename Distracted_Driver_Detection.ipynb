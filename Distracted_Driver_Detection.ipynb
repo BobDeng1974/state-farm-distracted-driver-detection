{
 "cells": [
  {
   "cell_type": "code",
   "execution_count": 1,
   "metadata": {
    "collapsed": true
   },
   "outputs": [],
   "source": [
    "%matplotlib inline\n",
    "import random\n",
    "from math import floor\n",
    "import numpy as np\n",
    "import pandas as pd\n",
    "import seaborn as sns\n",
    "import matplotlib.pyplot as plt\n",
    "\n",
    "import os, glob, math,time\n",
    "from scipy import misc\n",
    "\n",
    "import torch as tc\n",
    "import torch.nn as nn\n",
    "import torch.nn.functional as F\n",
    "import torch.optim as optim\n",
    "import torchvision.transforms as transforms\n",
    "from torchvision import transforms, utils\n",
    "from PIL import Image\n",
    "\n",
    "\n",
    "from torch.autograd import Variable\n",
    "from torch.utils.data import Dataset, DataLoader\n",
    "from torch.optim.lr_scheduler import StepLR\n",
    "\n",
    "from tqdm import tqdm \n",
    "from sklearn.preprocessing import MultiLabelBinarizer\n"
   ]
  },
  {
   "cell_type": "markdown",
   "metadata": {},
   "source": [
    "\n",
    "# Choose  dataset"
   ]
  },
  {
   "cell_type": "code",
   "execution_count": 2,
   "metadata": {
    "collapsed": true
   },
   "outputs": [],
   "source": [
    "path2redux_data = \"/home/e209440/data/redux/my_distract_driver_data_redux.npy\" # 250 images\n",
    "#path2data = \"/home/e209440/data/my_distract_driver_data.npy\""
   ]
  },
  {
   "cell_type": "markdown",
   "metadata": {},
   "source": [
    "# Dataset Class with with split and transformations"
   ]
  },
  {
   "cell_type": "code",
   "execution_count": 3,
   "metadata": {
    "collapsed": true
   },
   "outputs": [],
   "source": [
    "class KaggleSafeDriverDataset(Dataset):\n",
    "    \"\"\"\n",
    "    Arguments:\n",
    "        Path to data (redux or not)\n",
    "        PIL transforms\n",
    "        Test data (boolean)\n",
    "        Validation data (boolean)\n",
    "        Size of validation data \n",
    "        Shuffle indices of validation and Train\n",
    "        \n",
    "    \"\"\"\n",
    "\n",
    "    def __init__(self, data_path, transform=None, is_test=False,is_val=False,val_size=0.2,shuffle =True):\n",
    "    \n",
    "        self.data = np.load(data_path).item()\n",
    "\n",
    "        self.transform = transform\n",
    "        self.mlb = MultiLabelBinarizer()\n",
    "        \n",
    "        if is_test:\n",
    "            self.X = self.data['X_test']\n",
    "            self.y = tc.from_numpy(np.zeros(self.X.shape)).type(tc.FloatTensor) #Gambiarra para poder criar DataSet do Test.\n",
    "        \n",
    "        else:\n",
    "            length = self.data['X_train'].shape[0]\n",
    "            indices = list(range(1,length))\n",
    "            split = floor(val_size * length)\n",
    "            \n",
    "            if shuffle :\n",
    "                random.seed(378792)\n",
    "                random.shuffle(indices)\n",
    "            \n",
    "            indtr = indices[split:]\n",
    "            indval = indices[:split]\n",
    "            \n",
    "            \n",
    "            if is_val:\n",
    "                \n",
    "                self.X= self.data['X_train'].take(indval,axis=0)\n",
    "                self.y = self.mlb.fit_transform(enumerate(self.data['Y_train'].take(indval,axis=0))).astype(np.float32)\n",
    "            \n",
    "            else:\n",
    "                self.X= self.data['X_train'].take(indtr,axis=0)\n",
    "                self.y = self.mlb.fit_transform(enumerate(self.data['Y_train'].take(indtr,axis=0))).astype(np.float32)\n",
    "    \n",
    "   \n",
    "    def __getitem__(self, index):\n",
    "        img = Image.open(self.X[index])\n",
    "        if self.transform is not None:\n",
    "            img = self.transform(img)\n",
    "        \n",
    "        label = torch.from_numpy(self.y[index])\n",
    "        return img, label\n",
    "\n",
    "    def __len__(self):\n",
    "        return len(self.X)\n",
    "    "
   ]
  },
  {
   "cell_type": "code",
   "execution_count": 4,
   "metadata": {},
   "outputs": [],
   "source": [
    "transformations = transforms.ToTensor()\n",
    "\n",
    "trainset = KaggleSafeDriverDataset(path2redux_data,transformations)"
   ]
  },
  {
   "cell_type": "code",
   "execution_count": 5,
   "metadata": {},
   "outputs": [],
   "source": [
    "testset= KaggleSafeDriverDataset(path2redux_data,transformations,is_test=True)"
   ]
  },
  {
   "cell_type": "code",
   "execution_count": 6,
   "metadata": {
    "collapsed": true
   },
   "outputs": [],
   "source": [
    "valset= KaggleSafeDriverDataset(path2redux_data,transformations,is_val=True)"
   ]
  },
  {
   "cell_type": "code",
   "execution_count": 7,
   "metadata": {
    "scrolled": true
   },
   "outputs": [
    {
     "data": {
      "text/plain": [
       "((199, 3, 50, 50), (199, 199), (250, 3, 50, 50))"
      ]
     },
     "execution_count": 7,
     "metadata": {},
     "output_type": "execute_result"
    }
   ],
   "source": [
    "trainset.X.shape,trainset.y.shape,testset.X.shape"
   ]
  },
  {
   "cell_type": "code",
   "execution_count": 8,
   "metadata": {},
   "outputs": [
    {
     "data": {
      "text/plain": [
       "((50, 3, 50, 50), (50, 50))"
      ]
     },
     "execution_count": 8,
     "metadata": {},
     "output_type": "execute_result"
    }
   ],
   "source": [
    "valset.X.shape, valset.y.shape"
   ]
  },
  {
   "cell_type": "code",
   "execution_count": 9,
   "metadata": {},
   "outputs": [],
   "source": [
    "train_loader = DataLoader(trainset,\n",
    "                          batch_size=256,\n",
    "                          shuffle=True,\n",
    "                          num_workers=4 # 1 for CUDA\n",
    "                         # pin_memory=True # CUDA only\n",
    "                         )\n",
    "\n",
    "train_loader = DataLoader(valset,\n",
    "                          batch_size=256,\n",
    "                          shuffle=True,\n",
    "                          num_workers=4 # 1 for CUDA\n",
    "                         # pin_memory=True # CUDA only\n",
    "                         )\n",
    "\n",
    "\n",
    "test_loader = DataLoader(testset,\n",
    "                          batch_size=256,\n",
    "                          shuffle=False,\n",
    "                          num_workers=4 # 1 for CUDA\n",
    "                         # pin_memory=True # CUDA only\n",
    "                         )"
   ]
  },
  {
   "cell_type": "markdown",
   "metadata": {},
   "source": [
    "# Plotting some examples"
   ]
  },
  {
   "cell_type": "code",
   "execution_count": 10,
   "metadata": {
    "collapsed": true,
    "run_control": {
     "marked": false
    }
   },
   "outputs": [],
   "source": [
    "# Stub function \n",
    "\n",
    "# We need to adjust it to get images from either the test_loader(DataLoader) or trainset(Dataset)\n",
    "\n",
    "# There is an example in https://t-adessowiki.fee.unicamp.br/user/e209440/notebooks/ia368z_2s2017/lotufo/ia368z/deliver-pytorch/Cats_and_dogs.ipynb\n",
    "\n",
    "def plot_classes(labels, X, Y, img_size):\n",
    " \"\"\"    #plt.figure(figsize=(20,10))\n",
    "    size_subp= len(labels)\n",
    "    cnt=1\n",
    "    for i in labels:\n",
    "        plt.figure()\n",
    "        ix = random.randint(0, len(np.where(Y==str(i))[0]))\n",
    "        ind = np.where(Y==int(i[-1]))[0][ix]\n",
    "        image = X[ind].reshape(3,img_size,img_size).transpose((1,2,0))\n",
    "        #plt.subplot(5,2, cnt)\n",
    "        plt.imshow(image, cmap=plt.cm.gray_r)\n",
    "        plt.axis('off')\n",
    "        plt.title(labels[i])\n",
    "        cnt +=1 \n",
    " \"\"\"        "
   ]
  },
  {
   "cell_type": "code",
   "execution_count": 12,
   "metadata": {
    "collapsed": true
   },
   "outputs": [],
   "source": [
    "#plot_classes(labels, data['X_train'], data['Y_train'], img_size)"
   ]
  }
 ],
 "metadata": {
  "kernelspec": {
   "display_name": "Python 3",
   "language": "python",
   "name": "python3"
  },
  "language_info": {
   "codemirror_mode": {
    "name": "ipython",
    "version": 3
   },
   "file_extension": ".py",
   "mimetype": "text/x-python",
   "name": "python",
   "nbconvert_exporter": "python",
   "pygments_lexer": "ipython3",
   "version": "3.6.0"
  }
 },
 "nbformat": 4,
 "nbformat_minor": 2
}
