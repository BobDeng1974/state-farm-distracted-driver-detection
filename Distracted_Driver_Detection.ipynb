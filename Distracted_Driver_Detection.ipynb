{
 "cells": [
  {
   "cell_type": "code",
   "execution_count": 1,
   "metadata": {
    "collapsed": true
   },
   "outputs": [],
   "source": [
    "%matplotlib inline\n",
    "import random\n",
    "from math import floor\n",
    "import numpy as np\n",
    "import pandas as pd\n",
    "import seaborn as sns\n",
    "import matplotlib.pyplot as plt\n",
    "\n",
    "import os, glob, math,time\n",
    "from scipy import misc\n",
    "\n",
    "import torch as tc\n",
    "import torch.nn as nn\n",
    "import torch.nn.functional as F\n",
    "import torch.optim as optim\n",
    "import torchvision.transforms as transforms\n",
    "from torchvision import transforms, utils\n",
    "from PIL import Image\n",
    "\n",
    "\n",
    "from torch.autograd import Variable\n",
    "from torch.utils.data import Dataset, DataLoader\n",
    "from torch.optim.lr_scheduler import StepLR\n",
    "\n",
    "from tqdm import tqdm \n",
    "from sklearn.preprocessing import MultiLabelBinarizer\n"
   ]
  },
  {
   "cell_type": "markdown",
   "metadata": {},
   "source": [
    "\n",
    "# Choose dataset "
   ]
  },
  {
   "cell_type": "code",
   "execution_count": 2,
   "metadata": {
    "collapsed": true
   },
   "outputs": [],
   "source": [
    "path2redux_data = \"/home/e209440/data/redux/my_distract_driver_data_redux.npy\" # 250 images\n",
    "path2data = \"/home/e209440/data/my_distract_driver_data.npy\""
   ]
  },
  {
   "cell_type": "markdown",
   "metadata": {},
   "source": [
    "# Dataset Class with with split and transformations"
   ]
  },
  {
   "cell_type": "code",
   "execution_count": 3,
   "metadata": {
    "collapsed": true
   },
   "outputs": [],
   "source": [
    "class KaggleSafeDriverDataset(Dataset):\n",
    "    \"\"\"\n",
    "    Arguments:\n",
    "        Path to data (redux or not)\n",
    "        PIL transforms\n",
    "        Test data (boolean)\n",
    "        Validation data (boolean)\n",
    "        Size of validation data \n",
    "        Shuffle indices of validation and Train\n",
    "        \n",
    "    \"\"\"\n",
    "\n",
    "    def __init__(self, data_path, transform=None, is_test=False,is_val=False,val_size=0.2,shuffle =True):\n",
    "    \n",
    "        self.data = np.load(data_path).item()\n",
    "\n",
    "        self.transform = transform\n",
    "        self.mlb = MultiLabelBinarizer()\n",
    "        \n",
    "        if is_test:\n",
    "            self.X = self.data['X_test']\n",
    "            self.y = tc.from_numpy(np.zeros(self.X.shape)).type(tc.FloatTensor) #Gambiarra para poder criar DataSet do Test.\n",
    "        \n",
    "        else:\n",
    "            length = self.data['X_train'].shape[0]\n",
    "            indices = list(range(1,length))\n",
    "            split = floor(val_size * length)\n",
    "            \n",
    "            if shuffle :\n",
    "                random.seed(378792)\n",
    "                random.shuffle(indices)\n",
    "            \n",
    "            indtr = indices[split:]\n",
    "            indval = indices[:split]\n",
    "            \n",
    "            \n",
    "            if is_val:\n",
    "                \n",
    "                self.X= self.data['X_train'].take(indval,axis=0)\n",
    "                self.y = self.mlb.fit_transform((self.data['Y_train'].take(indval,axis=0)).reshape(-1,1)).astype(np.float32)\n",
    "            \n",
    "            else:\n",
    "                self.X= self.data['X_train'].take(indtr,axis=0)\n",
    "                self.y = self.mlb.fit_transform((self.data['Y_train'].take(indtr,axis=0)).reshape(-1,1)).astype(np.float32)\n",
    "    \n",
    "   \n",
    "    def __getitem__(self, index):\n",
    "        img = Image.open(self.X[index])\n",
    "        if self.transform is not None:\n",
    "            img = self.transform(img)\n",
    "        \n",
    "        label = torch.from_numpy(self.y[index])\n",
    "        return img, label\n",
    "\n",
    "    def __len__(self):\n",
    "        return len(self.X)\n",
    "    "
   ]
  },
  {
   "cell_type": "code",
   "execution_count": 4,
   "metadata": {},
   "outputs": [],
   "source": [
    "transformations = transforms.ToTensor()\n",
    "\n",
    "trainset = KaggleSafeDriverDataset(path2redux_data,transformations)"
   ]
  },
  {
   "cell_type": "code",
   "execution_count": 5,
   "metadata": {
    "collapsed": true
   },
   "outputs": [],
   "source": [
    "testset= KaggleSafeDriverDataset(path2redux_data,transformations,is_test=True)"
   ]
  },
  {
   "cell_type": "code",
   "execution_count": 6,
   "metadata": {
    "collapsed": true
   },
   "outputs": [],
   "source": [
    "valset= KaggleSafeDriverDataset(path2redux_data,transformations,is_val=True)"
   ]
  },
  {
   "cell_type": "code",
   "execution_count": 7,
   "metadata": {
    "scrolled": true
   },
   "outputs": [
    {
     "data": {
      "text/plain": [
       "((199, 3, 50, 50), (199, 10), (250, 3, 50, 50))"
      ]
     },
     "execution_count": 7,
     "metadata": {},
     "output_type": "execute_result"
    }
   ],
   "source": [
    "trainset.X.shape,trainset.y.shape,testset.X.shape"
   ]
  },
  {
   "cell_type": "code",
   "execution_count": 8,
   "metadata": {},
   "outputs": [
    {
     "data": {
      "text/plain": [
       "((50, 3, 50, 50), (50, 10))"
      ]
     },
     "execution_count": 8,
     "metadata": {},
     "output_type": "execute_result"
    }
   ],
   "source": [
    "valset.X.shape, valset.y.shape"
   ]
  },
  {
   "cell_type": "code",
   "execution_count": 9,
   "metadata": {
    "collapsed": true
   },
   "outputs": [],
   "source": [
    "train_loader = DataLoader(trainset,\n",
    "                          batch_size=256,\n",
    "                          shuffle=True,\n",
    "                          num_workers=4 # 1 for CUDA\n",
    "                         # pin_memory=True # CUDA only\n",
    "                         )\n",
    "\n",
    "train_loader = DataLoader(valset,\n",
    "                          batch_size=256,\n",
    "                          shuffle=True,\n",
    "                          num_workers=4 # 1 for CUDA\n",
    "                         # pin_memory=True # CUDA only\n",
    "                         )\n",
    "\n",
    "\n",
    "test_loader = DataLoader(testset,\n",
    "                          batch_size=256,\n",
    "                          shuffle=False,\n",
    "                          num_workers=4 # 1 for CUDA\n",
    "                         # pin_memory=True # CUDA only\n",
    "                         )"
   ]
  },
  {
   "cell_type": "markdown",
   "metadata": {},
   "source": [
    "# Plotting some examples"
   ]
  },
  {
   "cell_type": "code",
   "execution_count": 10,
   "metadata": {
    "collapsed": true,
    "run_control": {
     "marked": false
    }
   },
   "outputs": [],
   "source": [
    "# Stub function \n",
    "\n",
    "# We need to adjust it to get images from either the test_loader(DataLoader) or trainset(Dataset)\n",
    "\n",
    "# There is an example in https://t-adessowiki.fee.unicamp.br/user/e209440/notebooks/ia368z_2s2017/lotufo/ia368z/deliver-pytorch/Cats_and_dogs.ipynb\n",
    "\n",
    "def plot_classes(labels, X, Y, img_size):\n",
    " \"\"\"    #plt.figure(figsize=(20,10))\n",
    "    size_subp= len(labels)\n",
    "    cnt=1\n",
    "    for i in labels:\n",
    "        plt.figure()\n",
    "        ix = random.randint(0, len(np.where(Y==str(i))[0]))\n",
    "        ind = np.where(Y==int(i[-1]))[0][ix]\n",
    "        image = X[ind].reshape(3,img_size,img_size).transpose((1,2,0))\n",
    "        #plt.subplot(5,2, cnt)\n",
    "        plt.imshow(image, cmap=plt.cm.gray_r)\n",
    "        plt.axis('off')\n",
    "        plt.title(labels[i])\n",
    "        cnt +=1 \n",
    " \"\"\"        "
   ]
  },
  {
   "cell_type": "code",
   "execution_count": 11,
   "metadata": {
    "collapsed": true
   },
   "outputs": [],
   "source": [
    "#plot_classes(labels, data['X_train'], data['Y_train'], img_size)"
   ]
  },
  {
   "cell_type": "markdown",
   "metadata": {},
   "source": [
    "# Data Analysis"
   ]
  },
  {
   "cell_type": "code",
   "execution_count": 12,
   "metadata": {
    "collapsed": true,
    "run_control": {
     "marked": false
    }
   },
   "outputs": [],
   "source": [
    "def de_para(dataset): \n",
    "    labels = {  'c0' : 'safe driving', \n",
    "                'c1' : 'texting - right', \n",
    "                'c2' : 'talking on the phone - right', \n",
    "                'c3' : 'texting - left', \n",
    "                'c4' : 'talking on the phone - left', \n",
    "                'c5' : 'operating the radio', \n",
    "                'c6' : 'drinking', \n",
    "                'c7' : 'reaching behind', \n",
    "                'c8' : 'hair and makeup', \n",
    "                'c9' : 'talking to passenger'}\n",
    "    y = dataset.mlb.inverse_transform(dataset.y)\n",
    "    class_number = [item[0] for item in y]\n",
    "    class_str = []\n",
    "    for item in class_number:\n",
    "        class_str.append(labels['c'+str(item)])\n",
    "            \n",
    "    return class_str        \n",
    "    "
   ]
  },
  {
   "cell_type": "code",
   "execution_count": 13,
   "metadata": {},
   "outputs": [
    {
     "data": {
      "text/plain": [
       "['talking on the phone - left',\n",
       " 'talking on the phone - left',\n",
       " 'texting - left',\n",
       " 'texting - left',\n",
       " 'talking on the phone - right',\n",
       " 'drinking',\n",
       " 'drinking',\n",
       " 'reaching behind',\n",
       " 'drinking',\n",
       " 'reaching behind',\n",
       " 'talking on the phone - left',\n",
       " 'safe driving',\n",
       " 'texting - left',\n",
       " 'operating the radio',\n",
       " 'drinking',\n",
       " 'texting - left',\n",
       " 'texting - right',\n",
       " 'texting - right',\n",
       " 'talking to passenger',\n",
       " 'operating the radio',\n",
       " 'safe driving',\n",
       " 'talking on the phone - left',\n",
       " 'texting - right',\n",
       " 'talking to passenger',\n",
       " 'texting - right',\n",
       " 'talking to passenger',\n",
       " 'operating the radio',\n",
       " 'talking on the phone - left',\n",
       " 'operating the radio',\n",
       " 'texting - left',\n",
       " 'reaching behind',\n",
       " 'safe driving',\n",
       " 'operating the radio',\n",
       " 'safe driving',\n",
       " 'reaching behind',\n",
       " 'talking to passenger',\n",
       " 'texting - left',\n",
       " 'talking on the phone - left',\n",
       " 'reaching behind',\n",
       " 'drinking',\n",
       " 'hair and makeup',\n",
       " 'texting - right',\n",
       " 'drinking',\n",
       " 'reaching behind',\n",
       " 'talking to passenger',\n",
       " 'reaching behind',\n",
       " 'talking on the phone - left',\n",
       " 'texting - right',\n",
       " 'safe driving',\n",
       " 'talking to passenger',\n",
       " 'hair and makeup',\n",
       " 'drinking',\n",
       " 'safe driving',\n",
       " 'talking on the phone - right',\n",
       " 'texting - right',\n",
       " 'texting - left',\n",
       " 'safe driving',\n",
       " 'operating the radio',\n",
       " 'operating the radio',\n",
       " 'safe driving',\n",
       " 'operating the radio',\n",
       " 'talking on the phone - right',\n",
       " 'texting - left',\n",
       " 'safe driving',\n",
       " 'talking on the phone - left',\n",
       " 'texting - right',\n",
       " 'texting - left',\n",
       " 'safe driving',\n",
       " 'talking to passenger',\n",
       " 'hair and makeup',\n",
       " 'talking to passenger',\n",
       " 'texting - right',\n",
       " 'texting - left',\n",
       " 'safe driving',\n",
       " 'texting - right',\n",
       " 'reaching behind',\n",
       " 'operating the radio',\n",
       " 'reaching behind',\n",
       " 'talking on the phone - left',\n",
       " 'texting - left',\n",
       " 'texting - right',\n",
       " 'talking on the phone - right',\n",
       " 'drinking',\n",
       " 'texting - left',\n",
       " 'texting - left',\n",
       " 'safe driving',\n",
       " 'drinking',\n",
       " 'texting - right',\n",
       " 'safe driving',\n",
       " 'talking to passenger',\n",
       " 'talking to passenger',\n",
       " 'reaching behind',\n",
       " 'drinking',\n",
       " 'texting - right',\n",
       " 'drinking',\n",
       " 'drinking',\n",
       " 'texting - left',\n",
       " 'hair and makeup',\n",
       " 'hair and makeup',\n",
       " 'texting - left',\n",
       " 'talking to passenger',\n",
       " 'operating the radio',\n",
       " 'operating the radio',\n",
       " 'talking on the phone - right',\n",
       " 'drinking',\n",
       " 'safe driving',\n",
       " 'talking on the phone - left',\n",
       " 'texting - left',\n",
       " 'drinking',\n",
       " 'reaching behind',\n",
       " 'safe driving',\n",
       " 'operating the radio',\n",
       " 'texting - left',\n",
       " 'talking to passenger',\n",
       " 'texting - right',\n",
       " 'talking to passenger',\n",
       " 'texting - right',\n",
       " 'talking on the phone - left',\n",
       " 'safe driving',\n",
       " 'drinking',\n",
       " 'operating the radio',\n",
       " 'operating the radio',\n",
       " 'talking to passenger',\n",
       " 'reaching behind',\n",
       " 'talking on the phone - right',\n",
       " 'operating the radio',\n",
       " 'operating the radio',\n",
       " 'texting - left',\n",
       " 'texting - left',\n",
       " 'hair and makeup',\n",
       " 'safe driving',\n",
       " 'hair and makeup',\n",
       " 'safe driving',\n",
       " 'operating the radio',\n",
       " 'talking to passenger',\n",
       " 'safe driving',\n",
       " 'hair and makeup',\n",
       " 'texting - right',\n",
       " 'texting - left',\n",
       " 'talking to passenger',\n",
       " 'drinking',\n",
       " 'safe driving',\n",
       " 'reaching behind',\n",
       " 'drinking',\n",
       " 'texting - right',\n",
       " 'drinking',\n",
       " 'talking on the phone - right',\n",
       " 'drinking',\n",
       " 'safe driving',\n",
       " 'operating the radio',\n",
       " 'talking on the phone - left',\n",
       " 'hair and makeup',\n",
       " 'safe driving',\n",
       " 'talking on the phone - left',\n",
       " 'talking to passenger',\n",
       " 'safe driving',\n",
       " 'texting - left',\n",
       " 'talking to passenger',\n",
       " 'drinking',\n",
       " 'operating the radio',\n",
       " 'texting - right',\n",
       " 'talking on the phone - left',\n",
       " 'operating the radio',\n",
       " 'reaching behind',\n",
       " 'drinking',\n",
       " 'texting - right',\n",
       " 'talking on the phone - right',\n",
       " 'talking to passenger',\n",
       " 'reaching behind',\n",
       " 'texting - right',\n",
       " 'safe driving',\n",
       " 'drinking',\n",
       " 'safe driving',\n",
       " 'texting - right',\n",
       " 'texting - right',\n",
       " 'talking on the phone - left',\n",
       " 'texting - left',\n",
       " 'texting - left',\n",
       " 'talking on the phone - left',\n",
       " 'talking on the phone - right',\n",
       " 'operating the radio',\n",
       " 'drinking',\n",
       " 'talking on the phone - right',\n",
       " 'texting - left',\n",
       " 'texting - left',\n",
       " 'operating the radio',\n",
       " 'talking to passenger',\n",
       " 'talking to passenger',\n",
       " 'talking on the phone - left',\n",
       " 'talking on the phone - right',\n",
       " 'talking to passenger',\n",
       " 'texting - right',\n",
       " 'reaching behind',\n",
       " 'texting - left',\n",
       " 'drinking',\n",
       " 'texting - left',\n",
       " 'reaching behind',\n",
       " 'talking on the phone - right',\n",
       " 'texting - right']"
      ]
     },
     "execution_count": 13,
     "metadata": {},
     "output_type": "execute_result"
    }
   ],
   "source": [
    "class_str = de_para(trainset)\n",
    "class_str"
   ]
  },
  {
   "cell_type": "code",
   "execution_count": 14,
   "metadata": {},
   "outputs": [
    {
     "name": "stderr",
     "output_type": "stream",
     "text": [
      "/home/adessowiki/anaconda3/lib/python3.6/site-packages/matplotlib/font_manager.py:1297: UserWarning: findfont: Font family ['sans-serif'] not found. Falling back to DejaVu Sans\n",
      "  (prop.get_family(), self.defaultFamily[fontext]))\n"
     ]
    },
    {
     "data": {
      "image/png": "[encoded data removed]",
      "text/plain": [
       "<matplotlib.figure.Figure at 0x7fb6a92fe940>"
      ]
     },
     "metadata": {},
     "output_type": "display_data"
    }
   ],
   "source": [
    "plt.figure(figsize=(12,6))\n",
    "sns.countplot(x=class_str, palette=\"Greens_d\");\n",
    "plt.xlabel(\"Classes\", fontsize=12)\n",
    "plt.ylabel('Counts', fontsize=12)\n",
    "plt.xticks(rotation=90)\n",
    "plt.title(\"Distribution of  Classes\", fontsize=15)\n",
    "plt.show()"
   ]
  },
  {
   "cell_type": "code",
   "execution_count": null,
   "metadata": {
    "collapsed": true
   },
   "outputs": [],
   "source": []
  }
 ],
 "metadata": {
  "kernelspec": {
   "display_name": "Python 3",
   "language": "python",
   "name": "python3"
  },
  "language_info": {
   "codemirror_mode": {
    "name": "ipython",
    "version": 3
   },
   "file_extension": ".py",
   "mimetype": "text/x-python",
   "name": "python",
   "nbconvert_exporter": "python",
   "pygments_lexer": "ipython3",
   "version": "3.6.0"
  }
 },
 "nbformat": 4,
 "nbformat_minor": 2
}
