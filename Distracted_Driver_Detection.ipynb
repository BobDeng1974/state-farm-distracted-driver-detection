{
 "cells": [
  {
   "cell_type": "code",
   "execution_count": 17,
   "metadata": {
    "collapsed": true
   },
   "outputs": [],
   "source": [
    "#path2train = \"/home/e209440/data/train\"\n",
    "#path2test = \"/home/e209440/data/test\"\n",
    "path2train = \"/home/r120084/project/data/train\"\n",
    "path2test = \"/home/r120084/project/data/test\""
   ]
  },
  {
   "cell_type": "code",
   "execution_count": 18,
   "metadata": {
    "collapsed": true
   },
   "outputs": [],
   "source": [
    "%matplotlib inline\n",
    "import numpy as np\n",
    "import pandas as pd\n",
    "import seaborn as sns\n",
    "import matplotlib.pyplot as plt\n",
    "\n",
    "import torch as tc\n",
    "import torch.nn as nn\n",
    "import torch.nn.functional as F\n",
    "import torch.optim as optim\n",
    "import torchvision.transforms as transforms\n",
    "from torchvision import transforms, utils\n",
    "\n",
    "from torch.autograd import Variable\n",
    "from torch.utils.data import Dataset, DataLoader\n",
    "from torch.optim.lr_scheduler import StepLR\n",
    "from tqdm import tqdm \n",
    "import random\n",
    "\n",
    "random.seed(7)"
   ]
  },
  {
   "cell_type": "code",
   "execution_count": 19,
   "metadata": {
    "collapsed": true
   },
   "outputs": [],
   "source": [
    "import os, glob, math,time\n",
    "from scipy import misc"
   ]
  },
  {
   "cell_type": "code",
   "execution_count": 20,
   "metadata": {
    "collapsed": true
   },
   "outputs": [],
   "source": [
    "img_size = 50\n",
    "sz = (img_size, img_size)\n",
    "'''\n",
    "labels = {'c0' : 'safe driving', \n",
    "'c1' : 'texting - right', \n",
    "'c2' : 'talking on the phone - right', \n",
    "'c3' : 'texting - left', \n",
    "'c4' : 'talking on the phone - left', \n",
    "'c5' : 'operating the radio', \n",
    "'c6' : 'drinking', \n",
    "'c7' : 'reaching behind', \n",
    "'c8' : 'hair and makeup', \n",
    "'c9' : 'talking to passenger'}\n",
    "'''\n",
    "\n",
    "labels = {'c0' : 'safe driving', 'c1' : 'texting - right'}  #only if you want to load only few labels"
   ]
  },
  {
   "cell_type": "code",
   "execution_count": 21,
   "metadata": {
    "collapsed": true
   },
   "outputs": [],
   "source": [
    "def process_image(img_file):\n",
    "    img = misc.imread(img_file)\n",
    "    #img = misc.imresize(img, sz).transpose((2,0,1)).astype('float32') / 255.0\n",
    "    img = img.transpose((2,0,1)).astype('float32') / 255.0\n",
    "    return img"
   ]
  },
  {
   "cell_type": "code",
   "execution_count": 22,
   "metadata": {
    "collapsed": true
   },
   "outputs": [],
   "source": [
    "def load_traindata(path, labels):\n",
    "    X_train= []\n",
    "    Y_train = []\n",
    "    for j in tqdm(labels):\n",
    "        path_folder = os.path.join(path, str(j), '*.jpg')\n",
    "        files = glob.glob(path_folder)\n",
    "        X_train.extend(process_image(im_file) for im_file in files)\n",
    "        Y_train.extend([j]*len(files))\n",
    "        \n",
    "    X_train = np.array(X_train)\n",
    "    Y_train = np.array(Y_train)\n",
    "    return (X_train,Y_train)"
   ]
  },
  {
   "cell_type": "code",
   "execution_count": null,
   "metadata": {},
   "outputs": [
    {
     "name": "stderr",
     "output_type": "stream",
     "text": [
      " 50%|█████     | 1/2 [00:45<00:45, 45.48s/it]"
     ]
    }
   ],
   "source": [
    "X_train, y_train = load_traindata(path2train, labels)"
   ]
  },
  {
   "cell_type": "code",
   "execution_count": null,
   "metadata": {
    "collapsed": true
   },
   "outputs": [],
   "source": [
    "y_train"
   ]
  },
  {
   "cell_type": "code",
   "execution_count": null,
   "metadata": {
    "collapsed": true
   },
   "outputs": [],
   "source": [
    "def plot_classes(labels, X, Y, img_size):\n",
    "    plt.figure(figsize=(20,10))\n",
    "    size_subp= len(labels)\n",
    "    cnt=1\n",
    "    for i in labels:\n",
    "        ind = np.where(Y==str(i))[0]\n",
    "        print(ind)\n",
    "        image = X[ind].reshape(3,img_size,img_size).transpose((1,2,0))\n",
    "        plt.subplot(5,2, cnt)\n",
    "        plt.imshow(image, cmap=plt.cm.gray_r)\n",
    "        plt.axis('off')\n",
    "        plt.title(labels[i])\n",
    "        cnt +=1"
   ]
  },
  {
   "cell_type": "code",
   "execution_count": null,
   "metadata": {
    "collapsed": true
   },
   "outputs": [],
   "source": [
    "plot_classes(labels, X_train, y_train, img_size)"
   ]
  },
  {
   "cell_type": "code",
   "execution_count": 8,
   "metadata": {
    "scrolled": true
   },
   "outputs": [
    {
     "data": {
      "text/plain": [
       "2489"
      ]
     },
     "execution_count": 8,
     "metadata": {},
     "output_type": "execute_result"
    }
   ],
   "source": [
    "len(X_train)"
   ]
  },
  {
   "cell_type": "code",
   "execution_count": 12,
   "metadata": {
    "collapsed": true,
    "scrolled": true
   },
   "outputs": [],
   "source": [
    "def load_testdata():\n",
    "    \n",
    "    \n",
    "    X_test    = []\n",
    "    X_test_id = []\n",
    "\n",
    "    path  = os.path.join(path2test, '*.jpg')\n",
    "    files = glob.glob(path)\n",
    "\n",
    "#    results = (process_test_image(im_file) for im_file in files)  # Original\n",
    "\n",
    "#   Ajuste para pegar poucas imagens : \n",
    "\n",
    "    idx = 0\n",
    "    for im_file in tqdm(files):\n",
    "        X_test.extend(process_image(im_file))    \n",
    "#        results = process_image(im_file) # Lembrar de discutir função process_test_image\n",
    "            \n",
    "\n",
    "#    X_test, X_test_id,_ = zip(*results)\n",
    "\n",
    "    X_test = np.array(X_test)\n",
    "    return X_test\n"
   ]
  },
  {
   "cell_type": "code",
   "execution_count": 9,
   "metadata": {},
   "outputs": [
    {
     "data": {
      "text/plain": [
       "(3, 50, 50)"
      ]
     },
     "execution_count": 9,
     "metadata": {},
     "output_type": "execute_result"
    }
   ],
   "source": [
    "X_train[0].shape"
   ]
  },
  {
   "cell_type": "code",
   "execution_count": 10,
   "metadata": {},
   "outputs": [
    {
     "data": {
      "text/plain": [
       "2489"
      ]
     },
     "execution_count": 10,
     "metadata": {},
     "output_type": "execute_result"
    }
   ],
   "source": [
    "len(y_train)"
   ]
  },
  {
   "cell_type": "code",
   "execution_count": 11,
   "metadata": {
    "collapsed": true
   },
   "outputs": [],
   "source": [
    "def process_test_image(img_file):\n",
    "    return process_image(img_file), os.path.basename(img_file)"
   ]
  },
  {
   "cell_type": "code",
   "execution_count": 13,
   "metadata": {},
   "outputs": [
    {
     "name": "stdout",
     "output_type": "stream",
     "text": [
      "Time: 1.02 seconds\n"
     ]
    }
   ],
   "source": [
    "X_test = load_testdata()"
   ]
  },
  {
   "cell_type": "code",
   "execution_count": 14,
   "metadata": {},
   "outputs": [
    {
     "name": "stdout",
     "output_type": "stream",
     "text": [
      "57\n"
     ]
    },
    {
     "data": {
      "text/plain": [
       "(50, 50)"
      ]
     },
     "execution_count": 14,
     "metadata": {},
     "output_type": "execute_result"
    }
   ],
   "source": [
    "print(len(X_test))\n",
    "X_test[2].shape"
   ]
  },
  {
   "cell_type": "code",
   "execution_count": 15,
   "metadata": {
    "collapsed": true
   },
   "outputs": [],
   "source": [
    "few_samples = True\n",
    "if few_samples:\n",
    "    n_samples = 100\n",
    "else : \n",
    "    n_samples = data['X_train'].shape[0]"
   ]
  },
  {
   "cell_type": "code",
   "execution_count": 16,
   "metadata": {},
   "outputs": [
    {
     "ename": "NameError",
     "evalue": "name 'data' is not defined",
     "output_type": "error",
     "traceback": [
      "\u001b[0;31m---------------------------------------------------------------------------\u001b[0m",
      "\u001b[0;31mNameError\u001b[0m                                 Traceback (most recent call last)",
      "\u001b[0;32m<ipython-input-16-b7f508771d6d>\u001b[0m in \u001b[0;36m<module>\u001b[0;34m()\u001b[0m\n\u001b[0;32m----> 1\u001b[0;31m \u001b[0mX_train\u001b[0m \u001b[0;34m=\u001b[0m \u001b[0mdata\u001b[0m\u001b[0;34m[\u001b[0m\u001b[0;34m'X_train'\u001b[0m\u001b[0;34m]\u001b[0m\u001b[0;34m[\u001b[0m\u001b[0;34m:\u001b[0m\u001b[0mn_samples\u001b[0m\u001b[0;34m]\u001b[0m\u001b[0;34m\u001b[0m\u001b[0m\n\u001b[0m\u001b[1;32m      2\u001b[0m \u001b[0my_train\u001b[0m \u001b[0;34m=\u001b[0m \u001b[0mdata\u001b[0m\u001b[0;34m[\u001b[0m\u001b[0;34m'y_train'\u001b[0m\u001b[0;34m]\u001b[0m\u001b[0;34m[\u001b[0m\u001b[0;34m:\u001b[0m\u001b[0mn_samples\u001b[0m\u001b[0;34m]\u001b[0m\u001b[0;34m\u001b[0m\u001b[0m\n\u001b[1;32m      3\u001b[0m \u001b[0mX_test\u001b[0m \u001b[0;34m=\u001b[0m \u001b[0mdata\u001b[0m\u001b[0;34m[\u001b[0m\u001b[0;34m'X_test'\u001b[0m\u001b[0;34m]\u001b[0m\u001b[0;34m[\u001b[0m\u001b[0;34m:\u001b[0m\u001b[0mn_samples\u001b[0m\u001b[0;34m]\u001b[0m\u001b[0;34m\u001b[0m\u001b[0m\n\u001b[1;32m      4\u001b[0m \u001b[0my_test\u001b[0m \u001b[0;34m=\u001b[0m \u001b[0mdata\u001b[0m\u001b[0;34m[\u001b[0m\u001b[0;34m'y_test'\u001b[0m\u001b[0;34m]\u001b[0m\u001b[0;34m[\u001b[0m\u001b[0;34m:\u001b[0m\u001b[0mn_samples\u001b[0m\u001b[0;34m]\u001b[0m\u001b[0;34m\u001b[0m\u001b[0m\n",
      "\u001b[0;31mNameError\u001b[0m: name 'data' is not defined"
     ]
    }
   ],
   "source": [
    "X_train = data['X_train'][:n_samples]\n",
    "y_train = data['y_train'][:n_samples]\n",
    "X_test = data['X_test'][:n_samples]\n",
    "y_test = data['y_test'][:n_samples]"
   ]
  },
  {
   "cell_type": "code",
   "execution_count": null,
   "metadata": {
    "collapsed": true
   },
   "outputs": [],
   "source": [
    "X_train.shape, y_train.shape, X_test.shape, y_test.shape"
   ]
  },
  {
   "cell_type": "code",
   "execution_count": null,
   "metadata": {
    "collapsed": true,
    "run_control": {
     "marked": false
    }
   },
   "outputs": [],
   "source": [
    "class CRDataset(Dataset):\n",
    "    \n",
    "    def __init__(self, data, target, transform):\n",
    "        assert data.shape[0] == target.shape[0]\n",
    "        \n",
    "        self.data = data\n",
    "        self.target = torch.LongTensor(target.astype(int))\n",
    "        self.transform = transform\n",
    "    \n",
    "    def __len__(self):\n",
    "        return self.target.shape[0]\n",
    "    \n",
    "    def __getitem__(self, i):\n",
    "        data = self.transform(self.data[i, :, :, :])\n",
    "        return (data, self.target[i])\n",
    "\n"
   ]
  },
  {
   "cell_type": "code",
   "execution_count": null,
   "metadata": {
    "collapsed": true
   },
   "outputs": [],
   "source": []
  }
 ],
 "metadata": {
  "kernelspec": {
   "display_name": "Python 3",
   "language": "python",
   "name": "python3"
  },
  "language_info": {
   "codemirror_mode": {
    "name": "ipython",
    "version": 3
   },
   "file_extension": ".py",
   "mimetype": "text/x-python",
   "name": "python",
   "nbconvert_exporter": "python",
   "pygments_lexer": "ipython3",
   "version": "3.6.0"
  }
 },
 "nbformat": 4,
 "nbformat_minor": 2
}
