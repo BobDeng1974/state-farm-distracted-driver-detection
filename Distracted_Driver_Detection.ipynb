{
 "cells": [
  {
   "cell_type": "code",
   "execution_count": 151,
   "metadata": {
    "collapsed": true
   },
   "outputs": [],
   "source": [
    "path2train = \"/home/e209440/data/train\"\n",
    "path2test = \"/home/e209440/data/test\"\n",
    "path2redux_data = \"/home/r120084/project/data/redux/my_distract_driver_data_redux.npy\""
   ]
  },
  {
   "cell_type": "code",
   "execution_count": 152,
   "metadata": {
    "collapsed": true
   },
   "outputs": [],
   "source": [
    "%matplotlib inline\n",
    "import numpy as np\n",
    "import pandas as pd\n",
    "import seaborn as sns\n",
    "import matplotlib.pyplot as plt\n",
    "\n",
    "import torch as tc\n",
    "import torch.nn as nn\n",
    "import torch.nn.functional as F\n",
    "import torch.optim as optim\n",
    "import torchvision.transforms as transforms\n",
    "from torchvision import transforms, utils\n",
    "\n",
    "from torch.autograd import Variable\n",
    "from torch.utils.data import Dataset, DataLoader\n",
    "from torch.optim.lr_scheduler import StepLR\n",
    "from tqdm import tqdm \n",
    "import random\n",
    "\n",
    "random.seed(7)"
   ]
  },
  {
   "cell_type": "code",
   "execution_count": 153,
   "metadata": {
    "collapsed": true
   },
   "outputs": [],
   "source": [
    "import os, glob, math,time\n",
    "from scipy import misc"
   ]
  },
  {
   "cell_type": "code",
   "execution_count": 154,
   "metadata": {
    "collapsed": true
   },
   "outputs": [],
   "source": [
    "img_size = 50\n",
    "sz = (img_size, img_size)\n",
    "'''\n",
    "labels = {'c0' : 'safe driving', \n",
    "'c1' : 'texting - right', \n",
    "'c2' : 'talking on the phone - right', \n",
    "'c3' : 'texting - left', \n",
    "'c4' : 'talking on the phone - left', \n",
    "'c5' : 'operating the radio', \n",
    "'c6' : 'drinking', \n",
    "'c7' : 'reaching behind', \n",
    "'c8' : 'hair and makeup', \n",
    "'c9' : 'talking to passenger'}\n",
    "'''\n",
    "labels = {'c0' : 'safe driving', 'c1' : 'texting - right'}  #only if you want to load only few labels\n",
    "\n",
    "few_samples = True\n",
    "if few_samples:\n",
    "    n_samples = 100"
   ]
  },
  {
   "cell_type": "code",
   "execution_count": 155,
   "metadata": {
    "collapsed": true
   },
   "outputs": [],
   "source": [
    "def process_image(img_file, sz):\n",
    "    img = misc.imread(img_file)\n",
    "    img = misc.imresize(img, sz).transpose((2,0,1)).astype('float32') / 255.0\n",
    "    #img = img.transpose((2,0,1)).astype('float32') / 255.0\n",
    "    return img"
   ]
  },
  {
   "cell_type": "code",
   "execution_count": 156,
   "metadata": {
    "collapsed": true
   },
   "outputs": [],
   "source": [
    "def load_traindata(path, labels, sz):\n",
    "    print('Load train dataset...')\n",
    "    X_train= []\n",
    "    Y_train = []\n",
    "    for j in tqdm(labels):\n",
    "        path_folder = os.path.join(path, str(j), '*.jpg')\n",
    "        files = glob.glob(path_folder)\n",
    "        X_train.extend(process_image(im_file, sz) for im_file in files)\n",
    "        Y_train.extend([int(j[-1])]*len(files))\n",
    "        \n",
    "    X_train = np.array(X_train)\n",
    "    Y_train = np.array(Y_train)\n",
    "    return [X_train,Y_train]"
   ]
  },
  {
   "cell_type": "code",
   "execution_count": 157,
   "metadata": {
    "collapsed": true,
    "scrolled": true
   },
   "outputs": [],
   "source": [
    "def load_testdata(path):\n",
    "    print('Load test dataset...')\n",
    "    X_test    = []\n",
    "    X_test_id = []\n",
    "    \n",
    "    # This is a stub function it must be completed\n",
    "    \n",
    "    '''\n",
    "    path  = os.path.join(path2test, '*.jpg')\n",
    "    files = glob.glob(path)\n",
    "\n",
    "    idx = 0\n",
    "    for im_file in tqdm(files):\n",
    "        idx+=1\n",
    "        if idx==20:\n",
    "            break\n",
    "        X_test.extend(process_image(im_file))    \n",
    "        results = process_image(im_file)\n",
    "        \n",
    "    X_test = np.array(X_test)\n",
    "    X_test = tc.from_numpy(X_test).type(tc.FloatTensor)\n",
    "    '''\n",
    "    \n",
    "    return [X_test, X_test_id]"
   ]
  },
  {
   "cell_type": "code",
   "execution_count": 158,
   "metadata": {
    "collapsed": true
   },
   "outputs": [],
   "source": [
    "def get_driver_data(path2train, path2test, labels, sz):\n",
    "    \n",
    "    X_train, Y_train = load_traindata(path2train, labels, sz)\n",
    "    X_test, X_test_id = load_testdata(path2test)\n",
    "    \n",
    "    data = {}\n",
    "    data['X_train'] = X_train\n",
    "    data['Y_train'] = Y_train\n",
    "    data['X_test'] = X_test\n",
    "    data['X_test_id'] = X_test_id\n",
    "    return data"
   ]
  },
  {
   "cell_type": "code",
   "execution_count": 159,
   "metadata": {},
   "outputs": [
    {
     "name": "stdout",
     "output_type": "stream",
     "text": [
      "Load train dataset...\n"
     ]
    },
    {
     "name": "stderr",
     "output_type": "stream",
     "text": [
      "100%|██████████| 2/2 [00:43<00:00, 21.79s/it]\n"
     ]
    },
    {
     "name": "stdout",
     "output_type": "stream",
     "text": [
      "Load test dataset...\n"
     ]
    }
   ],
   "source": [
    "data = get_driver_data(path2train, path2test, labels, sz)"
   ]
  },
  {
   "cell_type": "code",
   "execution_count": 160,
   "metadata": {
    "collapsed": true
   },
   "outputs": [],
   "source": [
    "def slice_data(data, n_samples):\n",
    "    lst = np.arange(0,data.shape[0])\n",
    "    lst_sample = random.sample(list(lst), n_samples)\n",
    "    try:\n",
    "        return data[lst_sample,:,:,:]\n",
    "    except:\n",
    "        return data[lst_sample]"
   ]
  },
  {
   "cell_type": "code",
   "execution_count": 168,
   "metadata": {},
   "outputs": [],
   "source": [
    "data_redux ={}\n",
    "if few_samples:\n",
    "    data_redux['X_train'] = slice_data(data['X_train'], 100)\n",
    "    data_redux['Y_train'] = slice_data(data['Y_train'], 100)\n",
    "    #data1['X_test'] = slice_data(data['X_test'], n_samples)\n",
    "    #data1['X_test_id'] = slice_data(data['X_test_id'], n_samples)"
   ]
  },
  {
   "cell_type": "code",
   "execution_count": 169,
   "metadata": {},
   "outputs": [],
   "source": [
    "# Save redux data\n",
    "np.save('/home/r120084/project/data/redux/my_distract_driver_data_redux.npy', data_redux) "
   ]
  },
  {
   "cell_type": "code",
   "execution_count": 170,
   "metadata": {
    "collapsed": true
   },
   "outputs": [],
   "source": [
    "# Load redux data\n",
    "read_dictionary = np.load(path2redux_data).item()"
   ]
  },
  {
   "cell_type": "code",
   "execution_count": 172,
   "metadata": {
    "collapsed": true
   },
   "outputs": [],
   "source": [
    "def plot_classes(labels, X, Y, img_size):\n",
    "    #plt.figure(figsize=(20,10))\n",
    "    size_subp= len(labels)\n",
    "    cnt=1\n",
    "    for i in labels:\n",
    "        plt.figure()\n",
    "        ix = random.randint(0, len(np.where(Y==str(i))[0]))\n",
    "        ind = np.where(Y==int(i[-1]))[0][ix]\n",
    "        image = X[ind].reshape(3,img_size,img_size).transpose((1,2,0))\n",
    "        #plt.subplot(5,2, cnt)\n",
    "        plt.imshow(image, cmap=plt.cm.gray_r)\n",
    "        plt.axis('off')\n",
    "        plt.title(labels[i])\n",
    "        cnt +=1"
   ]
  },
  {
   "cell_type": "code",
   "execution_count": 173,
   "metadata": {},
   "outputs": [
    {
     "name": "stderr",
     "output_type": "stream",
     "text": [
      "/home/adessowiki/anaconda3/lib/python3.6/site-packages/ipykernel/__main__.py:7: FutureWarning: elementwise comparison failed; returning scalar instead, but in the future will perform elementwise comparison\n",
      "/home/adessowiki/anaconda3/lib/python3.6/site-packages/matplotlib/font_manager.py:1297: UserWarning: findfont: Font family ['sans-serif'] not found. Falling back to DejaVu Sans\n",
      "  (prop.get_family(), self.defaultFamily[fontext]))\n"
     ]
    },
    {
     "data": {
      "image/png": "[encoded data removed]",
      "text/plain": [
       "<matplotlib.figure.Figure at 0x7f82b8c55320>"
      ]
     },
     "metadata": {},
     "output_type": "display_data"
    },
    {
     "data": {
      "image/png": "[encoded data removed]",
      "text/plain": [
       "<matplotlib.figure.Figure at 0x7f82b8c9ba20>"
      ]
     },
     "metadata": {},
     "output_type": "display_data"
    }
   ],
   "source": [
    "plot_classes(labels, data['X_train'], data['Y_train'], img_size)"
   ]
  },
  {
   "cell_type": "code",
   "execution_count": 174,
   "metadata": {
    "collapsed": true
   },
   "outputs": [],
   "source": [
    "# if you want to work with the redux data or not\n",
    "\n",
    "redux = True\n",
    "\n",
    "if redux:\n",
    "    X_train = read_dictionary['X_train']\n",
    "    Y_train = read_dictionary['Y_train']\n",
    "    #X_test = read_dictionary['X_test']\n",
    "    #X_test_id = read_dictionary['X_test_id']\n",
    "else:\n",
    "    X_train = data['X_train']\n",
    "    Y_train = data['Y_train']\n",
    "    #X_test = data['X_test']\n",
    "    #X_test_id = data['X_test_id']"
   ]
  },
  {
   "cell_type": "markdown",
   "metadata": {},
   "source": [
    "## Convert to tensor"
   ]
  },
  {
   "cell_type": "code",
   "execution_count": 177,
   "metadata": {
    "collapsed": true
   },
   "outputs": [],
   "source": [
    "def array2tensor(X_train, Y_train, X_test = [], X_test_id = []):\n",
    "        \n",
    "    X_train_tns = tc.from_numpy(X_train).type(tc.FloatTensor)\n",
    "    Y_train_tns = tc.from_numpy(Y_train).type(tc.FloatTensor)\n",
    "    #X_test_tns = tc.from_numpy(X_test).type(tc.FloatTensor)\n",
    "    #X_test_id_tns = tc.from_numpy(X_test_id).type(tc.FloatTensor)\n",
    "    #return [X_train_tns, Y_train_tns, X_test_id_tns, X_test_id_tns]\n",
    "    return [X_train_tns, Y_train_tns]"
   ]
  },
  {
   "cell_type": "code",
   "execution_count": 178,
   "metadata": {},
   "outputs": [],
   "source": [
    "X_train_tns, Y_train_tns = array2tensor(X_train, Y_train)"
   ]
  },
  {
   "cell_type": "code",
   "execution_count": 179,
   "metadata": {},
   "outputs": [
    {
     "data": {
      "text/plain": [
       "(torch.Size([100, 3, 50, 50]), torch.Size([100]))"
      ]
     },
     "execution_count": 179,
     "metadata": {},
     "output_type": "execute_result"
    }
   ],
   "source": [
    "X_train_tns.shape, Y_train_tns.shape"
   ]
  },
  {
   "cell_type": "code",
   "execution_count": null,
   "metadata": {
    "collapsed": true,
    "run_control": {
     "marked": false
    }
   },
   "outputs": [],
   "source": [
    "class CRDataset(Dataset):\n",
    "    \n",
    "    def __init__(self, data, target, transform):\n",
    "        assert data.shape[0] == target.shape[0]\n",
    "        \n",
    "        self.data = data\n",
    "        self.target = torch.LongTensor(target.astype(int))\n",
    "        self.transform = transform\n",
    "    \n",
    "    def __len__(self):\n",
    "        return self.target.shape[0]\n",
    "    \n",
    "    def __getitem__(self, i):\n",
    "        data = self.transform(self.data[i, :, :, :])\n",
    "        return (data, self.target[i])"
   ]
  },
  {
   "cell_type": "code",
   "execution_count": null,
   "metadata": {
    "collapsed": true
   },
   "outputs": [],
   "source": []
  }
 ],
 "metadata": {
  "kernelspec": {
   "display_name": "Python 3",
   "language": "python",
   "name": "python3"
  },
  "language_info": {
   "codemirror_mode": {
    "name": "ipython",
    "version": 3
   },
   "file_extension": ".py",
   "mimetype": "text/x-python",
   "name": "python",
   "nbconvert_exporter": "python",
   "pygments_lexer": "ipython3",
   "version": "3.6.0"
  }
 },
 "nbformat": 4,
 "nbformat_minor": 2
}
