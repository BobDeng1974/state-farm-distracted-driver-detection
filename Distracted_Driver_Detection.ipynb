{
 "cells": [
  {
   "cell_type": "code",
   "execution_count": 3,
   "metadata": {},
   "outputs": [
    {
     "name": "stdout",
     "output_type": "stream",
     "text": [
      "GPU available: False\n"
     ]
    }
   ],
   "source": [
    "%matplotlib inline\n",
    "import sys\n",
    "import random\n",
    "from math import floor\n",
    "import numpy as np\n",
    "import numpy.random as nr\n",
    "import pandas as pd\n",
    "import seaborn as sns\n",
    "import matplotlib.pyplot as plt\n",
    "\n",
    "import os, glob, math,time\n",
    "from scipy import misc\n",
    "import torch\n",
    "import torch as tc\n",
    "import torch.nn as nn\n",
    "import torch.nn.functional as F\n",
    "import torch.optim as optim\n",
    "import torchvision.transforms as transforms\n",
    "from torchvision import transforms, utils\n",
    "from torchvision import models\n",
    "\n",
    "\n",
    "from PIL import Image\n",
    "\n",
    "import sys\n",
    "\n",
    "\n",
    "sys.path.append('/home/r120084/pytorch_lib/pytorch/')\n",
    "import lib.pytorch_trainer as ptt\n",
    "\n",
    "\n",
    "\n",
    "from torch.autograd import Variable\n",
    "from torch.utils.data import Dataset, DataLoader\n",
    "from torch.optim.lr_scheduler import StepLR\n",
    "\n",
    "from tqdm import tqdm \n",
    "from sklearn.preprocessing import MultiLabelBinarizer\n",
    "\n",
    "use_gpu = torch.cuda.is_available()\n",
    "print('GPU available:', use_gpu)"
   ]
  },
  {
   "cell_type": "markdown",
   "metadata": {},
   "source": [
    "\n",
    "# Choose dataset "
   ]
  },
  {
   "cell_type": "code",
   "execution_count": 4,
   "metadata": {
    "collapsed": true
   },
   "outputs": [],
   "source": [
    "path2data = \"/home/e209440/data/my_distract_driver_data.npy\""
   ]
  },
  {
   "cell_type": "markdown",
   "metadata": {},
   "source": [
    "# Dataset Class with split data, transformations and onehot code "
   ]
  },
  {
   "cell_type": "code",
   "execution_count": 5,
   "metadata": {
    "collapsed": true
   },
   "outputs": [],
   "source": [
    "class KaggleSafeDriverDataset(Dataset):\n",
    "    \"\"\"\n",
    "    Arguments:\n",
    "        Path to data (redux or not)\n",
    "        PIL transforms\n",
    "        Test data (boolean)\n",
    "        Validation data (boolean)\n",
    "        Size of validation data \n",
    "        Shuffle indices of validation and Train\n",
    "        \n",
    "    \"\"\"\n",
    "\n",
    "    def __init__(self, data_path, use_only =1.0, transforms=None, \\\n",
    "                 is_test=False,is_val=False,val_size=0.2):\n",
    "    \n",
    "        tmp_data = np.load(data_path).item()\n",
    "\n",
    "        self.transform = transforms\n",
    "        self.mlb = MultiLabelBinarizer()\n",
    "        \n",
    "        if is_test:\n",
    "            \n",
    "            length = len(tmp_data['X_test'])\n",
    "            only = int(use_only * length)\n",
    "            self.X = tmp_data['X_test'][:only]\n",
    "            \n",
    "            self.y = None #Gambiarra para poder criar DataSet do Test.\n",
    "        \n",
    "        else:\n",
    "            \n",
    "            length = len(tmp_data['X_train'])\n",
    "            indices = list(range(0,length))\n",
    "            \n",
    "            nr.seed(4572)\n",
    "            ind = nr.permutation(indices)\n",
    "            \n",
    "            \n",
    "            length = ind.shape[0]\n",
    "            only = int(use_only * length)\n",
    "            \n",
    "            ind = ind[:only]\n",
    "            length = ind.shape[0]\n",
    "            \n",
    "            split = int(val_size * length)\n",
    "            \n",
    "            if is_val:\n",
    "                self.X = [tmp_data['X_train'][i] for i in ind[:split]]\n",
    "                self.y = [tmp_data['y_train'][i] for i in ind[:split]]\n",
    "            else:\n",
    "                self.X = [tmp_data['X_train'][i] for i in ind[split:]]\n",
    "                self.y = [tmp_data['y_train'][i] for i in ind[split:]]\n",
    "                \n",
    "    def __getitem__(self, index):\n",
    "        path = self.X[index]\n",
    "        label = self.y[index]\n",
    "        with open(path, 'rb') as f:\n",
    "            with Image.open(f) as img:\n",
    "                image = img.convert('RGB')                \n",
    "        if self.transform is not None:\n",
    "            image = self.transform(image)\n",
    "        return image, label\n",
    "\n",
    "    def __len__(self):\n",
    "        return len(self.X)\n",
    "    "
   ]
  },
  {
   "cell_type": "code",
   "execution_count": 6,
   "metadata": {
    "collapsed": true
   },
   "outputs": [],
   "source": [
    "batch_size = 250\n",
    "img_width, img_height = 50, 50\n",
    "use_only = 0.1 # Use only 20% of the full dataset"
   ]
  },
  {
   "cell_type": "code",
   "execution_count": 7,
   "metadata": {
    "collapsed": true
   },
   "outputs": [],
   "source": [
    "def my_transforms(img, img_width=img_width, img_height=img_height):\n",
    "    return img.resize((img_width, img_height))\n",
    "\n",
    "imagenet_mean = np.array([0.485, 0.456, 0.406])\n",
    "imagenet_std  = np.array([0.229, 0.224, 0.225])\n",
    "\n",
    "def denormalize(image, mean=imagenet_mean, std=imagenet_std):\n",
    "    inp = image.transpose((1, 2, 0))\n",
    "    img = std * inp + mean\n",
    "    return img\n"
   ]
  },
  {
   "cell_type": "code",
   "execution_count": 8,
   "metadata": {
    "collapsed": true
   },
   "outputs": [],
   "source": [
    "# Data augmentation and normalization for training \n",
    "data_transforms = {\n",
    "    'train': transforms.Compose([\n",
    "        transforms.RandomHorizontalFlip(),\n",
    "        transforms.Lambda(my_transforms),\n",
    "        transforms.ToTensor(),\n",
    "        transforms.Normalize(imagenet_mean, imagenet_std),\n",
    "    ]),\n",
    "    'valid': transforms.Compose([\n",
    "        transforms.Lambda(my_transforms),\n",
    "        transforms.ToTensor(),\n",
    "        transforms.Normalize(imagenet_mean, imagenet_std),\n",
    "    ]),\n",
    "}\n"
   ]
  },
  {
   "cell_type": "code",
   "execution_count": 9,
   "metadata": {
    "collapsed": true
   },
   "outputs": [],
   "source": [
    "dsets = {\n",
    "    'train': KaggleSafeDriverDataset(path2data, transforms=data_transforms['train'],use_only=use_only),\n",
    "    'valid': KaggleSafeDriverDataset(path2data, transforms=data_transforms['valid'],use_only=use_only, is_val=True, val_size=0.2),\n",
    "    'test':  KaggleSafeDriverDataset(path2data, transforms=data_transforms['valid'],use_only=use_only, is_test=True),\n",
    "}"
   ]
  },
  {
   "cell_type": "code",
   "execution_count": 10,
   "metadata": {
    "collapsed": true
   },
   "outputs": [],
   "source": [
    "dset_loaders = {\n",
    "    'train': tc.utils.data.DataLoader(dsets['train'], batch_size=batch_size, shuffle=True, num_workers=4), # 1 for CUDA # pin_memory=True # CUDA only\n",
    "    'valid': tc.utils.data.DataLoader(dsets['valid'], batch_size=batch_size, shuffle=True,num_workers=4),\n",
    "    'test':  tc.utils.data.DataLoader(dsets['test'],  batch_size=batch_size, shuffle=False,num_workers=4),\n",
    "}"
   ]
  },
  {
   "cell_type": "code",
   "execution_count": 11,
   "metadata": {},
   "outputs": [
    {
     "data": {
      "text/plain": [
       "(1794, {'test': 7972, 'train': 1794, 'valid': 448})"
      ]
     },
     "execution_count": 11,
     "metadata": {},
     "output_type": "execute_result"
    }
   ],
   "source": [
    "dset_sizes = {x: len(dsets[x]) for x in ['train', 'valid', 'test']}\n",
    "dset_classes = len(dsets['train'].y)\n",
    "dset_classes, dset_sizes\n",
    "\n",
    "# Datates has much more samples than datatrain ***It comes from the test.zip****"
   ]
  },
  {
   "cell_type": "markdown",
   "metadata": {},
   "source": [
    "# Plotting some examples"
   ]
  },
  {
   "cell_type": "code",
   "execution_count": 12,
   "metadata": {
    "collapsed": true,
    "run_control": {
     "marked": false
    }
   },
   "outputs": [],
   "source": [
    "# Stub function \n",
    "\n",
    "# We need to adjust it to get images from either the test_loader(DataLoader) or trainset(Dataset)\n",
    "\n",
    "# There is an example in https://t-adessowiki.fee.unicamp.br/user/e209440/notebooks/ia368z_2s2017/lotufo/ia368z/deliver-pytorch/Cats_and_dogs.ipynb\n",
    "\n",
    "def plot_classes(labels, X, Y, img_size):\n",
    " \"\"\"    #plt.figure(figsize=(20,10))\n",
    "    size_subp= len(labels)\n",
    "    cnt=1\n",
    "    for i in labels:\n",
    "        plt.figure()\n",
    "        ix = random.randint(0, len(np.where(Y==str(i))[0]))\n",
    "        ind = np.where(Y==int(i[-1]))[0][ix]\n",
    "        image = X[ind].reshape(3,img_size,img_size).transpose((1,2,0))\n",
    "        #plt.subplot(5,2, cnt)\n",
    "        plt.imshow(image, cmap=plt.cm.gray_r)\n",
    "        plt.axis('off')\n",
    "        plt.title(labels[i])\n",
    "        cnt +=1 \n",
    " \"\"\"        "
   ]
  },
  {
   "cell_type": "code",
   "execution_count": 13,
   "metadata": {
    "collapsed": true
   },
   "outputs": [],
   "source": [
    "#plot_classes(labels, data['X_train'], data['Y_train'], img_size)"
   ]
  },
  {
   "cell_type": "markdown",
   "metadata": {},
   "source": [
    "# Data Analysis"
   ]
  },
  {
   "cell_type": "code",
   "execution_count": 14,
   "metadata": {
    "collapsed": true,
    "run_control": {
     "marked": false
    }
   },
   "outputs": [],
   "source": [
    "def de_para(dataset): \n",
    "    labels = {  'c0' : 'safe driving', \n",
    "                'c1' : 'texting - right', \n",
    "                'c2' : 'talking on the phone - right', \n",
    "                'c3' : 'texting - left', \n",
    "                'c4' : 'talking on the phone - left', \n",
    "                'c5' : 'operating the radio', \n",
    "                'c6' : 'drinking', \n",
    "                'c7' : 'reaching behind', \n",
    "                'c8' : 'hair and makeup', \n",
    "                'c9' : 'talking to passenger'}\n",
    "\n",
    "    class_str = []\n",
    "    for item in dataset.y:\n",
    "        class_str.append(labels['c'+str(item)])\n",
    "            \n",
    "    return class_str        \n",
    "    "
   ]
  },
  {
   "cell_type": "code",
   "execution_count": 15,
   "metadata": {
    "collapsed": true
   },
   "outputs": [],
   "source": [
    "class_str = de_para(dsets['train'])"
   ]
  },
  {
   "cell_type": "code",
   "execution_count": 16,
   "metadata": {},
   "outputs": [
    {
     "name": "stderr",
     "output_type": "stream",
     "text": [
      "/home/adessowiki/anaconda3/lib/python3.6/site-packages/matplotlib/font_manager.py:1297: UserWarning: findfont: Font family ['sans-serif'] not found. Falling back to DejaVu Sans\n",
      "  (prop.get_family(), self.defaultFamily[fontext]))\n"
     ]
    },
    {
     "data": {
      "image/png": "[encoded data removed]",
      "text/plain": [
       "<matplotlib.figure.Figure at 0x7fb40efe34e0>"
      ]
     },
     "metadata": {},
     "output_type": "display_data"
    }
   ],
   "source": [
    "plt.figure(figsize=(12,6))\n",
    "sns.countplot(x=class_str, palette=\"Greens_d\");\n",
    "plt.xlabel(\"Classes\", fontsize=12)\n",
    "plt.ylabel('Counts', fontsize=12)\n",
    "plt.xticks(rotation=90)\n",
    "plt.title(\"Distribution of  Classes\", fontsize=15)\n",
    "plt.show()"
   ]
  },
  {
   "cell_type": "code",
   "execution_count": 17,
   "metadata": {
    "collapsed": true
   },
   "outputs": [],
   "source": [
    "nb_classes = len(set(class_str))"
   ]
  },
  {
   "cell_type": "code",
   "execution_count": 18,
   "metadata": {
    "collapsed": true
   },
   "outputs": [],
   "source": [
    "class MyResNet(nn.Module):\n",
    "    \n",
    "    def __init__(self):\n",
    "        super().__init__()\n",
    "        self.resnet = models.resnet34(pretrained=True)    \n",
    "        for param in self.resnet.parameters():\n",
    "            param.requires_grad = False\n",
    "            \n",
    "        n_feat = self.resnet.fc.in_features\n",
    "        fc_old = self.resnet.fc.state_dict()            \n",
    "        fc_new = dict(weight=fc_old['weight'][(284, 208), :], bias=fc_old['bias'][(284, 208),])\n",
    "\n",
    "        self.resnet.fc = nn.Linear(n_feat, 2)\n",
    "        self.resnet.fc.load_state_dict(fc_new)\n",
    "\n",
    "    def forward(self, input_):\n",
    "        return self.resnet.forward(input_)\n",
    "    \n",
    "resNetModel = MyResNet()\n",
    "if use_gpu:\n",
    "    resNetModel = resNetModel.cuda()"
   ]
  },
  {
   "cell_type": "code",
   "execution_count": 19,
   "metadata": {
    "collapsed": true
   },
   "outputs": [],
   "source": [
    "class myconvNet(nn.Module):\n",
    "    def __init__(self, image_size=(3,50,50)):\n",
    "        super(myconvNet, self).__init__()\n",
    "        self.conv1 = nn.Conv2d(3, 32, kernel_size=3)\n",
    "        self.conv2 = nn.Conv2d(32, 64, kernel_size=3)\n",
    "        self.conv3 = nn.Conv2d(64, 128, kernel_size=3)\n",
    "        self.conv4 = nn.Conv2d(128, 256, kernel_size=3)\n",
    "        \n",
    "        \n",
    "        feature_size = self._get_conv_output(image_size)\n",
    "        \n",
    "        self.dense1 = nn.Linear(feature_size, 250)\n",
    "        self.dense2 = nn.Linear(250, 125)\n",
    "        self.dense3 = nn.Linear(125, nb_classes)\n",
    "        \n",
    "    def _get_conv_output(self, shape):\n",
    "        bs = 1\n",
    "        input = Variable(tc.rand(bs, *shape))\n",
    "        output_feat = self._forward_features(input)\n",
    "        n_size = output_feat.data.view(bs, -1).size(1)\n",
    "        return n_size\n",
    "\n",
    "    def _forward_features(self, x):\n",
    "        x = F.relu(self.conv1(x))\n",
    "        x = F.relu(F.max_pool2d(self.conv2(x), 2))\n",
    "        x = F.relu(self.conv3(x))\n",
    "        x = F.relu(F.max_pool2d(self.conv4(x), 2))\n",
    "       \n",
    "        return x\n",
    "    \n",
    "    def forward(self, x):\n",
    "        x = self._forward_features(x)\n",
    "        x = x.view(x.size(0), -1)\n",
    "        x = F.relu(self.dense1(x))\n",
    "        x = F.dropout(x, p=0.25, training=self.training)\n",
    "        x = F.relu(self.dense2(x))\n",
    "        x = F.dropout(x, p=0.5, training=self.training)\n",
    "        x = F.relu(self.dense3(x))\n",
    "        return F.softmax(x)\n",
    "\n",
    "\n",
    "myconvNet = myconvNet()\n",
    "if use_gpu:\n",
    "    myconvNet = myconvNet.cuda()"
   ]
  },
  {
   "cell_type": "code",
   "execution_count": 20,
   "metadata": {
    "collapsed": true
   },
   "outputs": [],
   "source": [
    "optimizer =  optim.Adam(myconvNet.parameters(), lr=1e-3)\n",
    "scheduler = StepLR(optimizer, step_size=5, gamma=0.75)\n",
    "loss_function = nn.CrossEntropyLoss()"
   ]
  },
  {
   "cell_type": "code",
   "execution_count": null,
   "metadata": {
    "collapsed": true
   },
   "outputs": [],
   "source": [
    "trainer = ptt.DeepNetTrainer(model = myconvNet, \n",
    "    criterion = loss_function,  \n",
    "    optimizer = optimizer, \n",
    "    callbacks = [ptt.PlotCallback(), ptt.PrintCallback()]\n",
    ")"
   ]
  },
  {
   "cell_type": "code",
   "execution_count": null,
   "metadata": {},
   "outputs": [
    {
     "name": "stdout",
     "output_type": "stream",
     "text": [
      "Start training for 2 epochs\n"
     ]
    }
   ],
   "source": [
    "trainer.fit_loader(2, dset_loaders['train'], dset_loaders['valid'])"
   ]
  },
  {
   "cell_type": "code",
   "execution_count": null,
   "metadata": {
    "collapsed": true
   },
   "outputs": [],
   "source": []
  }
 ],
 "metadata": {
  "kernelspec": {
   "display_name": "Python 3",
   "language": "python",
   "name": "python3"
  },
  "language_info": {
   "codemirror_mode": {
    "name": "ipython",
    "version": 3
   },
   "file_extension": ".py",
   "mimetype": "text/x-python",
   "name": "python",
   "nbconvert_exporter": "python",
   "pygments_lexer": "ipython3",
   "version": "3.6.0"
  }
 },
 "nbformat": 4,
 "nbformat_minor": 2
}
