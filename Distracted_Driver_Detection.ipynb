{
 "cells": [
  {
   "cell_type": "code",
   "execution_count": 20,
   "metadata": {
    "collapsed": true
   },
   "outputs": [],
   "source": [
    "%matplotlib inline\n",
    "import sys\n",
    "import random\n",
    "from math import floor\n",
    "import numpy as np\n",
    "import numpy.random as nr\n",
    "import pandas as pd\n",
    "import seaborn as sns\n",
    "import matplotlib.pyplot as plt\n",
    "from PIL import Image\n",
    "import os, glob, math,time\n",
    "import multiprocessing\n",
    "import sys\n",
    "sys.path.append('/home/r120084/pytorch_lib/pytorch/')\n",
    "\n",
    "\n",
    "from scipy import misc\n",
    "import torch\n",
    "import torch as tc\n",
    "import torch.nn as nn\n",
    "import torch.nn.functional as F\n",
    "import torch.optim as optim\n",
    "import torchvision.transforms as transforms\n",
    "from torchvision import transforms, utils\n",
    "from torchvision import models\n",
    "from torch.utils.data import DataLoader, Dataset, TensorDataset\n",
    "import torchvision\n",
    "\n",
    "\n",
    "import lib.pytorch_trainer as ptt\n",
    "\n",
    "from torch.autograd import Variable\n",
    "from torch.utils.data import Dataset, DataLoader\n",
    "from torch.optim.lr_scheduler import StepLR\n",
    "\n",
    "from tqdm import tqdm \n",
    "from sklearn.preprocessing import MultiLabelBinarizer\n"
   ]
  },
  {
   "cell_type": "code",
   "execution_count": 21,
   "metadata": {},
   "outputs": [
    {
     "name": "stdout",
     "output_type": "stream",
     "text": [
      "GPU available: False\n",
      "cpu_count:  12\n"
     ]
    }
   ],
   "source": [
    "use_gpu = torch.cuda.is_available()\n",
    "print('GPU available:', use_gpu)\n",
    "cpu_count = multiprocessing.cpu_count()\n",
    "print('cpu_count: ', cpu_count)"
   ]
  },
  {
   "cell_type": "markdown",
   "metadata": {},
   "source": [
    "\n",
    "# Choose dataset "
   ]
  },
  {
   "cell_type": "code",
   "execution_count": 22,
   "metadata": {
    "collapsed": true
   },
   "outputs": [],
   "source": [
    "path2data = \"/home/e209440/data/my_distract_driver_data.npy\""
   ]
  },
  {
   "cell_type": "markdown",
   "metadata": {},
   "source": [
    "# Dataset Class with split data, transformations and onehot code "
   ]
  },
  {
   "cell_type": "code",
   "execution_count": 23,
   "metadata": {
    "collapsed": true
   },
   "outputs": [],
   "source": [
    "class KaggleSafeDriverDataset(Dataset):\n",
    "    \"\"\"\n",
    "    Arguments:\n",
    "        Path to data (redux or not)\n",
    "        PIL transforms\n",
    "        Test data (boolean)\n",
    "        Validation data (boolean)\n",
    "        Size of validation data \n",
    "        Shuffle indices of validation and Train\n",
    "        \n",
    "    \"\"\"\n",
    "\n",
    "    def __init__(self, data_path, use_only =1.0, transforms=None, \\\n",
    "                 is_test=False,is_val=False,val_size=0.2):\n",
    "    \n",
    "        tmp_data = np.load(data_path).item()\n",
    "\n",
    "        self.transform = transforms\n",
    "        self.mlb = MultiLabelBinarizer()\n",
    "        \n",
    "        if is_test:\n",
    "            \n",
    "            length = len(tmp_data['X_test'])\n",
    "            only = int(use_only * length)\n",
    "            self.X = tmp_data['X_test'][:only]\n",
    "            \n",
    "            self.y = None #Gambiarra para poder criar DataSet do Test.\n",
    "        \n",
    "        else:\n",
    "            \n",
    "            length = len(tmp_data['X_train'])\n",
    "            indices = list(range(0,length))\n",
    "            \n",
    "            nr.seed(4572)\n",
    "            ind = nr.permutation(indices)\n",
    "            \n",
    "            \n",
    "            length = ind.shape[0]\n",
    "            only = int(use_only * length)\n",
    "            \n",
    "            ind = ind[:only]\n",
    "            length = ind.shape[0]\n",
    "            \n",
    "            split = int(val_size * length)\n",
    "            \n",
    "            if is_val:\n",
    "                self.X = [tmp_data['X_train'][i] for i in ind[:split]]\n",
    "                self.y = [tmp_data['y_train'][i] for i in ind[:split]]\n",
    "            else:\n",
    "                self.X = [tmp_data['X_train'][i] for i in ind[split:]]\n",
    "                self.y = [tmp_data['y_train'][i] for i in ind[split:]]\n",
    "                \n",
    "    def __getitem__(self, index):\n",
    "        path = self.X[index]\n",
    "        label = self.y[index]\n",
    "        with open(path, 'rb') as f:\n",
    "            with Image.open(f) as img:\n",
    "                image = img.convert('RGB')\n",
    "        if self.transform is not None:\n",
    "            image = self.transform(image)\n",
    "        return image, label\n",
    "\n",
    "    def __len__(self):\n",
    "        return len(self.X)\n",
    "    "
   ]
  },
  {
   "cell_type": "code",
   "execution_count": 24,
   "metadata": {
    "collapsed": true
   },
   "outputs": [],
   "source": [
    "batch_size = 32\n",
    "img_size ,img_width, img_height = 50, 50, 50\n",
    "use_only = 0.1 # Use only 20% of the full dataset\n",
    "\n",
    "labels = {  'c0' : 'safe driving', \n",
    "            'c1' : 'texting - right', \n",
    "            'c2' : 'talking on the phone - right', \n",
    "            'c3' : 'texting - left', \n",
    "            'c4' : 'talking on the phone - left', \n",
    "            'c5' : 'operating the radio', \n",
    "            'c6' : 'drinking', \n",
    "            'c7' : 'reaching behind', \n",
    "            'c8' : 'hair and makeup', \n",
    "            'c9' : 'talking to passenger'}"
   ]
  },
  {
   "cell_type": "code",
   "execution_count": 25,
   "metadata": {
    "collapsed": true
   },
   "outputs": [],
   "source": [
    "def my_transforms(img, img_width=img_width, img_height=img_height):\n",
    "    return img.resize((img_width, img_height))\n",
    "\n",
    "imagenet_mean = np.array([0.485, 0.456, 0.406])\n",
    "imagenet_std  = np.array([0.229, 0.224, 0.225])\n",
    "\n",
    "def denormalize(image, mean=imagenet_mean, std=imagenet_std):\n",
    "    inp = image.transpose((1, 2, 0))\n",
    "    img = std * inp + mean\n",
    "    return img"
   ]
  },
  {
   "cell_type": "code",
   "execution_count": 26,
   "metadata": {
    "collapsed": true
   },
   "outputs": [],
   "source": [
    "# Data augmentation and normalization for training \n",
    "data_transforms = {\n",
    "    'train': transforms.Compose([\n",
    "        transforms.RandomHorizontalFlip(),\n",
    "        transforms.Lambda(my_transforms),\n",
    "        transforms.ToTensor(),\n",
    "        transforms.Normalize(imagenet_mean, imagenet_std),\n",
    "    ]),\n",
    "    'valid': transforms.Compose([\n",
    "        transforms.Lambda(my_transforms),\n",
    "        transforms.ToTensor(),\n",
    "        transforms.Normalize(imagenet_mean, imagenet_std),\n",
    "    ]),\n",
    "}\n"
   ]
  },
  {
   "cell_type": "code",
   "execution_count": 27,
   "metadata": {
    "collapsed": true
   },
   "outputs": [],
   "source": [
    "dsets = {\n",
    "    'train': KaggleSafeDriverDataset(path2data, transforms=data_transforms['train'],use_only=use_only),\n",
    "    'valid': KaggleSafeDriverDataset(path2data, transforms=data_transforms['valid'],use_only=use_only, is_val=True, val_size=0.2),\n",
    "    'test':  KaggleSafeDriverDataset(path2data, transforms=data_transforms['valid'],use_only=use_only, is_test=True),\n",
    "}"
   ]
  },
  {
   "cell_type": "code",
   "execution_count": 28,
   "metadata": {
    "collapsed": true
   },
   "outputs": [],
   "source": [
    "def _create_dataLoader(dsets, batch_size, cpu_count, pin_memory =  False):\n",
    "\n",
    "    dset_loaders = {}\n",
    "    for key in dsets.keys():\n",
    "        dset_loaders[key] = DataLoader(dsets[key], batch_size=batch_size, num_workers=2*cpu_count, pin_memory=pin_memory)\n",
    "\n",
    "    return dset_loaders"
   ]
  },
  {
   "cell_type": "code",
   "execution_count": 29,
   "metadata": {
    "collapsed": true
   },
   "outputs": [],
   "source": [
    "dset_loaders = _create_dataLoader(dsets, batch_size, cpu_count)"
   ]
  },
  {
   "cell_type": "code",
   "execution_count": 30,
   "metadata": {},
   "outputs": [
    {
     "data": {
      "text/plain": [
       "(1794, {'test': 7972, 'train': 1794, 'valid': 448})"
      ]
     },
     "execution_count": 30,
     "metadata": {},
     "output_type": "execute_result"
    }
   ],
   "source": [
    "dset_sizes = {x: len(dsets[x]) for x in ['train', 'valid', 'test']}\n",
    "dset_classes = len(dsets['train'].y)\n",
    "dset_classes, dset_sizes\n",
    "\n",
    "# Datates has much more samples than datatrain ***It comes from the test.zip****"
   ]
  },
  {
   "cell_type": "markdown",
   "metadata": {},
   "source": [
    "# Plotting some examples"
   ]
  },
  {
   "cell_type": "code",
   "execution_count": 31,
   "metadata": {
    "collapsed": true
   },
   "outputs": [],
   "source": [
    "def plot_classes(dset_loaders, labels, path2save = './figures/data.png'):\n",
    "\n",
    "    # Get a batch of training data\n",
    "    inputs, cls = next(iter(dset_loaders))\n",
    "    print(inputs[8].shape, cls.shape)\n",
    "    fig = plt.figure(figsize=(15,6))\n",
    "    for i, j in enumerate(range(0,10)):\n",
    "        fig.add_subplot(2,5, i+1)\n",
    "        img = denormalize(inputs.numpy()[j])\n",
    "        img = np.clip(img, 0, 1.0)\n",
    "        plt.imshow(img)\n",
    "        plt.title('{}'.format(labels['c'+str(cls[j])]))\n",
    "        plt.axis('off')\n",
    "    fig.savefig(path2save)"
   ]
  },
  {
   "cell_type": "code",
   "execution_count": 32,
   "metadata": {},
   "outputs": [
    {
     "name": "stdout",
     "output_type": "stream",
     "text": [
      "torch.Size([3, 50, 50]) torch.Size([32])\n"
     ]
    },
    {
     "name": "stderr",
     "output_type": "stream",
     "text": [
      "/home/adessowiki/anaconda3/lib/python3.6/site-packages/matplotlib/font_manager.py:1297: UserWarning: findfont: Font family ['sans-serif'] not found. Falling back to DejaVu Sans\n",
      "  (prop.get_family(), self.defaultFamily[fontext]))\n"
     ]
    },
    {
     "data": {
      "image/png": "[encoded data removed]",
      "text/plain": [
       "<matplotlib.figure.Figure at 0x7f9d809525f8>"
      ]
     },
     "metadata": {},
     "output_type": "display_data"
    }
   ],
   "source": [
    "plot_classes(dset_loaders['train'], labels)"
   ]
  },
  {
   "cell_type": "code",
   "execution_count": 33,
   "metadata": {
    "collapsed": true
   },
   "outputs": [],
   "source": [
    "def plot_distribution(img):\n",
    "    \n",
    "    if img.shape[2] != 3:\n",
    "        img = img.transpose((1, 2, 0))\n",
    "        \n",
    "    color_lst = ['red', 'green', 'blue']\n",
    "    for i in range(0, img.shape[2]):\n",
    "        c1=img[:,:,i].reshape(-1)\n",
    "        plt.hist(c1, 50, facecolor=color_lst[i], label = color_lst[i])\n",
    "    plt.legend()\n",
    "    plt.grid(True)"
   ]
  },
  {
   "cell_type": "code",
   "execution_count": 34,
   "metadata": {
    "collapsed": true
   },
   "outputs": [],
   "source": [
    "def statistical_analysis_image(dset_loaders, labels, path2save = './figures/distribution.png'):\n",
    "\n",
    "    \n",
    "    fig = plt.figure(figsize=(15,6))\n",
    "    inputs, cls = next(iter(dset_loaders))\n",
    "    rand_idx = random.randrange(0, len(inputs))\n",
    "    img = inputs.numpy()[rand_idx]\n",
    "    img_denorm = denormalize(img)\n",
    "    plt.subplot(2,2,2)\n",
    "    plot_distribution(img_denorm)\n",
    "    plt.title('Image RGB after denormalization')\n",
    "    plt.subplot(2,2,4)\n",
    "    plot_distribution(img)\n",
    "    plt.title('Image RGB normalization')\n",
    "    plt.subplot(1,2,1)\n",
    "    img_denorm = np.clip(img_denorm, 0, 1.0)\n",
    "    plt.imshow(img_denorm)\n",
    "    plt.title('{}'.format(labels['c'+str(cls[rand_idx])]))\n",
    "    plt.axis('off')\n",
    "    fig.savefig(path2save)"
   ]
  },
  {
   "cell_type": "code",
   "execution_count": 35,
   "metadata": {},
   "outputs": [
    {
     "name": "stderr",
     "output_type": "stream",
     "text": [
      "/home/adessowiki/anaconda3/lib/python3.6/site-packages/matplotlib/font_manager.py:1297: UserWarning: findfont: Font family ['sans-serif'] not found. Falling back to DejaVu Sans\n",
      "  (prop.get_family(), self.defaultFamily[fontext]))\n"
     ]
    },
    {
     "data": {
      "image/png": "[encoded data removed]",
      "text/plain": [
       "<matplotlib.figure.Figure at 0x7f9d80fd7e48>"
      ]
     },
     "metadata": {},
     "output_type": "display_data"
    }
   ],
   "source": [
    "statistical_analysis_image(dset_loaders['train'], labels)"
   ]
  },
  {
   "cell_type": "markdown",
   "metadata": {},
   "source": [
    "# Data Analysis"
   ]
  },
  {
   "cell_type": "code",
   "execution_count": 36,
   "metadata": {
    "collapsed": true,
    "run_control": {
     "marked": false
    }
   },
   "outputs": [],
   "source": [
    "def code2label(dataset, labels): \n",
    "    class_str = []\n",
    "    for item in dataset.y:\n",
    "        class_str.append(labels['c'+str(item)])  \n",
    "    return class_str           "
   ]
  },
  {
   "cell_type": "code",
   "execution_count": 37,
   "metadata": {
    "collapsed": true
   },
   "outputs": [],
   "source": [
    "class_str = code2label(dsets['train'], labels)"
   ]
  },
  {
   "cell_type": "code",
   "execution_count": 143,
   "metadata": {},
   "outputs": [
    {
     "name": "stderr",
     "output_type": "stream",
     "text": [
      "/home/adessowiki/anaconda3/lib/python3.6/site-packages/matplotlib/font_manager.py:1297: UserWarning: findfont: Font family ['sans-serif'] not found. Falling back to DejaVu Sans\n",
      "  (prop.get_family(), self.defaultFamily[fontext]))\n"
     ]
    },
    {
     "data": {
      "image/png": "[encoded data removed]",
      "text/plain": [
       "<matplotlib.figure.Figure at 0x7f9d7c9509e8>"
      ]
     },
     "metadata": {},
     "output_type": "display_data"
    }
   ],
   "source": [
    "fig = plt.figure(figsize=(12,8))\n",
    "sns.countplot(x=class_str, palette=\"Greens_d\");\n",
    "plt.xlabel(\"Classes\", fontsize=12)\n",
    "plt.ylabel('Counts', fontsize=12)\n",
    "plt.xticks(rotation=90)\n",
    "plt.title(\"Classes Distribution\", fontsize=15)\n",
    "plt.show()\n",
    "path2save = './figures/distribution_classes.png'\n",
    "fig.savefig(path2save)"
   ]
  },
  {
   "cell_type": "code",
   "execution_count": 39,
   "metadata": {
    "collapsed": true
   },
   "outputs": [],
   "source": [
    "nb_out = len(set(class_str))"
   ]
  },
  {
   "cell_type": "code",
   "execution_count": 97,
   "metadata": {
    "collapsed": true
   },
   "outputs": [],
   "source": [
    "class MyResNetConv(torchvision.models.ResNet):\n",
    "    def __init__(self, fixed_extractor = True):\n",
    "        super().__init__(torchvision.models.resnet.BasicBlock, [2, 2, 2, 2])\n",
    "        self.load_state_dict(torch.utils.model_zoo.load_url(\n",
    "            'https://download.pytorch.org/models/resnet18-5c106cde.pth'))\n",
    "        del self.fc\n",
    "        \n",
    "        if fixed_extractor:\n",
    "            for param in self.parameters():\n",
    "                param.requires_grad = False\n",
    "\n",
    "    def forward(self, x):\n",
    "        x = self.conv1(x)\n",
    "        x = self.bn1(x)\n",
    "        x = self.relu(x)\n",
    "        x = self.maxpool(x)\n",
    "        x = self.layer1(x)\n",
    "        x = self.avgpool(x)\n",
    "        x = x.view(x.size(0), -1)\n",
    "        return x\n",
    "\n",
    "class MyResNetDens(torch.nn.Module):\n",
    "    def __init__(self):\n",
    "        super().__init__()\n",
    "        self.dens1 = torch.nn.Linear(in_features=64, out_features=32)\n",
    "        self.dens2 = torch.nn.Linear(in_features=32, out_features=nb_out)\n",
    "    def forward(self, x):\n",
    "        x = self.dens1(x)\n",
    "        x = torch.nn.functional.selu(x)\n",
    "        x = self.dens2(x)\n",
    "        return x\n",
    "\n",
    "class MyResNet(torch.nn.Module):\n",
    "    def __init__(self):\n",
    "        super().__init__()\n",
    "        self.mrnc = MyResNetConv()\n",
    "        self.mrnd = MyResNetDens()\n",
    "    def forward(self, x):\n",
    "        x = self.mrnc(x)\n",
    "        x = self.mrnd(x)\n",
    "        return x"
   ]
  },
  {
   "cell_type": "code",
   "execution_count": 98,
   "metadata": {
    "collapsed": true
   },
   "outputs": [],
   "source": [
    "model = MyResNet()\n",
    "if use_gpu:\n",
    "    model.cuda()\n",
    "    !free -h\n",
    "    !nvidia-smi\n",
    "    model = torch.nn.DataParallel(MyResNet())"
   ]
  },
  {
   "cell_type": "code",
   "execution_count": 99,
   "metadata": {},
   "outputs": [
    {
     "name": "stdout",
     "output_type": "stream",
     "text": [
      "MyResNet (\n",
      "  (mrnc): MyResNetConv (\n",
      "    (conv1): Conv2d(3, 64, kernel_size=(7, 7), stride=(2, 2), padding=(3, 3), bias=False)\n",
      "    (bn1): BatchNorm2d(64, eps=1e-05, momentum=0.1, affine=True)\n",
      "    (relu): ReLU (inplace)\n",
      "    (maxpool): MaxPool2d (size=(3, 3), stride=(2, 2), padding=(1, 1), dilation=(1, 1))\n",
      "    (layer1): Sequential (\n",
      "      (0): BasicBlock (\n",
      "        (conv1): Conv2d(64, 64, kernel_size=(3, 3), stride=(1, 1), padding=(1, 1), bias=False)\n",
      "        (bn1): BatchNorm2d(64, eps=1e-05, momentum=0.1, affine=True)\n",
      "        (relu): ReLU (inplace)\n",
      "        (conv2): Conv2d(64, 64, kernel_size=(3, 3), stride=(1, 1), padding=(1, 1), bias=False)\n",
      "        (bn2): BatchNorm2d(64, eps=1e-05, momentum=0.1, affine=True)\n",
      "      )\n",
      "      (1): BasicBlock (\n",
      "        (conv1): Conv2d(64, 64, kernel_size=(3, 3), stride=(1, 1), padding=(1, 1), bias=False)\n",
      "        (bn1): BatchNorm2d(64, eps=1e-05, momentum=0.1, affine=True)\n",
      "        (relu): ReLU (inplace)\n",
      "        (conv2): Conv2d(64, 64, kernel_size=(3, 3), stride=(1, 1), padding=(1, 1), bias=False)\n",
      "        (bn2): BatchNorm2d(64, eps=1e-05, momentum=0.1, affine=True)\n",
      "      )\n",
      "    )\n",
      "    (layer2): Sequential (\n",
      "      (0): BasicBlock (\n",
      "        (conv1): Conv2d(64, 128, kernel_size=(3, 3), stride=(2, 2), padding=(1, 1), bias=False)\n",
      "        (bn1): BatchNorm2d(128, eps=1e-05, momentum=0.1, affine=True)\n",
      "        (relu): ReLU (inplace)\n",
      "        (conv2): Conv2d(128, 128, kernel_size=(3, 3), stride=(1, 1), padding=(1, 1), bias=False)\n",
      "        (bn2): BatchNorm2d(128, eps=1e-05, momentum=0.1, affine=True)\n",
      "        (downsample): Sequential (\n",
      "          (0): Conv2d(64, 128, kernel_size=(1, 1), stride=(2, 2), bias=False)\n",
      "          (1): BatchNorm2d(128, eps=1e-05, momentum=0.1, affine=True)\n",
      "        )\n",
      "      )\n",
      "      (1): BasicBlock (\n",
      "        (conv1): Conv2d(128, 128, kernel_size=(3, 3), stride=(1, 1), padding=(1, 1), bias=False)\n",
      "        (bn1): BatchNorm2d(128, eps=1e-05, momentum=0.1, affine=True)\n",
      "        (relu): ReLU (inplace)\n",
      "        (conv2): Conv2d(128, 128, kernel_size=(3, 3), stride=(1, 1), padding=(1, 1), bias=False)\n",
      "        (bn2): BatchNorm2d(128, eps=1e-05, momentum=0.1, affine=True)\n",
      "      )\n",
      "    )\n",
      "    (layer3): Sequential (\n",
      "      (0): BasicBlock (\n",
      "        (conv1): Conv2d(128, 256, kernel_size=(3, 3), stride=(2, 2), padding=(1, 1), bias=False)\n",
      "        (bn1): BatchNorm2d(256, eps=1e-05, momentum=0.1, affine=True)\n",
      "        (relu): ReLU (inplace)\n",
      "        (conv2): Conv2d(256, 256, kernel_size=(3, 3), stride=(1, 1), padding=(1, 1), bias=False)\n",
      "        (bn2): BatchNorm2d(256, eps=1e-05, momentum=0.1, affine=True)\n",
      "        (downsample): Sequential (\n",
      "          (0): Conv2d(128, 256, kernel_size=(1, 1), stride=(2, 2), bias=False)\n",
      "          (1): BatchNorm2d(256, eps=1e-05, momentum=0.1, affine=True)\n",
      "        )\n",
      "      )\n",
      "      (1): BasicBlock (\n",
      "        (conv1): Conv2d(256, 256, kernel_size=(3, 3), stride=(1, 1), padding=(1, 1), bias=False)\n",
      "        (bn1): BatchNorm2d(256, eps=1e-05, momentum=0.1, affine=True)\n",
      "        (relu): ReLU (inplace)\n",
      "        (conv2): Conv2d(256, 256, kernel_size=(3, 3), stride=(1, 1), padding=(1, 1), bias=False)\n",
      "        (bn2): BatchNorm2d(256, eps=1e-05, momentum=0.1, affine=True)\n",
      "      )\n",
      "    )\n",
      "    (layer4): Sequential (\n",
      "      (0): BasicBlock (\n",
      "        (conv1): Conv2d(256, 512, kernel_size=(3, 3), stride=(2, 2), padding=(1, 1), bias=False)\n",
      "        (bn1): BatchNorm2d(512, eps=1e-05, momentum=0.1, affine=True)\n",
      "        (relu): ReLU (inplace)\n",
      "        (conv2): Conv2d(512, 512, kernel_size=(3, 3), stride=(1, 1), padding=(1, 1), bias=False)\n",
      "        (bn2): BatchNorm2d(512, eps=1e-05, momentum=0.1, affine=True)\n",
      "        (downsample): Sequential (\n",
      "          (0): Conv2d(256, 512, kernel_size=(1, 1), stride=(2, 2), bias=False)\n",
      "          (1): BatchNorm2d(512, eps=1e-05, momentum=0.1, affine=True)\n",
      "        )\n",
      "      )\n",
      "      (1): BasicBlock (\n",
      "        (conv1): Conv2d(512, 512, kernel_size=(3, 3), stride=(1, 1), padding=(1, 1), bias=False)\n",
      "        (bn1): BatchNorm2d(512, eps=1e-05, momentum=0.1, affine=True)\n",
      "        (relu): ReLU (inplace)\n",
      "        (conv2): Conv2d(512, 512, kernel_size=(3, 3), stride=(1, 1), padding=(1, 1), bias=False)\n",
      "        (bn2): BatchNorm2d(512, eps=1e-05, momentum=0.1, affine=True)\n",
      "      )\n",
      "    )\n",
      "    (avgpool): AvgPool2d (size=7, stride=7, padding=0, ceil_mode=False, count_include_pad=True)\n",
      "  )\n",
      "  (mrnd): MyResNetDens (\n",
      "    (dens1): Linear (64 -> 32)\n",
      "    (dens2): Linear (32 -> 10)\n",
      "  )\n",
      ")\n"
     ]
    }
   ],
   "source": [
    "print(model)"
   ]
  },
  {
   "cell_type": "code",
   "execution_count": 165,
   "metadata": {
    "collapsed": true
   },
   "outputs": [],
   "source": [
    "def predict_convolutional(dset_loaders, model, get_labels = False):\n",
    "\n",
    "    predictions = []\n",
    "    labels_lst = []\n",
    "    ii_n = len(dset_loaders)\n",
    "\n",
    "    for i, (inputs, labels) in enumerate(dset_loaders):\n",
    "        if use_gpu:\n",
    "            inputs = inputs.cuda()\n",
    "            labels = labels.cuda()\n",
    "        inputs = Variable(inputs)\n",
    "        predictions.append(model(inputs).data)\n",
    "        if get_labels:\n",
    "            labels_lst.append(labels)\n",
    "\n",
    "        print('\\rpredict: {}/{}'.format(i, ii_n - 1), end='')\n",
    "    print(' ok')\n",
    "    if len(predictions) > 0:\n",
    "        return {'input': torch.cat(predictions, 0), 'ouput':torch.cat(labels_lst, 0) }"
   ]
  },
  {
   "cell_type": "code",
   "execution_count": 166,
   "metadata": {},
   "outputs": [
    {
     "name": "stdout",
     "output_type": "stream",
     "text": [
      "predict: 56/56 ok\n",
      "predict: 13/13 ok\n"
     ]
    }
   ],
   "source": [
    "convOutput_train = predict_convolutional(dset_loaders['train'], model.mrnc, get_labels= True)\n",
    "convOutput_valid = predict_convolutional(dset_loaders['valid'], model.mrnc, get_labels= True)"
   ]
  },
  {
   "cell_type": "code",
   "execution_count": 167,
   "metadata": {},
   "outputs": [
    {
     "name": "stdout",
     "output_type": "stream",
     "text": [
      "torch.Size([1794, 64]) torch.Size([1794])\n",
      "torch.Size([448, 64]) torch.Size([448])\n"
     ]
    }
   ],
   "source": [
    "print(convOutput_train['input'].size(), convOutput_train['ouput'].size())\n",
    "print(convOutput_valid['input'].size(), convOutput_valid['ouput'].size())"
   ]
  },
  {
   "cell_type": "code",
   "execution_count": 168,
   "metadata": {
    "collapsed": true
   },
   "outputs": [],
   "source": [
    "conv_dset ={\n",
    "    'train': TensorDataset(convOutput_train['input'], convOutput_train['ouput']),\n",
    "    'valid': TensorDataset(convOutput_valid['input'], convOutput_valid['ouput'])\n",
    "} "
   ]
  },
  {
   "cell_type": "code",
   "execution_count": 169,
   "metadata": {
    "collapsed": true
   },
   "outputs": [],
   "source": [
    "dset_loaders_convnet = _create_dataLoader(conv_dset, batch_size, cpu_count)"
   ]
  },
  {
   "cell_type": "code",
   "execution_count": 105,
   "metadata": {
    "collapsed": true
   },
   "outputs": [],
   "source": [
    "optimizer =  optim.Adam(model.mrnd.parameters(), lr=1e-3)\n",
    "scheduler = StepLR(optimizer, step_size=5, gamma=0.75)\n",
    "loss_fn = nn.CrossEntropyLoss()\n",
    "num_epochs = 10"
   ]
  },
  {
   "cell_type": "code",
   "execution_count": 106,
   "metadata": {
    "collapsed": true
   },
   "outputs": [],
   "source": [
    "savebest = ptt.ModelCheckpoint('/home/r120084/project/models/distractdriver',reset=False, verbose=1)\n",
    "\n",
    "params = {'model' : model.mrnd, \n",
    "    'criterion': loss_fn,  \n",
    "    'optimizer': optimizer, \n",
    "    'callbacks': [savebest,  ptt.PrintCallback()] #ptt.PlotCallback(),\n",
    "        }"
   ]
  },
  {
   "cell_type": "code",
   "execution_count": 132,
   "metadata": {
    "collapsed": true
   },
   "outputs": [],
   "source": [
    "trainer = ptt.DeepNetTrainer(**params)"
   ]
  },
  {
   "cell_type": "code",
   "execution_count": 133,
   "metadata": {},
   "outputs": [
    {
     "name": "stdout",
     "output_type": "stream",
     "text": [
      "Start training for 500 epochs\n",
      "  1:   1.5s   T: 1.83316   V: 1.96955 best\n",
      "  2:   1.5s   T: 1.84192   V: 1.96630 best\n",
      "  3:   1.7s   T: 1.83868   V: 1.96480 best\n",
      "  4:   1.4s   T: 1.83709   V: 1.96334 best\n",
      "  5:   1.3s   T: 1.83470   V: 1.96258 best\n",
      "  6:   1.2s   T: 1.83323   V: 1.96128 best\n",
      "  7:   1.8s   T: 1.83096   V: 1.96002 best\n",
      "  8:   1.1s   T: 1.82969   V: 1.95849 best\n",
      "  9:   1.2s   T: 1.82734   V: 1.95731 best\n",
      " 10:   1.3s   T: 1.82491   V: 1.95581 best\n",
      " 11:   1.4s   T: 1.82379   V: 1.95530 best\n",
      " 12:   1.6s   T: 1.82175   V: 1.95417 best\n",
      " 13:   1.4s   T: 1.81981   V: 1.95329 best\n",
      " 14:   1.4s   T: 1.81797   V: 1.95188 best\n",
      " 15:   1.5s   T: 1.81574   V: 1.95088 best\n",
      " 16:   1.3s   T: 1.81434   V: 1.95008 best\n",
      " 17:   1.6s   T: 1.81272   V: 1.94921 best\n",
      " 18:   1.3s   T: 1.81106   V: 1.94816 best\n",
      " 19:   1.5s   T: 1.80910   V: 1.94706 best\n",
      " 20:   1.2s   T: 1.80752   V: 1.94601 best\n",
      " 21:   1.3s   T: 1.80605   V: 1.94572 best\n",
      " 22:   1.4s   T: 1.80437   V: 1.94473 best\n",
      " 23:   1.3s   T: 1.80261   V: 1.94372 best\n",
      " 24:   1.5s   T: 1.80077   V: 1.94241 best\n",
      " 25:   1.4s   T: 1.79895   V: 1.94166 best\n",
      " 26:   1.3s   T: 1.79786   V: 1.94078 best\n",
      " 27:   1.3s   T: 1.79612   V: 1.93992 best\n",
      " 28:   1.3s   T: 1.79445   V: 1.93869 best\n",
      " 29:   1.6s   T: 1.79293   V: 1.93852 best\n",
      " 30:   1.5s   T: 1.79153   V: 1.93736 best\n",
      " 31:   1.4s   T: 1.79016   V: 1.93651 best\n",
      " 32:   1.6s   T: 1.78809   V: 1.93600 best\n",
      " 33:   1.6s   T: 1.78699   V: 1.93493 best\n",
      " 34:   1.4s   T: 1.78559   V: 1.93403 best\n",
      " 35:   1.6s   T: 1.78413   V: 1.93314 best\n",
      " 36:   1.6s   T: 1.78253   V: 1.93250 best\n",
      " 37:   1.2s   T: 1.78106   V: 1.93115 best\n",
      " 38:   1.3s   T: 1.77926   V: 1.92998 best\n",
      " 39:   1.6s   T: 1.77783   V: 1.92962 best\n",
      " 40:   1.5s   T: 1.77661   V: 1.92917 best\n",
      " 41:   1.5s   T: 1.77516   V: 1.92813 best\n",
      " 42:   1.3s   T: 1.77326   V: 1.92690 best\n",
      " 43:   1.8s   T: 1.77220   V: 1.92599 best\n",
      " 44:   2.0s   T: 1.77063   V: 1.92509 best\n",
      " 45:   2.0s   T: 1.76962   V: 1.92497 best\n",
      " 46:   1.3s   T: 1.76797   V: 1.92376 best\n",
      " 47:   1.4s   T: 1.76611   V: 1.92320 best\n",
      " 48:   1.4s   T: 1.76495   V: 1.92209 best\n",
      " 49:   1.5s   T: 1.76379   V: 1.92167 best\n",
      " 50:   1.6s   T: 1.76262   V: 1.92036 best\n",
      " 51:   1.5s   T: 1.76085   V: 1.92019 best\n",
      " 52:   1.2s   T: 1.75979   V: 1.91929 best\n",
      " 53:   1.6s   T: 1.75868   V: 1.91809 best\n",
      " 54:   1.5s   T: 1.75742   V: 1.91746 best\n",
      " 55:   1.6s   T: 1.75611   V: 1.91664 best\n",
      " 56:   1.5s   T: 1.75459   V: 1.91542 best\n",
      " 57:   1.6s   T: 1.75331   V: 1.91466 best\n",
      " 58:   1.5s   T: 1.75200   V: 1.91476 \n",
      " 59:   1.5s   T: 1.75095   V: 1.91384 best\n",
      " 60:   1.6s   T: 1.74936   V: 1.91345 best\n",
      " 61:   1.6s   T: 1.74786   V: 1.91253 best\n",
      " 62:   1.4s   T: 1.74663   V: 1.91066 best\n",
      " 63:   1.5s   T: 1.74564   V: 1.91056 best\n",
      " 64:   1.5s   T: 1.74440   V: 1.91034 best\n",
      " 65:   1.4s   T: 1.74337   V: 1.91020 best\n",
      " 66:   1.7s   T: 1.74194   V: 1.90888 best\n",
      " 67:   1.5s   T: 1.74082   V: 1.90847 best\n",
      " 68:   1.7s   T: 1.73955   V: 1.90732 best\n",
      " 69:   1.4s   T: 1.73762   V: 1.90624 best\n",
      " 70:   1.4s   T: 1.73694   V: 1.90630 \n",
      " 71:   1.8s   T: 1.73565   V: 1.90521 best\n",
      " 72:   1.6s   T: 1.73478   V: 1.90476 best\n",
      " 73:   1.5s   T: 1.73365   V: 1.90476 best\n",
      " 74:   1.5s   T: 1.73282   V: 1.90384 best\n",
      " 75:   1.5s   T: 1.73124   V: 1.90278 best\n",
      " 76:   1.3s   T: 1.73038   V: 1.90302 \n",
      " 77:   1.3s   T: 1.72938   V: 1.90194 best\n",
      " 78:   1.4s   T: 1.72803   V: 1.90205 \n",
      " 79:   1.5s   T: 1.72703   V: 1.90052 best\n",
      " 80:   1.5s   T: 1.72559   V: 1.89970 best\n",
      " 81:   1.7s   T: 1.72485   V: 1.89896 best\n",
      " 82:   1.6s   T: 1.72390   V: 1.89837 best\n",
      " 83:   1.3s   T: 1.72259   V: 1.89774 best\n",
      " 84:   1.6s   T: 1.72110   V: 1.89671 best\n",
      " 85:   1.5s   T: 1.72040   V: 1.89719 \n",
      " 86:   1.7s   T: 1.71952   V: 1.89637 best\n",
      " 87:   1.4s   T: 1.71783   V: 1.89648 \n",
      " 88:   1.3s   T: 1.71709   V: 1.89535 best\n",
      " 89:   1.5s   T: 1.71624   V: 1.89474 best\n",
      " 90:   1.6s   T: 1.71495   V: 1.89440 best\n",
      " 91:   1.5s   T: 1.71387   V: 1.89370 best\n",
      " 92:   1.4s   T: 1.71271   V: 1.89311 best\n",
      " 93:   1.5s   T: 1.71160   V: 1.89295 best\n",
      " 94:   1.5s   T: 1.71047   V: 1.89201 best\n",
      " 95:   1.5s   T: 1.71025   V: 1.89190 best\n",
      " 96:   1.4s   T: 1.70910   V: 1.89103 best\n",
      " 97:   1.3s   T: 1.70799   V: 1.89079 best\n",
      " 98:   1.4s   T: 1.70701   V: 1.89067 best\n",
      " 99:   1.9s   T: 1.70596   V: 1.88957 best\n",
      "100:   1.4s   T: 1.70472   V: 1.88980 \n",
      "101:   1.4s   T: 1.70365   V: 1.88779 best\n",
      "102:   1.2s   T: 1.70245   V: 1.88658 best\n",
      "103:   1.3s   T: 1.70191   V: 1.88748 \n",
      "104:   1.5s   T: 1.70047   V: 1.88634 best\n",
      "105:   1.6s   T: 1.69944   V: 1.88588 best\n",
      "106:   1.7s   T: 1.69844   V: 1.88512 best\n",
      "107:   1.6s   T: 1.69727   V: 1.88513 \n",
      "108:   1.6s   T: 1.69563   V: 1.88324 best\n",
      "109:   1.4s   T: 1.69529   V: 1.88442 \n",
      "110:   1.4s   T: 1.69427   V: 1.88458 \n",
      "111:   1.6s   T: 1.69360   V: 1.88370 \n",
      "112:   1.6s   T: 1.69217   V: 1.88320 best\n",
      "113:   1.6s   T: 1.69129   V: 1.88255 best\n",
      "114:   1.5s   T: 1.69047   V: 1.88266 \n",
      "115:   1.6s   T: 1.68998   V: 1.88278 \n",
      "116:   1.6s   T: 1.68881   V: 1.88135 best\n",
      "117:   1.3s   T: 1.68782   V: 1.88088 best\n",
      "118:   1.5s   T: 1.68669   V: 1.88047 best\n",
      "119:   1.7s   T: 1.68602   V: 1.87907 best\n",
      "120:   1.4s   T: 1.68439   V: 1.87828 best\n",
      "121:   1.3s   T: 1.68414   V: 1.87861 \n",
      "122:   1.4s   T: 1.68322   V: 1.87828 \n",
      "123:   1.4s   T: 1.68235   V: 1.87800 best\n",
      "124:   1.6s   T: 1.68107   V: 1.87653 best\n",
      "125:   1.5s   T: 1.68017   V: 1.87583 best\n",
      "126:   1.6s   T: 1.67917   V: 1.87480 best\n",
      "127:   1.5s   T: 1.67884   V: 1.87662 \n",
      "128:   1.5s   T: 1.67802   V: 1.87601 \n",
      "129:   1.5s   T: 1.67649   V: 1.87494 \n",
      "130:   1.3s   T: 1.67616   V: 1.87539 \n",
      "131:   1.5s   T: 1.67520   V: 1.87344 best\n",
      "132:   1.4s   T: 1.67421   V: 1.87388 \n",
      "133:   1.6s   T: 1.67308   V: 1.87270 best\n",
      "134:   1.5s   T: 1.67188   V: 1.87273 \n",
      "135:   1.7s   T: 1.67115   V: 1.87218 best\n",
      "136:   1.5s   T: 1.66978   V: 1.86996 best\n",
      "137:   1.2s   T: 1.66879   V: 1.87077 \n",
      "138:   1.6s   T: 1.66876   V: 1.87179 \n",
      "139:   1.6s   T: 1.66785   V: 1.86980 best\n",
      "140:   1.3s   T: 1.66703   V: 1.87034 \n",
      "141:   1.5s   T: 1.66600   V: 1.86979 best\n",
      "142:   1.2s   T: 1.66546   V: 1.87007 \n",
      "143:   1.6s   T: 1.66461   V: 1.86806 best\n",
      "144:   1.5s   T: 1.66367   V: 1.86782 best\n",
      "145:   1.5s   T: 1.66268   V: 1.86809 \n",
      "146:   1.3s   T: 1.66254   V: 1.86627 best\n",
      "147:   1.5s   T: 1.66136   V: 1.86535 best\n",
      "148:   1.5s   T: 1.66052   V: 1.86525 best\n",
      "149:   1.6s   T: 1.65977   V: 1.86303 best\n",
      "150:   1.6s   T: 1.65838   V: 1.86520 \n",
      "151:   1.3s   T: 1.65830   V: 1.86347 \n",
      "152:   1.2s   T: 1.65742   V: 1.86315 \n",
      "153:   1.5s   T: 1.65648   V: 1.86270 best\n",
      "154:   1.6s   T: 1.65594   V: 1.86302 \n",
      "155:   1.6s   T: 1.65495   V: 1.86178 best\n",
      "156:   1.8s   T: 1.65426   V: 1.86159 best\n",
      "157:   1.2s   T: 1.65313   V: 1.86127 best\n",
      "158:   1.3s   T: 1.65271   V: 1.86205 \n",
      "159:   1.5s   T: 1.65177   V: 1.86088 best\n",
      "160:   1.5s   T: 1.65100   V: 1.86045 best\n",
      "161:   1.4s   T: 1.65001   V: 1.85961 best\n",
      "162:   1.5s   T: 1.64932   V: 1.85917 best\n",
      "163:   1.7s   T: 1.64843   V: 1.85850 best\n",
      "164:   1.5s   T: 1.64752   V: 1.85801 best\n",
      "165:   1.5s   T: 1.64698   V: 1.85805 \n",
      "166:   1.5s   T: 1.64582   V: 1.85767 best\n",
      "167:   1.4s   T: 1.64533   V: 1.85709 best\n",
      "168:   1.6s   T: 1.64448   V: 1.85590 best\n",
      "169:   1.1s   T: 1.64343   V: 1.85611 \n",
      "170:   1.2s   T: 1.64304   V: 1.85543 best\n",
      "171:   1.3s   T: 1.64216   V: 1.85554 \n",
      "172:   1.4s   T: 1.64126   V: 1.85551 \n",
      "173:   1.4s   T: 1.64088   V: 1.85406 best\n",
      "174:   1.3s   T: 1.63978   V: 1.85458 \n",
      "175:   1.4s   T: 1.63901   V: 1.85279 best\n",
      "176:   1.5s   T: 1.63795   V: 1.85227 best\n",
      "177:   1.4s   T: 1.63704   V: 1.85220 best\n",
      "178:   1.5s   T: 1.63656   V: 1.85207 best\n",
      "179:   1.6s   T: 1.63557   V: 1.85032 best\n",
      "180:   1.4s   T: 1.63490   V: 1.85220 \n",
      "181:   1.5s   T: 1.63447   V: 1.84978 best\n",
      "182:   1.4s   T: 1.63323   V: 1.85086 \n",
      "183:   1.7s   T: 1.63250   V: 1.84980 \n",
      "184:   1.5s   T: 1.63196   V: 1.85028 \n",
      "185:   1.4s   T: 1.63127   V: 1.84951 best\n",
      "186:   1.4s   T: 1.63019   V: 1.84886 best\n",
      "187:   1.2s   T: 1.62957   V: 1.84923 \n",
      "188:   1.2s   T: 1.62879   V: 1.84799 best\n",
      "189:   1.3s   T: 1.62812   V: 1.84903 \n",
      "190:   1.6s   T: 1.62743   V: 1.84708 best\n",
      "191:   1.6s   T: 1.62657   V: 1.84713 \n",
      "192:   1.4s   T: 1.62544   V: 1.84679 best\n",
      "193:   1.5s   T: 1.62484   V: 1.84558 best\n",
      "194:   1.7s   T: 1.62399   V: 1.84669 \n"
     ]
    },
    {
     "name": "stdout",
     "output_type": "stream",
     "text": [
      "195:   1.3s   T: 1.62384   V: 1.84585 \n",
      "196:   1.4s   T: 1.62329   V: 1.84621 \n",
      "197:   1.9s   T: 1.62241   V: 1.84459 best\n",
      "198:   1.3s   T: 1.62156   V: 1.84310 best\n",
      "199:   1.5s   T: 1.62122   V: 1.84361 \n",
      "200:   1.6s   T: 1.62016   V: 1.84342 \n",
      "201:   1.5s   T: 1.61947   V: 1.84131 best\n",
      "202:   1.5s   T: 1.61837   V: 1.84219 \n",
      "203:   1.5s   T: 1.61733   V: 1.84129 best\n",
      "204:   1.3s   T: 1.61697   V: 1.84138 \n",
      "205:   1.2s   T: 1.61607   V: 1.84074 best\n",
      "206:   1.7s   T: 1.61551   V: 1.83946 best\n",
      "207:   1.6s   T: 1.61450   V: 1.83975 \n",
      "208:   1.4s   T: 1.61407   V: 1.83939 best\n",
      "209:   1.7s   T: 1.61288   V: 1.83881 best\n",
      "210:   1.5s   T: 1.61248   V: 1.83871 best\n",
      "211:   1.2s   T: 1.61169   V: 1.83835 best\n",
      "212:   1.3s   T: 1.61084   V: 1.83836 \n",
      "213:   1.5s   T: 1.61049   V: 1.83767 best\n",
      "214:   1.6s   T: 1.60977   V: 1.83730 best\n",
      "215:   1.4s   T: 1.60914   V: 1.83672 best\n",
      "216:   1.4s   T: 1.60853   V: 1.83628 best\n",
      "217:   1.6s   T: 1.60755   V: 1.83638 \n",
      "218:   1.3s   T: 1.60707   V: 1.83554 best\n",
      "219:   1.4s   T: 1.60615   V: 1.83500 best\n",
      "220:   1.6s   T: 1.60563   V: 1.83567 \n",
      "221:   1.5s   T: 1.60500   V: 1.83438 best\n",
      "222:   1.5s   T: 1.60401   V: 1.83513 \n",
      "223:   1.6s   T: 1.60394   V: 1.83431 best\n",
      "224:   1.3s   T: 1.60282   V: 1.83361 best\n",
      "225:   1.2s   T: 1.60252   V: 1.83309 best\n",
      "226:   1.5s   T: 1.60132   V: 1.83291 best\n",
      "227:   1.6s   T: 1.60109   V: 1.83104 best\n",
      "228:   1.2s   T: 1.60003   V: 1.83208 \n",
      "229:   1.4s   T: 1.59960   V: 1.83101 best\n",
      "230:   1.4s   T: 1.59855   V: 1.83098 best\n",
      "231:   1.4s   T: 1.59844   V: 1.83085 best\n",
      "232:   1.6s   T: 1.59773   V: 1.83009 best\n",
      "233:   1.5s   T: 1.59689   V: 1.82981 best\n",
      "234:   1.6s   T: 1.59633   V: 1.82992 \n",
      "235:   1.8s   T: 1.59562   V: 1.82916 best\n",
      "236:   1.6s   T: 1.59474   V: 1.82867 best\n",
      "237:   1.8s   T: 1.59411   V: 1.82869 \n",
      "238:   1.5s   T: 1.59350   V: 1.82730 best\n",
      "239:   1.6s   T: 1.59243   V: 1.82732 \n",
      "240:   1.7s   T: 1.59218   V: 1.82684 best\n",
      "241:   1.4s   T: 1.59156   V: 1.82682 best\n",
      "242:   1.3s   T: 1.59124   V: 1.82623 best\n",
      "243:   1.5s   T: 1.59014   V: 1.82514 best\n",
      "244:   1.5s   T: 1.58953   V: 1.82470 best\n",
      "245:   1.3s   T: 1.58860   V: 1.82393 best\n",
      "246:   1.4s   T: 1.58812   V: 1.82382 best\n",
      "247:   1.5s   T: 1.58752   V: 1.82311 best\n",
      "248:   1.4s   T: 1.58683   V: 1.82260 best\n",
      "249:   1.2s   T: 1.58623   V: 1.82215 best\n",
      "250:   1.5s   T: 1.58549   V: 1.82141 best\n",
      "251:   1.7s   T: 1.58495   V: 1.82128 best\n",
      "252:   1.5s   T: 1.58405   V: 1.82121 best\n",
      "253:   1.5s   T: 1.58356   V: 1.82134 \n",
      "254:   1.4s   T: 1.58285   V: 1.82081 best\n",
      "255:   1.2s   T: 1.58201   V: 1.82015 best\n",
      "256:   1.5s   T: 1.58115   V: 1.81912 best\n",
      "257:   1.3s   T: 1.58073   V: 1.81951 \n",
      "258:   1.2s   T: 1.58040   V: 1.81912 best\n",
      "259:   1.2s   T: 1.57986   V: 1.81905 best\n",
      "260:   1.2s   T: 1.57883   V: 1.81910 \n",
      "261:   1.5s   T: 1.57842   V: 1.81940 \n",
      "262:   1.5s   T: 1.57793   V: 1.81869 best\n",
      "263:   1.3s   T: 1.57704   V: 1.81810 best\n",
      "264:   1.4s   T: 1.57638   V: 1.81765 best\n",
      "265:   1.4s   T: 1.57606   V: 1.81673 best\n",
      "266:   1.5s   T: 1.57521   V: 1.81717 \n",
      "267:   1.4s   T: 1.57439   V: 1.81684 \n",
      "268:   1.6s   T: 1.57403   V: 1.81583 best\n",
      "269:   1.5s   T: 1.57355   V: 1.81516 best\n",
      "270:   1.3s   T: 1.57328   V: 1.81625 \n",
      "271:   1.6s   T: 1.57263   V: 1.81532 \n",
      "272:   1.5s   T: 1.57201   V: 1.81443 best\n",
      "273:   1.5s   T: 1.57159   V: 1.81364 best\n",
      "274:   1.4s   T: 1.57051   V: 1.81391 \n",
      "275:   1.4s   T: 1.57006   V: 1.81371 \n",
      "276:   1.6s   T: 1.56961   V: 1.81330 best\n",
      "277:   1.6s   T: 1.56890   V: 1.81345 \n",
      "278:   1.3s   T: 1.56849   V: 1.81266 best\n",
      "279:   1.4s   T: 1.56797   V: 1.81190 best\n",
      "280:   1.2s   T: 1.56759   V: 1.81110 best\n",
      "281:   1.5s   T: 1.56699   V: 1.81126 \n",
      "282:   1.5s   T: 1.56601   V: 1.81045 best\n",
      "283:   1.4s   T: 1.56569   V: 1.81014 best\n",
      "284:   1.6s   T: 1.56522   V: 1.80945 best\n",
      "285:   1.4s   T: 1.56439   V: 1.81094 \n",
      "286:   1.4s   T: 1.56374   V: 1.80903 best\n",
      "287:   1.6s   T: 1.56305   V: 1.81042 \n",
      "288:   1.7s   T: 1.56283   V: 1.80888 best\n",
      "289:   1.5s   T: 1.56206   V: 1.80960 \n",
      "290:   1.5s   T: 1.56186   V: 1.80759 best\n",
      "291:   1.7s   T: 1.56095   V: 1.80834 \n",
      "292:   1.5s   T: 1.56077   V: 1.80805 \n",
      "293:   1.6s   T: 1.55965   V: 1.80691 best\n",
      "294:   1.2s   T: 1.55913   V: 1.80706 \n",
      "295:   1.6s   T: 1.55879   V: 1.80761 \n",
      "296:   1.7s   T: 1.55831   V: 1.80654 best\n",
      "297:   1.4s   T: 1.55763   V: 1.80720 \n",
      "298:   1.4s   T: 1.55735   V: 1.80537 best\n",
      "299:   1.4s   T: 1.55671   V: 1.80562 \n",
      "300:   1.6s   T: 1.55623   V: 1.80619 \n",
      "301:   1.2s   T: 1.55561   V: 1.80563 \n",
      "302:   1.5s   T: 1.55500   V: 1.80452 best\n",
      "303:   1.4s   T: 1.55434   V: 1.80525 \n",
      "304:   1.5s   T: 1.55363   V: 1.80417 best\n",
      "305:   1.6s   T: 1.55310   V: 1.80491 \n",
      "306:   1.5s   T: 1.55289   V: 1.80336 best\n",
      "307:   1.3s   T: 1.55202   V: 1.80366 \n",
      "308:   1.3s   T: 1.55195   V: 1.80299 best\n",
      "309:   1.2s   T: 1.55072   V: 1.80385 \n",
      "310:   1.3s   T: 1.55044   V: 1.80318 \n",
      "311:   1.7s   T: 1.54986   V: 1.80303 \n",
      "312:   1.7s   T: 1.54929   V: 1.80216 best\n",
      "313:   1.2s   T: 1.54886   V: 1.80159 best\n",
      "314:   1.3s   T: 1.54809   V: 1.80140 best\n",
      "315:   1.3s   T: 1.54732   V: 1.80089 best\n",
      "316:   1.3s   T: 1.54695   V: 1.80142 \n",
      "317:   1.3s   T: 1.54656   V: 1.80038 best\n",
      "318:   1.6s   T: 1.54591   V: 1.79891 best\n",
      "319:   1.4s   T: 1.54537   V: 1.79934 \n",
      "320:   1.7s   T: 1.54452   V: 1.79903 \n",
      "321:   1.4s   T: 1.54430   V: 1.79930 \n",
      "322:   1.3s   T: 1.54390   V: 1.79876 best\n",
      "323:   1.5s   T: 1.54361   V: 1.79841 best\n",
      "324:   1.2s   T: 1.54290   V: 1.79703 best\n",
      "325:   1.6s   T: 1.54187   V: 1.79698 best\n",
      "326:   1.4s   T: 1.54163   V: 1.79746 \n",
      "327:   1.6s   T: 1.54143   V: 1.79714 \n",
      "328:   1.4s   T: 1.54047   V: 1.79737 \n",
      "329:   1.3s   T: 1.54052   V: 1.79665 best\n",
      "330:   1.5s   T: 1.54010   V: 1.79502 best\n",
      "331:   1.6s   T: 1.53955   V: 1.79541 \n",
      "332:   1.4s   T: 1.53882   V: 1.79569 \n",
      "333:   1.6s   T: 1.53834   V: 1.79450 best\n",
      "334:   1.4s   T: 1.53749   V: 1.79482 \n",
      "335:   1.5s   T: 1.53726   V: 1.79448 best\n",
      "336:   1.4s   T: 1.53743   V: 1.79405 best\n",
      "337:   1.3s   T: 1.53599   V: 1.79377 best\n",
      "338:   1.5s   T: 1.53606   V: 1.79369 best\n",
      "339:   1.2s   T: 1.53490   V: 1.79255 best\n",
      "340:   1.6s   T: 1.53435   V: 1.79330 \n",
      "341:   1.8s   T: 1.53408   V: 1.79209 best\n",
      "342:   1.2s   T: 1.53341   V: 1.79249 \n",
      "343:   1.4s   T: 1.53338   V: 1.79271 \n",
      "344:   2.0s   T: 1.53282   V: 1.79109 best\n",
      "345:   1.3s   T: 1.53208   V: 1.79114 \n",
      "346:   1.4s   T: 1.53141   V: 1.79189 \n",
      "347:   1.3s   T: 1.53095   V: 1.79162 \n",
      "348:   1.6s   T: 1.53057   V: 1.78972 best\n",
      "349:   1.6s   T: 1.52964   V: 1.78981 \n",
      "350:   1.2s   T: 1.52975   V: 1.78869 best\n",
      "351:   1.6s   T: 1.52889   V: 1.78905 \n",
      "352:   1.6s   T: 1.52803   V: 1.78891 \n",
      "353:   1.4s   T: 1.52796   V: 1.78822 best\n",
      "354:   1.3s   T: 1.52663   V: 1.78860 \n",
      "355:   1.4s   T: 1.52686   V: 1.78908 \n",
      "356:   1.3s   T: 1.52602   V: 1.78759 best\n",
      "357:   1.4s   T: 1.52572   V: 1.78839 \n",
      "358:   1.4s   T: 1.52525   V: 1.78661 best\n",
      "359:   1.2s   T: 1.52444   V: 1.78662 \n",
      "360:   1.8s   T: 1.52427   V: 1.78566 best\n",
      "361:   1.7s   T: 1.52328   V: 1.78682 \n",
      "362:   1.4s   T: 1.52315   V: 1.78604 \n",
      "363:   1.4s   T: 1.52228   V: 1.78440 best\n",
      "364:   1.3s   T: 1.52247   V: 1.78614 \n",
      "365:   1.2s   T: 1.52173   V: 1.78445 \n",
      "366:   1.3s   T: 1.52105   V: 1.78644 \n",
      "367:   1.8s   T: 1.52036   V: 1.78429 best\n",
      "368:   1.2s   T: 1.52037   V: 1.78484 \n",
      "369:   1.5s   T: 1.51955   V: 1.78540 \n",
      "370:   1.4s   T: 1.51934   V: 1.78417 best\n",
      "371:   1.4s   T: 1.51880   V: 1.78471 \n",
      "372:   1.5s   T: 1.51800   V: 1.78334 best\n",
      "373:   1.5s   T: 1.51751   V: 1.78388 \n",
      "374:   1.6s   T: 1.51723   V: 1.78299 best\n",
      "375:   1.4s   T: 1.51655   V: 1.78149 best\n",
      "376:   1.4s   T: 1.51588   V: 1.78165 \n",
      "377:   1.6s   T: 1.51589   V: 1.78302 \n",
      "378:   1.6s   T: 1.51479   V: 1.78198 \n",
      "379:   1.3s   T: 1.51420   V: 1.78153 \n",
      "380:   1.7s   T: 1.51396   V: 1.78232 \n",
      "381:   1.3s   T: 1.51346   V: 1.78256 \n",
      "382:   1.2s   T: 1.51292   V: 1.78040 best\n",
      "383:   1.3s   T: 1.51243   V: 1.78086 \n",
      "384:   1.4s   T: 1.51190   V: 1.78093 \n",
      "385:   1.6s   T: 1.51146   V: 1.78040 \n",
      "386:   1.6s   T: 1.51111   V: 1.78020 best\n",
      "387:   1.3s   T: 1.51028   V: 1.78120 \n",
      "388:   1.5s   T: 1.50993   V: 1.77963 best\n",
      "389:   1.5s   T: 1.50974   V: 1.78003 \n",
      "390:   1.6s   T: 1.50927   V: 1.77976 \n",
      "391:   1.4s   T: 1.50869   V: 1.77898 best\n",
      "392:   1.5s   T: 1.50782   V: 1.78048 \n"
     ]
    },
    {
     "name": "stdout",
     "output_type": "stream",
     "text": [
      "393:   1.4s   T: 1.50752   V: 1.77824 best\n",
      "394:   1.6s   T: 1.50696   V: 1.78062 \n",
      "395:   1.4s   T: 1.50661   V: 1.77679 best\n",
      "396:   1.5s   T: 1.50561   V: 1.77716 \n",
      "397:   1.8s   T: 1.50548   V: 1.77807 \n",
      "398:   1.4s   T: 1.50501   V: 1.77763 \n",
      "399:   1.5s   T: 1.50488   V: 1.77745 \n",
      "400:   2.0s   T: 1.50396   V: 1.77655 best\n",
      "401:   1.5s   T: 1.50359   V: 1.77795 \n",
      "402:   1.7s   T: 1.50327   V: 1.77794 \n",
      "403:   1.4s   T: 1.50273   V: 1.77557 best\n",
      "404:   1.4s   T: 1.50192   V: 1.77676 \n",
      "405:   1.4s   T: 1.50164   V: 1.77596 \n",
      "406:   1.6s   T: 1.50111   V: 1.77534 best\n",
      "407:   1.6s   T: 1.50081   V: 1.77465 best\n",
      "408:   1.2s   T: 1.50004   V: 1.77324 best\n",
      "409:   1.6s   T: 1.49893   V: 1.77363 \n",
      "410:   1.5s   T: 1.49853   V: 1.77357 \n",
      "411:   1.6s   T: 1.49834   V: 1.77477 \n",
      "412:   1.6s   T: 1.49756   V: 1.77394 \n",
      "413:   1.4s   T: 1.49744   V: 1.77373 \n",
      "414:   1.4s   T: 1.49740   V: 1.77341 \n",
      "415:   1.3s   T: 1.49702   V: 1.77246 best\n",
      "416:   1.5s   T: 1.49636   V: 1.77371 \n",
      "417:   1.5s   T: 1.49574   V: 1.77171 best\n",
      "418:   1.6s   T: 1.49525   V: 1.77180 \n",
      "419:   1.3s   T: 1.49492   V: 1.77168 best\n",
      "420:   1.5s   T: 1.49472   V: 1.77055 best\n",
      "421:   1.5s   T: 1.49361   V: 1.77141 \n",
      "422:   1.5s   T: 1.49352   V: 1.77028 best\n",
      "423:   1.5s   T: 1.49260   V: 1.77098 \n",
      "424:   1.5s   T: 1.49259   V: 1.77027 best\n",
      "425:   1.4s   T: 1.49228   V: 1.77000 best\n",
      "426:   1.4s   T: 1.49175   V: 1.77028 \n",
      "427:   2.0s   T: 1.49089   V: 1.76986 best\n",
      "428:   1.4s   T: 1.49071   V: 1.76893 best\n",
      "429:   1.8s   T: 1.49004   V: 1.76934 \n",
      "430:   1.5s   T: 1.48975   V: 1.76873 best\n",
      "431:   1.5s   T: 1.48949   V: 1.77005 \n",
      "432:   1.5s   T: 1.48897   V: 1.76819 best\n",
      "433:   1.4s   T: 1.48862   V: 1.76797 best\n",
      "434:   1.7s   T: 1.48783   V: 1.76714 best\n",
      "435:   1.3s   T: 1.48746   V: 1.76829 \n",
      "436:   1.6s   T: 1.48705   V: 1.76692 best\n",
      "437:   1.5s   T: 1.48680   V: 1.76832 \n",
      "438:   1.7s   T: 1.48631   V: 1.76670 best\n",
      "439:   1.6s   T: 1.48558   V: 1.76597 best\n",
      "440:   1.3s   T: 1.48521   V: 1.76534 best\n",
      "441:   1.3s   T: 1.48494   V: 1.76608 \n",
      "442:   1.4s   T: 1.48441   V: 1.76626 \n",
      "443:   1.8s   T: 1.48408   V: 1.76542 \n",
      "444:   1.4s   T: 1.48318   V: 1.76573 \n",
      "445:   1.5s   T: 1.48332   V: 1.76552 \n",
      "446:   1.3s   T: 1.48261   V: 1.76546 \n",
      "447:   1.5s   T: 1.48243   V: 1.76655 \n",
      "448:   1.3s   T: 1.48219   V: 1.76538 \n",
      "449:   1.7s   T: 1.48170   V: 1.76434 best\n",
      "450:   1.2s   T: 1.48126   V: 1.76452 \n",
      "451:   1.5s   T: 1.48043   V: 1.76473 \n",
      "452:   1.6s   T: 1.48020   V: 1.76517 \n",
      "453:   1.5s   T: 1.48004   V: 1.76370 best\n",
      "454:   1.3s   T: 1.47886   V: 1.76417 \n",
      "455:   1.9s   T: 1.47879   V: 1.76379 \n",
      "456:   1.3s   T: 1.47866   V: 1.76262 best\n",
      "457:   1.4s   T: 1.47794   V: 1.76227 best\n",
      "458:   1.5s   T: 1.47771   V: 1.76302 \n",
      "459:   1.2s   T: 1.47709   V: 1.76380 \n",
      "460:   1.4s   T: 1.47647   V: 1.76245 \n",
      "461:   1.5s   T: 1.47617   V: 1.76252 \n",
      "462:   1.4s   T: 1.47589   V: 1.76267 \n",
      "463:   1.2s   T: 1.47526   V: 1.76312 \n",
      "464:   1.6s   T: 1.47471   V: 1.76181 best\n",
      "465:   1.5s   T: 1.47417   V: 1.76252 \n",
      "466:   1.2s   T: 1.47417   V: 1.76234 \n",
      "467:   1.3s   T: 1.47376   V: 1.76145 best\n",
      "468:   1.2s   T: 1.47304   V: 1.76176 \n",
      "469:   1.4s   T: 1.47274   V: 1.76148 \n",
      "470:   1.6s   T: 1.47257   V: 1.76101 best\n",
      "471:   1.5s   T: 1.47176   V: 1.76215 \n",
      "472:   1.7s   T: 1.47160   V: 1.76096 best\n",
      "473:   1.3s   T: 1.47115   V: 1.76291 \n",
      "474:   1.4s   T: 1.47089   V: 1.76203 \n",
      "475:   1.7s   T: 1.47029   V: 1.76017 best\n",
      "476:   1.4s   T: 1.46977   V: 1.76094 \n",
      "477:   1.5s   T: 1.46933   V: 1.76068 \n",
      "478:   1.4s   T: 1.46908   V: 1.76103 \n",
      "479:   1.7s   T: 1.46836   V: 1.75965 best\n",
      "480:   1.7s   T: 1.46800   V: 1.76065 \n",
      "481:   1.6s   T: 1.46770   V: 1.75893 best\n",
      "482:   1.7s   T: 1.46737   V: 1.75902 \n",
      "483:   1.5s   T: 1.46667   V: 1.75778 best\n",
      "484:   1.4s   T: 1.46606   V: 1.75788 \n",
      "485:   1.5s   T: 1.46534   V: 1.75977 \n",
      "486:   1.7s   T: 1.46549   V: 1.75947 \n",
      "487:   1.4s   T: 1.46541   V: 1.75843 \n",
      "488:   1.5s   T: 1.46452   V: 1.75827 \n",
      "489:   1.5s   T: 1.46418   V: 1.75819 \n",
      "490:   1.6s   T: 1.46388   V: 1.75747 best\n",
      "491:   1.5s   T: 1.46352   V: 1.75735 best\n",
      "492:   1.4s   T: 1.46297   V: 1.75563 best\n",
      "493:   1.4s   T: 1.46227   V: 1.75582 \n",
      "494:   1.5s   T: 1.46198   V: 1.75487 best\n",
      "495:   1.4s   T: 1.46154   V: 1.75415 best\n",
      "496:   1.5s   T: 1.46066   V: 1.75560 \n",
      "497:   1.6s   T: 1.46097   V: 1.75550 \n",
      "498:   1.4s   T: 1.46041   V: 1.75333 best\n",
      "499:   1.9s   T: 1.45971   V: 1.75322 best\n",
      "500:   1.7s   T: 1.45946   V: 1.75373 \n",
      "Best model was saved at epoch 499 with loss 1.75322: /home/r120084/project/models/distractdriver\n",
      "Stop training at epoch: 500/500\n"
     ]
    }
   ],
   "source": [
    "trainer.fit_loader(500, dset_loaders_convnet['train'], dset_loaders_convnet['valid'])"
   ]
  },
  {
   "cell_type": "code",
   "execution_count": 134,
   "metadata": {
    "collapsed": true
   },
   "outputs": [],
   "source": [
    "if use_gpu:\n",
    "    !free -h\n",
    "    !nvidia-smi"
   ]
  },
  {
   "cell_type": "code",
   "execution_count": 142,
   "metadata": {},
   "outputs": [
    {
     "name": "stderr",
     "output_type": "stream",
     "text": [
      "/home/adessowiki/anaconda3/lib/python3.6/site-packages/matplotlib/font_manager.py:1297: UserWarning: findfont: Font family ['sans-serif'] not found. Falling back to DejaVu Sans\n",
      "  (prop.get_family(), self.defaultFamily[fontext]))\n"
     ]
    },
    {
     "data": {
      "image/png": "[encoded data removed]",
      "text/plain": [
       "<matplotlib.figure.Figure at 0x7f9d80e5aba8>"
      ]
     },
     "metadata": {},
     "output_type": "display_data"
    }
   ],
   "source": [
    "path2save = './figures/results_metrics.png'\n",
    "\n",
    "fig = plt.figure(figsize=(10,5))\n",
    "metrics_map = {'losses': 'Loss', 'acc': 'Acuracy'}\n",
    "\n",
    "metrics_eval_nb = len(trainer.metrics['train'].keys())\n",
    "count = 1\n",
    "for metric in trainer.metrics['train'].keys():\n",
    "    plt.subplot(1,metrics_eval_nb, count)\n",
    "    plt.plot(trainer.metrics['train'][metric], 'ob', label = 'train')\n",
    "    plt.plot(trainer.metrics['valid'][metric], 'or', label = 'valid')\n",
    "    count += 1\n",
    "    plt.xlabel('Epochs', fontsize = 12)\n",
    "    plt.ylabel(metrics_map[metric], fontsize = 12)\n",
    "    plt.title(metrics_map[metric] + \" during the model's training\", fontsize = 16)\n",
    "    plt.legend()\n",
    "fig.savefig(path2save)"
   ]
  },
  {
   "cell_type": "code",
   "execution_count": 260,
   "metadata": {},
   "outputs": [
    {
     "name": "stdout",
     "output_type": "stream",
     "text": [
      "evaluate: 56/56 ok\n",
      "evaluate: 13/13 ok\n"
     ]
    }
   ],
   "source": [
    "train_eval = trainer.evaluate_loader(dset_loaders_convnet['train'])\n",
    "valid_eval = trainer.evaluate_loader(dset_loaders_convnet['valid'])"
   ]
  },
  {
   "cell_type": "code",
   "execution_count": 261,
   "metadata": {},
   "outputs": [
    {
     "data": {
      "text/plain": [
       "({'losses': 1.5947763283250058}, {'losses': 1.7537271891321455})"
      ]
     },
     "execution_count": 261,
     "metadata": {},
     "output_type": "execute_result"
    }
   ],
   "source": [
    "train_eval, valid_eval"
   ]
  },
  {
   "cell_type": "code",
   "execution_count": 276,
   "metadata": {},
   "outputs": [],
   "source": [
    "def predict_images(dset):\n",
    "\n",
    "    output_true = []\n",
    "    output_pred_lst = []\n",
    "    correct = 0\n",
    "    for i, (inputs, outputs) in enumerate(dset):\n",
    "        if use_gpu:\n",
    "            inputs = inputs.cuda()\n",
    "            outputs = outputs.cuda()\n",
    "        output_pred = trainer.predict(inputs)      \n",
    "        _, predicted = torch.max(output_pred, 0)\n",
    "        predicted = predicted.numpy()\n",
    "        correct += (predicted == outputs)\n",
    "        output_pred_lst.append(predicted[0])\n",
    "        output_true.append(outputs)\n",
    "    output_pred_lst = np.array(output_pred_lst)\n",
    "    output_true = np.array(output_true)\n",
    "\n",
    "    result = {'true': output_true, 'pred': output_pred_lst}\n",
    "    return result"
   ]
  },
  {
   "cell_type": "code",
   "execution_count": 277,
   "metadata": {
    "collapsed": true
   },
   "outputs": [],
   "source": [
    "result_train = predict_images(conv_dset['train'])\n",
    "result_valid = predict_images(conv_dset['valid'])"
   ]
  },
  {
   "cell_type": "code",
   "execution_count": 283,
   "metadata": {},
   "outputs": [],
   "source": [
    "correct_train = (result_train['true'] == result_train['pred']).sum()\n",
    "correct_valid = (result_valid['true'] == result_valid['pred']).sum()"
   ]
  },
  {
   "cell_type": "code",
   "execution_count": 284,
   "metadata": {},
   "outputs": [
    {
     "name": "stdout",
     "output_type": "stream",
     "text": [
      "Train:  812 / 1794\n",
      "Valid:  190 / 448\n"
     ]
    }
   ],
   "source": [
    "print('Train: ', correct_train, '/', len(conv_dset['train']) )\n",
    "print('Valid: ', correct_valid, '/', len(conv_dset['valid']) )"
   ]
  },
  {
   "cell_type": "code",
   "execution_count": null,
   "metadata": {
    "collapsed": true
   },
   "outputs": [],
   "source": []
  },
  {
   "cell_type": "code",
   "execution_count": null,
   "metadata": {
    "collapsed": true
   },
   "outputs": [],
   "source": []
  }
 ],
 "metadata": {
  "kernelspec": {
   "display_name": "Python 3",
   "language": "python",
   "name": "python3"
  },
  "language_info": {
   "codemirror_mode": {
    "name": "ipython",
    "version": 3
   },
   "file_extension": ".py",
   "mimetype": "text/x-python",
   "name": "python",
   "nbconvert_exporter": "python",
   "pygments_lexer": "ipython3",
   "version": "3.6.0"
  }
 },
 "nbformat": 4,
 "nbformat_minor": 2
}
