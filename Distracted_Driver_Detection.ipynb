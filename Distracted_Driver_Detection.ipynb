{
 "cells": [
  {
   "cell_type": "code",
   "execution_count": 1,
   "metadata": {},
   "outputs": [],
   "source": [
    "%matplotlib inline\n",
    "import numpy as np\n",
    "\n",
    "import torch\n",
    "\n",
    "import torch.nn as nn\n",
    "import torch.optim as optim\n",
    "from torch.optim.lr_scheduler import StepLR\n",
    "import torchvision.transforms as transforms\n",
    "from torch.utils.data import  Dataset, TensorDataset, DataLoader\n",
    "\n",
    "\n",
    "import lib.pytorch_trainer as ptt\n",
    "\n",
    "from src.imgnet_utils import denormalize\n",
    "\n",
    "from src.data_loader import _create_dataLoader\n",
    "\n",
    "from src.Dataset import KaggleSafeDriverDataset\n",
    "\n",
    "from src.plot_utils import (plot_classes, plot_distribution,\n",
    "                            statistical_analysis_image, classDistribution,\n",
    "                            plot_metrics,visualize_predictions,\n",
    "                            plot_cm_train_valid,plot_layers_weight)\n",
    "      \n",
    "from src.convnet_models import (MyResNet, MyInception, MyDenseNet)\n",
    "\n",
    "from src.extractor_utils import (predict, getPrediction)\n",
    "\n",
    "from utils.make_submission import *"
   ]
  },
  {
   "cell_type": "code",
   "execution_count": 2,
   "metadata": {},
   "outputs": [
    {
     "name": "stdout",
     "output_type": "stream",
     "text": [
      "4 GPU's available:\n",
      "\n",
      "cpu_count: 24\n"
     ]
    }
   ],
   "source": [
    "print(\"{} GPU's available:\".format(torch.cuda.device_count()) )\n",
    "cpu_count = torch.multiprocessing.cpu_count()\n",
    "print(\"\\ncpu_count: {}\".format(cpu_count))"
   ]
  },
  {
   "cell_type": "code",
   "execution_count": 3,
   "metadata": {},
   "outputs": [
    {
     "name": "stdout",
     "output_type": "stream",
     "text": [
      "Using only one GPU\n"
     ]
    }
   ],
   "source": [
    "use_gpu= True\n",
    "use_DataParalel= False # Need some improvement on model's to work properly, basically it has to wrap all models block:\n",
    "use_CPU= False         # http://pytorch.org/tutorials/beginner/former_torchies/parallelism_tutorial.html \n",
    "\n",
    "if use_CPU: \n",
    "    print(\"Using multiprocessing in {} CPU's\".format(cpu_count))\n",
    "\n",
    "elif use_gpu: \n",
    "    \n",
    "#    device_id = 2  # Chose the GPU to be used. \n",
    "#    torch.cuda.device(device_id)\n",
    "    print('Using only one GPU') #{} '.format(device_id))\n",
    "\n",
    "elif use_DataParalel:\n",
    "    print(\"Using DataParalel in all {} GPUS\".format(torch.cuda.device_count()))"
   ]
  },
  {
   "cell_type": "code",
   "execution_count": 4,
   "metadata": {},
   "outputs": [
    {
     "name": "stdout",
     "output_type": "stream",
     "text": [
      "              total        used        free      shared  buff/cache   available\n",
      "Mem:           220G        124G         64G         94M         31G         93G\n",
      "Swap:            0B          0B          0B\n",
      "Tue Nov 21 23:58:59 2017       \n",
      "+-----------------------------------------------------------------------------+\n",
      "| NVIDIA-SMI 384.90                 Driver Version: 384.90                    |\n",
      "|-------------------------------+----------------------+----------------------+\n",
      "| GPU  Name        Persistence-M| Bus-Id        Disp.A | Volatile Uncorr. ECC |\n",
      "| Fan  Temp  Perf  Pwr:Usage/Cap|         Memory-Usage | GPU-Util  Compute M. |\n",
      "|===============================+======================+======================|\n",
      "|   0  Tesla K80           Off  | 00003609:00:00.0 Off |                    0 |\n",
      "| N/A   41C    P0    72W / 149W |   2404MiB / 11439MiB |      0%      Default |\n",
      "+-------------------------------+----------------------+----------------------+\n",
      "|   1  Tesla K80           Off  | 00004BDC:00:00.0 Off |                    0 |\n",
      "| N/A   54C    P0    56W / 149W |    877MiB / 11439MiB |      0%      Default |\n",
      "+-------------------------------+----------------------+----------------------+\n",
      "|   2  Tesla K80           Off  | 00006ABF:00:00.0 Off |                    0 |\n",
      "| N/A   53C    P0    54W / 149W |    877MiB / 11439MiB |      0%      Default |\n",
      "+-------------------------------+----------------------+----------------------+\n",
      "|   3  Tesla K80           Off  | 00008660:00:00.0 Off |                    0 |\n",
      "| N/A   41C    P0    71W / 149W |    877MiB / 11439MiB |      0%      Default |\n",
      "+-------------------------------+----------------------+----------------------+\n",
      "                                                                               \n",
      "+-----------------------------------------------------------------------------+\n",
      "| Processes:                                                       GPU Memory |\n",
      "|  GPU       PID   Type   Process name                             Usage      |\n",
      "|=============================================================================|\n",
      "|    0     42777      C   /usr/local/bin/python3.6                    1007MiB |\n",
      "|    0     64688      C   /usr/local/bin/python3.6                    1322MiB |\n",
      "|    0     68533      C   /usr/local/bin/python3.6                      58MiB |\n",
      "|    1     42777      C   /usr/local/bin/python3.6                     864MiB |\n",
      "|    2     42777      C   /usr/local/bin/python3.6                     864MiB |\n",
      "|    3     42777      C   /usr/local/bin/python3.6                     864MiB |\n",
      "+-----------------------------------------------------------------------------+\n"
     ]
    }
   ],
   "source": [
    "if use_gpu:\n",
    "    !free -h\n",
    "    !nvidia-smi"
   ]
  },
  {
   "cell_type": "markdown",
   "metadata": {},
   "source": [
    "\n",
    "# Choose dataset "
   ]
  },
  {
   "cell_type": "code",
   "execution_count": 5,
   "metadata": {},
   "outputs": [],
   "source": [
    "path2train = \"/mnt/home/e209440/data/train\" \n",
    "path2test = \"/mnt/home/e209440/data/test\" "
   ]
  },
  {
   "cell_type": "markdown",
   "metadata": {},
   "source": [
    "# Images transformation"
   ]
  },
  {
   "cell_type": "code",
   "execution_count": 6,
   "metadata": {},
   "outputs": [],
   "source": [
    "imagenet_mean = np.array([0.485, 0.456, 0.406])\n",
    "imagenet_std  = np.array([0.229, 0.224, 0.225])\n",
    "\n",
    "img_width = img_height=300 #to use InceptionV3 it must img_width and img_height be changed to 300\n",
    "\n",
    "# Data augmentation and normalization for training \n",
    "data_transforms = {\n",
    "    'train': transforms.Compose([\n",
    "#        transforms.RandomHorizontalFlip(), First try withouth Data Augmentation \n",
    "        transforms.Scale((img_width, img_height)),\n",
    "        transforms.ToTensor(),\n",
    "        transforms.Normalize(imagenet_mean, imagenet_std),\n",
    "    ]),\n",
    "    'valid': transforms.Compose([\n",
    "        transforms.Scale((img_width, img_height)),\n",
    "        transforms.ToTensor(),\n",
    "        transforms.Normalize(imagenet_mean, imagenet_std),\n",
    "    ]),\n",
    "}"
   ]
  },
  {
   "cell_type": "markdown",
   "metadata": {},
   "source": [
    "# Creating  Dataset & Dataloader"
   ]
  },
  {
   "cell_type": "code",
   "execution_count": 7,
   "metadata": {},
   "outputs": [],
   "source": [
    "batch_size = 180\n",
    "use_only = 1.0 # Use only is the percentage of the full dataset"
   ]
  },
  {
   "cell_type": "code",
   "execution_count": 8,
   "metadata": {},
   "outputs": [],
   "source": [
    "dsets = {\n",
    "    'train': KaggleSafeDriverDataset(path2train, transforms=data_transforms['train'],use_only=use_only),\n",
    "    'valid': KaggleSafeDriverDataset(path2train, transforms=data_transforms['valid'],use_only=use_only, is_val=True, val_size=0.2),\n",
    "    'test':  KaggleSafeDriverDataset(path2test, transforms=data_transforms['valid'],use_only=use_only, is_test=True),\n",
    "}"
   ]
  },
  {
   "cell_type": "code",
   "execution_count": 9,
   "metadata": {},
   "outputs": [],
   "source": [
    "dset_loaders = _create_dataLoader(dsets, batch_size, \n",
    "                                  num_workers=cpu_count, use_DataParalel=use_DataParalel,\n",
    "                                  use_gpu=use_gpu)\n"
   ]
  },
  {
   "cell_type": "code",
   "execution_count": 10,
   "metadata": {},
   "outputs": [
    {
     "data": {
      "text/plain": [
       "(17940, {'test': 79726, 'train': 17940, 'valid': 4484})"
      ]
     },
     "execution_count": 10,
     "metadata": {},
     "output_type": "execute_result"
    }
   ],
   "source": [
    "dset_sizes = {x: len(dsets[x]) for x in ['train','valid', 'test']} \n",
    "dset_classes = len(dsets['train'].y)\n",
    "dset_classes, dset_sizes\n",
    "\n",
    "# Dataset have much more samples than datatrain ***It comes from the test.zip****"
   ]
  },
  {
   "cell_type": "markdown",
   "metadata": {},
   "source": [
    "# Plotting some examples"
   ]
  },
  {
   "cell_type": "code",
   "execution_count": 11,
   "metadata": {},
   "outputs": [],
   "source": [
    "#plot_classes(dset_loaders['train'])"
   ]
  },
  {
   "cell_type": "markdown",
   "metadata": {},
   "source": [
    "# Data Analysis"
   ]
  },
  {
   "cell_type": "code",
   "execution_count": 12,
   "metadata": {},
   "outputs": [],
   "source": [
    "#statistical_analysis_image(dset_loaders['train'])"
   ]
  },
  {
   "cell_type": "code",
   "execution_count": 13,
   "metadata": {},
   "outputs": [],
   "source": [
    "#classDistribution(dsets['train'])"
   ]
  },
  {
   "cell_type": "markdown",
   "metadata": {},
   "source": [
    "# Checking GPU usage"
   ]
  },
  {
   "cell_type": "code",
   "execution_count": 14,
   "metadata": {},
   "outputs": [
    {
     "name": "stdout",
     "output_type": "stream",
     "text": [
      "              total        used        free      shared  buff/cache   available\n",
      "Mem:           220G        124G         64G         94M         31G         93G\n",
      "Swap:            0B          0B          0B\n",
      "Tue Nov 21 23:59:05 2017       \n",
      "+-----------------------------------------------------------------------------+\n",
      "| NVIDIA-SMI 384.90                 Driver Version: 384.90                    |\n",
      "|-------------------------------+----------------------+----------------------+\n",
      "| GPU  Name        Persistence-M| Bus-Id        Disp.A | Volatile Uncorr. ECC |\n",
      "| Fan  Temp  Perf  Pwr:Usage/Cap|         Memory-Usage | GPU-Util  Compute M. |\n",
      "|===============================+======================+======================|\n",
      "|   0  Tesla K80           Off  | 00003609:00:00.0 Off |                    0 |\n",
      "| N/A   42C    P0    72W / 149W |   2404MiB / 11439MiB |      0%      Default |\n",
      "+-------------------------------+----------------------+----------------------+\n",
      "|   1  Tesla K80           Off  | 00004BDC:00:00.0 Off |                    0 |\n",
      "| N/A   54C    P0    56W / 149W |    877MiB / 11439MiB |      0%      Default |\n",
      "+-------------------------------+----------------------+----------------------+\n",
      "|   2  Tesla K80           Off  | 00006ABF:00:00.0 Off |                    0 |\n",
      "| N/A   53C    P0    54W / 149W |    877MiB / 11439MiB |      0%      Default |\n",
      "+-------------------------------+----------------------+----------------------+\n",
      "|   3  Tesla K80           Off  | 00008660:00:00.0 Off |                    0 |\n",
      "| N/A   41C    P0    71W / 149W |    877MiB / 11439MiB |      0%      Default |\n",
      "+-------------------------------+----------------------+----------------------+\n",
      "                                                                               \n",
      "+-----------------------------------------------------------------------------+\n",
      "| Processes:                                                       GPU Memory |\n",
      "|  GPU       PID   Type   Process name                             Usage      |\n",
      "|=============================================================================|\n",
      "|    0     42777      C   /usr/local/bin/python3.6                    1007MiB |\n",
      "|    0     64688      C   /usr/local/bin/python3.6                    1322MiB |\n",
      "|    0     68533      C   /usr/local/bin/python3.6                      58MiB |\n",
      "|    1     42777      C   /usr/local/bin/python3.6                     864MiB |\n",
      "|    2     42777      C   /usr/local/bin/python3.6                     864MiB |\n",
      "|    3     42777      C   /usr/local/bin/python3.6                     864MiB |\n",
      "+-----------------------------------------------------------------------------+\n"
     ]
    }
   ],
   "source": [
    "if use_gpu:\n",
    "    !free -h\n",
    "    !nvidia-smi"
   ]
  },
  {
   "cell_type": "markdown",
   "metadata": {},
   "source": [
    "# Choosing Model"
   ]
  },
  {
   "cell_type": "code",
   "execution_count": 15,
   "metadata": {},
   "outputs": [
    {
     "name": "stdout",
     "output_type": "stream",
     "text": [
      "Using ResNet model\n"
     ]
    }
   ],
   "source": [
    "use_resnet = True\n",
    "use_inception = False\n",
    "use_denseNet = False\n",
    "\n",
    "if use_resnet:\n",
    "    print('Using ResNet model')\n",
    "    model = MyResNet()\n",
    "elif use_inception:\n",
    "    print('Using Inception model')\n",
    "    model = MyInception()\n",
    "elif use_denseNet:\n",
    "    print('Using DenseNet model')    \n",
    "    model = MyDenseNet()"
   ]
  },
  {
   "cell_type": "code",
   "execution_count": 16,
   "metadata": {},
   "outputs": [
    {
     "name": "stdout",
     "output_type": "stream",
     "text": [
      "Using GPU\n"
     ]
    }
   ],
   "source": [
    "if use_gpu:\n",
    "    print('Using GPU')# {}'.format(device_id))\n",
    "    model.cuda()\n",
    "    convnet = model.mrnc\n",
    "    densenet = model.mrnd\n",
    "    \n",
    "elif use_DataParalel:\n",
    "    print(\"Using all GPU's \")\n",
    "    model = torch.nn.DataParallel(model)\n",
    "    #    model.cuda()\n",
    "    convnet = model.module.mrnc\n",
    "    densenet = model.module.mrnd\n",
    "else:\n",
    "    convnet = model.mrnc\n",
    "    densenet = model.mrnd"
   ]
  },
  {
   "cell_type": "code",
   "execution_count": 17,
   "metadata": {},
   "outputs": [],
   "source": [
    "#print(model)"
   ]
  },
  {
   "cell_type": "code",
   "execution_count": 18,
   "metadata": {},
   "outputs": [
    {
     "name": "stdout",
     "output_type": "stream",
     "text": [
      "predict: 99/99 ok\n",
      "predict: 24/24 ok\n"
     ]
    }
   ],
   "source": [
    "convOutput_train = predict(dset_loaders['train'], convnet,use_gpu=use_gpu)\n",
    "convOutput_valid = predict(dset_loaders['valid'], convnet,use_gpu=use_gpu)"
   ]
  },
  {
   "cell_type": "code",
   "execution_count": 19,
   "metadata": {},
   "outputs": [
    {
     "name": "stdout",
     "output_type": "stream",
     "text": [
      "torch.Size([17940]) torch.Size([17940, 6400])\n",
      "torch.Size([4484]) torch.Size([4484, 6400])\n"
     ]
    }
   ],
   "source": [
    "print(convOutput_train['true'].size(), convOutput_train['pred'].size())\n",
    "print(convOutput_valid['true'].size(), convOutput_valid['pred'].size())"
   ]
  },
  {
   "cell_type": "code",
   "execution_count": 20,
   "metadata": {},
   "outputs": [
    {
     "name": "stdout",
     "output_type": "stream",
     "text": [
      "torch.cuda.LongTensor torch.cuda.FloatTensor\n"
     ]
    }
   ],
   "source": [
    "print(convOutput_train['true'].type(), convOutput_train['pred'].type())"
   ]
  },
  {
   "cell_type": "code",
   "execution_count": 21,
   "metadata": {},
   "outputs": [],
   "source": [
    "conv_dset ={\n",
    "    'train': TensorDataset(convOutput_train['pred'], convOutput_train['true']),\n",
    "    'valid': TensorDataset(convOutput_valid['pred'], convOutput_valid['true'])\n",
    "} "
   ]
  },
  {
   "cell_type": "code",
   "execution_count": 22,
   "metadata": {},
   "outputs": [],
   "source": [
    "dset_loaders_convnet = _create_dataLoader(conv_dset, batch_size, \n",
    "                                  num_workers=cpu_count, use_DataParalel=True,\n",
    "                                  use_gpu=False,shuffle= False)"
   ]
  },
  {
   "cell_type": "code",
   "execution_count": 23,
   "metadata": {},
   "outputs": [
    {
     "data": {
      "text/plain": [
       "{'train': 100, 'valid': 25}"
      ]
     },
     "execution_count": 23,
     "metadata": {},
     "output_type": "execute_result"
    }
   ],
   "source": [
    "dset_convnet_sizes = {x: len(dset_loaders_convnet[x]) for x in ['train','valid']} \n",
    "dset_convnet_sizes"
   ]
  },
  {
   "cell_type": "code",
   "execution_count": 24,
   "metadata": {},
   "outputs": [],
   "source": [
    "path2saveModel = '/mnt/home/r120084/project/models/distractdriver'\n",
    "#path2saveModel = '/mnt/home/e209440/models/ResNetDistractDriver' \n",
    "\n",
    "savebest = ptt.ModelCheckpoint(path2saveModel,reset=True, verbose=1)"
   ]
  },
  {
   "cell_type": "code",
   "execution_count": 25,
   "metadata": {},
   "outputs": [],
   "source": [
    "loss_fn = nn.CrossEntropyLoss()\n",
    "num_epochs = 100\n",
    "\n",
    "optimizer =  optim.Adam(densenet.parameters(), lr=1e-3)\n",
    "scheduler = StepLR(optimizer, step_size=5, gamma=0.75)\n",
    "\n",
    "params = {'model' : densenet, \n",
    "    'criterion': loss_fn,  \n",
    "    'optimizer': optimizer, \n",
    "    'callbacks': [savebest,  ptt.PrintCallback()] #ptt.PlotCallback(),\n",
    "}"
   ]
  },
  {
   "cell_type": "code",
   "execution_count": 26,
   "metadata": {},
   "outputs": [],
   "source": [
    "trainer = ptt.DeepNetTrainer(use_gpu=use_gpu,**params)"
   ]
  },
  {
   "cell_type": "code",
   "execution_count": 27,
   "metadata": {
    "scrolled": true
   },
   "outputs": [
    {
     "name": "stdout",
     "output_type": "stream",
     "text": [
      "Start training for 100 epochs\n",
      "  1:   1.7s   T: 2.39433   V: 2.07440 best\n",
      "  2:   1.0s   T: 1.48870   V: 0.83926 best\n",
      "  3:   1.0s   T: 0.53974   V: 0.35941 best\n",
      "  4:   0.9s   T: 0.24679   V: 0.21041 best\n",
      "  5:   1.0s   T: 0.15520   V: 0.10745 best\n",
      "  6:   0.9s   T: 0.13180   V: 0.12438 \n",
      "  7:   0.9s   T: 0.11437   V: 0.09032 best\n",
      "  8:   0.9s   T: 0.08880   V: 0.09611 \n",
      "  9:   0.9s   T: 0.08527   V: 0.04794 best\n",
      " 10:   0.9s   T: 0.03995   V: 0.03755 best\n",
      " 11:   0.9s   T: 0.03655   V: 0.03564 best\n",
      " 12:   0.9s   T: 0.03304   V: 0.05273 \n",
      " 13:   1.0s   T: 0.03080   V: 0.02642 best\n",
      " 14:   0.9s   T: 0.02230   V: 0.02517 best\n",
      " 15:   0.9s   T: 0.01689   V: 0.02675 \n",
      " 16:   0.9s   T: 1.23479   V: 1.49559 \n",
      " 17:   0.9s   T: 0.55886   V: 0.24512 \n",
      " 18:   0.9s   T: 0.16467   V: 0.14337 \n",
      " 19:   0.9s   T: 0.08911   V: 0.08278 \n",
      " 20:   1.0s   T: 0.06089   V: 0.06369 \n",
      " 21:   0.9s   T: 0.04624   V: 0.05470 \n",
      " 22:   0.9s   T: 0.03749   V: 0.04580 \n",
      " 23:   0.9s   T: 0.03072   V: 0.03724 \n",
      " 24:   0.9s   T: 0.02637   V: 0.03437 \n",
      " 25:   0.9s   T: 0.02317   V: 0.03347 \n",
      " 26:   0.9s   T: 0.02061   V: 0.03287 \n",
      " 27:   0.9s   T: 0.01816   V: 0.03183 \n",
      " 28:   0.9s   T: 0.01611   V: 0.03120 \n",
      " 29:   0.9s   T: 0.01437   V: 0.02821 \n",
      " 30:   0.9s   T: 0.01253   V: 0.02674 \n",
      " 31:   0.9s   T: 0.01118   V: 0.02673 \n",
      " 32:   0.9s   T: 0.01200   V: 0.02983 \n",
      " 33:   0.9s   T: 0.00880   V: 0.02920 \n",
      " 34:   0.9s   T: 0.00901   V: 0.02832 \n",
      " 35:   1.0s   T: 1.93720   V: 0.50949 \n",
      " 36:   0.9s   T: 0.31414   V: 0.19559 \n",
      " 37:   0.9s   T: 0.14532   V: 0.12305 \n",
      " 38:   0.9s   T: 0.09536   V: 0.09156 \n",
      " 39:   0.9s   T: 0.06843   V: 0.07891 \n",
      " 40:   0.9s   T: 0.05439   V: 0.06708 \n",
      " 41:   0.9s   T: 0.04438   V: 0.06067 \n",
      " 42:   0.9s   T: 0.03770   V: 0.06431 \n",
      " 43:   0.9s   T: 0.03331   V: 0.06514 \n",
      " 44:   0.9s   T: 0.03021   V: 0.06545 \n",
      " 45:   0.9s   T: 0.02504   V: 0.06616 \n",
      " 46:   0.9s   T: 0.02078   V: 0.05648 \n",
      " 47:   0.9s   T: 0.01701   V: 0.04005 \n",
      " 48:   0.9s   T: 0.01465   V: 0.03693 \n",
      " 49:   0.9s   T: 0.01328   V: 0.03567 \n",
      " 50:   0.9s   T: 0.01220   V: 0.03499 \n",
      " 51:   0.9s   T: 0.01135   V: 0.03340 \n",
      " 52:   0.9s   T: 0.01061   V: 0.03221 \n",
      " 53:   0.9s   T: 0.00992   V: 0.03206 \n",
      " 54:   0.9s   T: 0.00904   V: 0.03186 \n",
      " 55:   0.9s   T: 0.00844   V: 0.04137 \n",
      " 56:   0.9s   T: 0.00758   V: 0.04605 \n",
      " 57:   0.9s   T: 0.00734   V: 0.04407 \n",
      " 58:   0.9s   T: 0.00597   V: 0.02930 \n",
      " 59:   0.9s   T: 0.00750   V: 0.03023 \n",
      " 60:   0.9s   T: 0.00856   V: 0.03137 \n",
      " 61:   0.9s   T: 0.00453   V: 0.03480 \n",
      " 62:   0.9s   T: 0.00495   V: 0.03438 \n",
      " 63:   0.9s   T: 0.00506   V: 0.03532 \n",
      " 64:   0.9s   T: 1.60342   V: 0.22271 \n",
      " 65:   0.9s   T: 0.16455   V: 0.15406 \n",
      " 66:   1.0s   T: 0.10741   V: 0.10768 \n",
      " 67:   0.9s   T: 0.07323   V: 0.09295 \n",
      " 68:   0.9s   T: 0.05548   V: 0.08218 \n",
      " 69:   1.0s   T: 0.04413   V: 0.06353 \n",
      " 70:   0.9s   T: 0.03575   V: 0.05720 \n",
      " 71:   1.0s   T: 0.02967   V: 0.04811 \n",
      " 72:   0.9s   T: 0.02539   V: 0.04163 \n",
      " 73:   0.9s   T: 0.02219   V: 0.03751 \n",
      " 74:   0.9s   T: 0.01971   V: 0.03474 \n",
      " 75:   0.9s   T: 0.01773   V: 0.03268 \n",
      " 76:   0.9s   T: 0.01606   V: 0.03103 \n",
      " 77:   0.9s   T: 0.01438   V: 0.02985 \n",
      " 78:   1.0s   T: 0.01267   V: 0.02785 \n",
      " 79:   0.9s   T: 0.01128   V: 0.02606 \n",
      " 80:   1.0s   T: 0.01047   V: 0.02517 best\n",
      " 81:   0.9s   T: 0.00959   V: 0.02453 best\n",
      " 82:   0.9s   T: 0.00883   V: 0.02445 best\n",
      " 83:   0.9s   T: 0.00810   V: 0.02404 best\n",
      " 84:   1.0s   T: 0.00747   V: 0.02372 best\n",
      " 85:   0.9s   T: 0.00692   V: 0.02490 \n",
      " 86:   0.9s   T: 0.00654   V: 0.02588 \n",
      " 87:   0.9s   T: 0.00622   V: 0.02623 \n",
      " 88:   0.9s   T: 0.00594   V: 0.02696 \n",
      " 89:   0.9s   T: 0.00576   V: 0.02807 \n",
      " 90:   0.9s   T: 0.27450   V: 0.12317 \n",
      " 91:   0.9s   T: 0.01249   V: 0.02184 best\n",
      " 92:   0.9s   T: 0.00419   V: 0.02082 best\n",
      " 93:   0.9s   T: 0.00378   V: 0.02038 best\n",
      " 94:   0.9s   T: 0.00347   V: 0.02053 \n",
      " 95:   0.9s   T: 0.00324   V: 0.02015 best\n",
      " 96:   0.9s   T: 0.00304   V: 0.01998 best\n",
      " 97:   0.9s   T: 0.00288   V: 0.01979 best\n",
      " 98:   0.9s   T: 0.00272   V: 0.01969 best\n",
      " 99:   0.9s   T: 0.00256   V: 0.01955 best\n",
      "100:   1.0s   T: 0.00242   V: 0.01927 best\n",
      "Best model was saved at epoch 100 with loss 0.01927: /mnt/home/r120084/project/models/distractdriver\n",
      "Stop training at epoch: 100/100\n"
     ]
    }
   ],
   "source": [
    "trainer.fit_loader(num_epochs, dset_loaders_convnet['train'], dset_loaders_convnet['valid'])"
   ]
  },
  {
   "cell_type": "markdown",
   "metadata": {},
   "source": [
    "# Loading best epoch"
   ]
  },
  {
   "cell_type": "code",
   "execution_count": 28,
   "metadata": {},
   "outputs": [],
   "source": [
    "ptt.load_trainer_state(path2saveModel,model.mrnd,trainer.metrics) "
   ]
  },
  {
   "cell_type": "code",
   "execution_count": 29,
   "metadata": {},
   "outputs": [
    {
     "name": "stdout",
     "output_type": "stream",
     "text": [
      "              total        used        free      shared  buff/cache   available\n",
      "Mem:           220G        125G         62G        470M         31G         92G\n",
      "Swap:            0B          0B          0B\n",
      "Wed Nov 22 00:04:11 2017       \n",
      "+-----------------------------------------------------------------------------+\n",
      "| NVIDIA-SMI 384.90                 Driver Version: 384.90                    |\n",
      "|-------------------------------+----------------------+----------------------+\n",
      "| GPU  Name        Persistence-M| Bus-Id        Disp.A | Volatile Uncorr. ECC |\n",
      "| Fan  Temp  Perf  Pwr:Usage/Cap|         Memory-Usage | GPU-Util  Compute M. |\n",
      "|===============================+======================+======================|\n",
      "|   0  Tesla K80           Off  | 00003609:00:00.0 Off |                    0 |\n",
      "| N/A   56C    P0    86W / 149W |   6864MiB / 11439MiB |      7%      Default |\n",
      "+-------------------------------+----------------------+----------------------+\n",
      "|   1  Tesla K80           Off  | 00004BDC:00:00.0 Off |                    0 |\n",
      "| N/A   60C    P0    58W / 149W |    877MiB / 11439MiB |      0%      Default |\n",
      "+-------------------------------+----------------------+----------------------+\n",
      "|   2  Tesla K80           Off  | 00006ABF:00:00.0 Off |                    0 |\n",
      "| N/A   53C    P0    54W / 149W |    877MiB / 11439MiB |      0%      Default |\n",
      "+-------------------------------+----------------------+----------------------+\n",
      "|   3  Tesla K80           Off  | 00008660:00:00.0 Off |                    0 |\n",
      "| N/A   41C    P0    71W / 149W |    877MiB / 11439MiB |      0%      Default |\n",
      "+-------------------------------+----------------------+----------------------+\n",
      "                                                                               \n",
      "+-----------------------------------------------------------------------------+\n",
      "| Processes:                                                       GPU Memory |\n",
      "|  GPU       PID   Type   Process name                             Usage      |\n",
      "|=============================================================================|\n",
      "|    0     42777      C   /usr/local/bin/python3.6                    1007MiB |\n",
      "|    0     64688      C   /usr/local/bin/python3.6                    1322MiB |\n",
      "|    0     68533      C   /usr/local/bin/python3.6                      58MiB |\n",
      "|    0     69366      C   /usr/local/bin/python3.6                    4460MiB |\n",
      "|    1     42777      C   /usr/local/bin/python3.6                     864MiB |\n",
      "|    2     42777      C   /usr/local/bin/python3.6                     864MiB |\n",
      "|    3     42777      C   /usr/local/bin/python3.6                     864MiB |\n",
      "+-----------------------------------------------------------------------------+\n"
     ]
    }
   ],
   "source": [
    "if use_gpu:\n",
    "    !free -h\n",
    "    !nvidia-smi"
   ]
  },
  {
   "cell_type": "code",
   "execution_count": 30,
   "metadata": {},
   "outputs": [],
   "source": [
    "#plot_metrics(trainer)"
   ]
  },
  {
   "cell_type": "code",
   "execution_count": 31,
   "metadata": {},
   "outputs": [
    {
     "name": "stdout",
     "output_type": "stream",
     "text": [
      "evaluate: 99/99 ok\n",
      "evaluate: 24/24 ok\n"
     ]
    }
   ],
   "source": [
    "train_eval = trainer.evaluate_loader(dset_loaders_convnet['train'])\n",
    "valid_eval = trainer.evaluate_loader(dset_loaders_convnet['valid'])"
   ]
  },
  {
   "cell_type": "code",
   "execution_count": 32,
   "metadata": {},
   "outputs": [
    {
     "data": {
      "text/plain": [
       "({'losses': 0.0021554591816719186}, {'losses': 0.019271908667732783})"
      ]
     },
     "execution_count": 32,
     "metadata": {},
     "output_type": "execute_result"
    }
   ],
   "source": [
    "train_eval, valid_eval"
   ]
  },
  {
   "cell_type": "code",
   "execution_count": 33,
   "metadata": {},
   "outputs": [],
   "source": [
    "dset_loaders_wshuffle = _create_dataLoader(dsets, batch_size, num_workers=cpu_count,\n",
    "                                           use_gpu=use_gpu,use_DataParalel=use_DataParalel, shuffle=False)"
   ]
  },
  {
   "cell_type": "code",
   "execution_count": 34,
   "metadata": {},
   "outputs": [
    {
     "name": "stdout",
     "output_type": "stream",
     "text": [
      "predict: 99/99 ok\n",
      "predict: 24/24 ok\n",
      "predict: 442/442 ok\n"
     ]
    }
   ],
   "source": [
    "result_train = predict(dset_loaders_wshuffle['train'], model,use_gpu=use_gpu)\n",
    "result_valid = predict(dset_loaders_wshuffle['valid'], model,use_gpu=use_gpu)\n",
    "result_test = predict(dset_loaders_wshuffle['test'], model,use_gpu=use_gpu)"
   ]
  },
  {
   "cell_type": "code",
   "execution_count": 35,
   "metadata": {},
   "outputs": [],
   "source": [
    "result_train = getPrediction(result_train)\n",
    "result_valid = getPrediction(result_valid)\n",
    "# result_test['pred'] must be an array of probabilities to make the submission"
   ]
  },
  {
   "cell_type": "code",
   "execution_count": 36,
   "metadata": {},
   "outputs": [],
   "source": [
    "correct_train = (result_train['true'] == result_train['pred']).sum()\n",
    "correct_valid = (result_valid['true'] == result_valid['pred']).sum()"
   ]
  },
  {
   "cell_type": "code",
   "execution_count": 37,
   "metadata": {},
   "outputs": [
    {
     "name": "stdout",
     "output_type": "stream",
     "text": [
      "Train:  17938 / 17940\n",
      "Valid:  4458 / 4484\n"
     ]
    }
   ],
   "source": [
    "print('Train: ', correct_train, '/', len(conv_dset['train']) )\n",
    "print('Valid: ', correct_valid, '/', len(conv_dset['valid']) )"
   ]
  },
  {
   "cell_type": "code",
   "execution_count": 38,
   "metadata": {},
   "outputs": [],
   "source": [
    "#visualize_predictions(dsets['valid'], result_valid, correct_pred = True)"
   ]
  },
  {
   "cell_type": "code",
   "execution_count": 39,
   "metadata": {},
   "outputs": [],
   "source": [
    "#visualize_predictions(dsets['valid'], result_valid, correct_pred = False)"
   ]
  },
  {
   "cell_type": "code",
   "execution_count": 40,
   "metadata": {},
   "outputs": [],
   "source": [
    "#plot_cm_train_valid(result_train,result_valid)"
   ]
  },
  {
   "cell_type": "code",
   "execution_count": 41,
   "metadata": {
    "scrolled": true
   },
   "outputs": [],
   "source": [
    "#plot_layers_weight(dsets,img_width=img_width, img_height=img_height,conv_model = model.mrnc,use_gpu=use_gpu)"
   ]
  },
  {
   "cell_type": "markdown",
   "metadata": {},
   "source": [
    "# Make submission of the Test set"
   ]
  },
  {
   "cell_type": "code",
   "execution_count": 42,
   "metadata": {},
   "outputs": [
    {
     "name": "stdout",
     "output_type": "stream",
     "text": [
      "done!\n"
     ]
    }
   ],
   "source": [
    "create_submission(result_test, 'distracted_driver')"
   ]
  }
 ],
 "metadata": {
  "kernelspec": {
   "display_name": "Python 3",
   "language": "python",
   "name": "python3"
  },
  "language_info": {
   "codemirror_mode": {
    "name": "ipython",
    "version": 3
   },
   "file_extension": ".py",
   "mimetype": "text/x-python",
   "name": "python",
   "nbconvert_exporter": "python",
   "pygments_lexer": "ipython3",
   "version": "3.6.3"
  }
 },
 "nbformat": 4,
 "nbformat_minor": 2
}
