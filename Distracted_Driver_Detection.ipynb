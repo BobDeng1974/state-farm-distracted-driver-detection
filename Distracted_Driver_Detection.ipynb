{
 "cells": [
  {
   "cell_type": "code",
   "execution_count": 1,
   "metadata": {},
   "outputs": [],
   "source": [
    "%matplotlib inline\n",
    "import numpy as np\n",
    "import matplotlib.pyplot as plt \n",
    "\n",
    "import torch\n",
    "\n",
    "import torch.nn as nn\n",
    "import torch.optim as optim\n",
    "from torch.optim.lr_scheduler import StepLR\n",
    "import torchvision.transforms as transforms\n",
    "from torch.utils.data import  Dataset, TensorDataset, DataLoader\n",
    "\n",
    "\n",
    "import lib.pytorch_trainer as ptt\n",
    "\n",
    "from src.imgnet_utils import denormalize\n",
    "\n",
    "from src.data_loader import _create_dataLoader\n",
    "\n",
    "from src.Dataset import KaggleSafeDriverDataset\n",
    "\n",
    "from src.plot_utils import (plot_classes, plot_distribution,\n",
    "                            statistical_analysis_image, classDistribution,\n",
    "                            plot_metrics,visualize_predictions,\n",
    "                            plot_cm_train_valid,plot_layers_weight)\n",
    "      \n",
    "from src.convnet_models import (MyResNet, MyInception, MyDenseNet)\n",
    "\n",
    "from src.extractor_utils import (predict, getPrediction,features_saving,features_loading)\n",
    "\n",
    "from utils.utils import (create_submission ,metrics2csv, save_results)"
   ]
  },
  {
   "cell_type": "code",
   "execution_count": 2,
   "metadata": {},
   "outputs": [
    {
     "name": "stdout",
     "output_type": "stream",
     "text": [
      "4 GPU's available:\n",
      "\n",
      "cpu_count: 24\n"
     ]
    }
   ],
   "source": [
    "print(\"{} GPU's available:\".format(torch.cuda.device_count()) )\n",
    "cpu_count = torch.multiprocessing.cpu_count()\n",
    "print(\"\\ncpu_count: {}\".format(cpu_count))"
   ]
  },
  {
   "cell_type": "code",
   "execution_count": 3,
   "metadata": {},
   "outputs": [
    {
     "name": "stdout",
     "output_type": "stream",
     "text": [
      "Using DataParalel in all 4 GPUS\n"
     ]
    }
   ],
   "source": [
    "use_gpu = torch.cuda.is_available()\n",
    "use_DataParalel= True \n",
    "use_CPU= False        \n",
    "\n",
    "if use_gpu:\n",
    "    if use_DataParalel: \n",
    "        print(\"Using DataParalel in all {} GPUS\".format(torch.cuda.device_count()))\n",
    "    else:\n",
    "        print('Using only one GPU') \n",
    "if use_CPU:         # http://pytorch.org/tutorials/beginner/former_torchies/parallelism_tutorial.html \n",
    "    print(\"Using {} CPU's\".format(cpu_count))"
   ]
  },
  {
   "cell_type": "code",
   "execution_count": 4,
   "metadata": {},
   "outputs": [
    {
     "name": "stdout",
     "output_type": "stream",
     "text": [
      "              total        used        free      shared  buff/cache   available\n",
      "Mem:           220G         99G         50G         10G         71G        108G\n",
      "Swap:            0B          0B          0B\n",
      "Sun Nov 26 14:51:26 2017       \n",
      "+-----------------------------------------------------------------------------+\n",
      "| NVIDIA-SMI 384.90                 Driver Version: 384.90                    |\n",
      "|-------------------------------+----------------------+----------------------+\n",
      "| GPU  Name        Persistence-M| Bus-Id        Disp.A | Volatile Uncorr. ECC |\n",
      "| Fan  Temp  Perf  Pwr:Usage/Cap|         Memory-Usage | GPU-Util  Compute M. |\n",
      "|===============================+======================+======================|\n",
      "|   0  Tesla K80           Off  | 00003609:00:00.0 Off |                    0 |\n",
      "| N/A   62C    P0   138W / 149W |   9440MiB / 11439MiB |     99%      Default |\n",
      "+-------------------------------+----------------------+----------------------+\n",
      "|   1  Tesla K80           Off  | 00004BDC:00:00.0 Off |                    0 |\n",
      "| N/A   67C    P0    59W / 149W |    485MiB / 11439MiB |      0%      Default |\n",
      "+-------------------------------+----------------------+----------------------+\n",
      "|   2  Tesla K80           Off  | 00006ABF:00:00.0 Off |                    0 |\n",
      "| N/A   78C    P0   136W / 149W |   7397MiB / 11439MiB |    100%      Default |\n",
      "+-------------------------------+----------------------+----------------------+\n",
      "^C\n"
     ]
    }
   ],
   "source": [
    "if use_gpu:\n",
    "    !free -h\n",
    "    !nvidia-smi"
   ]
  },
  {
   "cell_type": "markdown",
   "metadata": {},
   "source": [
    "\n",
    "# Choose dataset "
   ]
  },
  {
   "cell_type": "code",
   "execution_count": 5,
   "metadata": {},
   "outputs": [],
   "source": [
    "path2train = \"/mnt/home/e209440/data/train\" \n",
    "path2test = \"/mnt/home/e209440/data/test\" \n",
    "\n",
    "path2features= \"/mnt/home/e209440/state-farm-distracted-driver-detection/features/\" \n",
    "#path2features= \"/mnt/home/r120084/state-farm-distracted-driver-detection/features/\" \n",
    "\n",
    "load_features = True"
   ]
  },
  {
   "cell_type": "markdown",
   "metadata": {},
   "source": [
    "# Images transformation"
   ]
  },
  {
   "cell_type": "code",
   "execution_count": 6,
   "metadata": {},
   "outputs": [],
   "source": [
    "imagenet_mean = np.array([0.485, 0.456, 0.406])\n",
    "imagenet_std  = np.array([0.229, 0.224, 0.225])\n",
    "\n",
    "img_width = img_height=300 #to use InceptionV3 it must img_width and img_height be changed to 300\n",
    "\n",
    "# Data augmentation and normalization for training \n",
    "data_transforms = {\n",
    "    'train': transforms.Compose([\n",
    "        transforms.Scale((img_width, img_height)),\n",
    "        transforms.ToTensor(),\n",
    "        transforms.Normalize(imagenet_mean, imagenet_std),\n",
    "    ]),\n",
    "    'valid': transforms.Compose([\n",
    "        transforms.Scale((img_width, img_height)),\n",
    "        transforms.ToTensor(),\n",
    "        transforms.Normalize(imagenet_mean, imagenet_std),\n",
    "    ]),\n",
    "}        "
   ]
  },
  {
   "cell_type": "markdown",
   "metadata": {},
   "source": [
    "# Creating  Dataset & Dataloader"
   ]
  },
  {
   "cell_type": "code",
   "execution_count": 7,
   "metadata": {},
   "outputs": [],
   "source": [
    "batch_size = 32\n",
    "use_only = 1.0 # Use only is the percentage of the full dataset"
   ]
  },
  {
   "cell_type": "code",
   "execution_count": 8,
   "metadata": {},
   "outputs": [],
   "source": [
    "dsets = {\n",
    "    'train': KaggleSafeDriverDataset(path2train, transforms=data_transforms['train'],use_only=use_only),\n",
    "    'valid': KaggleSafeDriverDataset(path2train, transforms=data_transforms['valid'],use_only=use_only, is_val=True, val_size=0.2),\n",
    "    'test':  KaggleSafeDriverDataset(path2test, transforms=data_transforms['valid'],use_only=use_only, is_test=True),\n",
    "}"
   ]
  },
  {
   "cell_type": "code",
   "execution_count": 9,
   "metadata": {},
   "outputs": [],
   "source": [
    "dset_loaders = _create_dataLoader(dsets, batch_size, pin_memory=False, use_shuffle= True)"
   ]
  },
  {
   "cell_type": "code",
   "execution_count": 10,
   "metadata": {},
   "outputs": [
    {
     "data": {
      "text/plain": [
       "(17940, {'test': 79726, 'train': 17940, 'valid': 4484})"
      ]
     },
     "execution_count": 10,
     "metadata": {},
     "output_type": "execute_result"
    }
   ],
   "source": [
    "dset_sizes = {x: len(dsets[x]) for x in ['train','valid', 'test']} \n",
    "dset_classes = len(dsets['train'].y)\n",
    "dset_classes, dset_sizes\n",
    "\n",
    "# Dataset have much more samples than datatrain ***It comes from the test.zip****"
   ]
  },
  {
   "cell_type": "markdown",
   "metadata": {},
   "source": [
    "# Checking GPU usage"
   ]
  },
  {
   "cell_type": "code",
   "execution_count": 11,
   "metadata": {},
   "outputs": [
    {
     "name": "stdout",
     "output_type": "stream",
     "text": [
      "              total        used        free      shared  buff/cache   available\n",
      "Mem:           220G         99G         50G         10G         71G        108G\n",
      "Swap:            0B          0B          0B\n",
      "Sun Nov 26 14:51:39 2017       \n",
      "+-----------------------------------------------------------------------------+\n",
      "| NVIDIA-SMI 384.90                 Driver Version: 384.90                    |\n",
      "|-------------------------------+----------------------+----------------------+\n",
      "| GPU  Name        Persistence-M| Bus-Id        Disp.A | Volatile Uncorr. ECC |\n",
      "| Fan  Temp  Perf  Pwr:Usage/Cap|         Memory-Usage | GPU-Util  Compute M. |\n",
      "|===============================+======================+======================|\n",
      "|   0  Tesla K80           Off  | 00003609:00:00.0 Off |                    0 |\n",
      "| N/A   63C    P0   133W / 149W |   9440MiB / 11439MiB |     99%      Default |\n",
      "+-------------------------------+----------------------+----------------------+\n",
      "|   1  Tesla K80           Off  | 00004BDC:00:00.0 Off |                    0 |\n",
      "| N/A   67C    P0    59W / 149W |    485MiB / 11439MiB |      0%      Default |\n",
      "+-------------------------------+----------------------+----------------------+\n",
      "|   2  Tesla K80           Off  | 00006ABF:00:00.0 Off |                    0 |\n",
      "| N/A   78C    P0   136W / 149W |   7397MiB / 11439MiB |    100%      Default |\n",
      "+-------------------------------+----------------------+----------------------+\n",
      "|   3  Tesla K80           Off  | 00008660:00:00.0 Off |                    0 |\n",
      "| N/A   41C    P0    72W / 149W |    485MiB / 11439MiB |      0%      Default |\n",
      "+-------------------------------+----------------------+----------------------+\n",
      "                                                                               \n",
      "+-----------------------------------------------------------------------------+\n",
      "| Processes:                                                       GPU Memory |\n",
      "|  GPU       PID   Type   Process name                             Usage      |\n",
      "|=============================================================================|\n",
      "|    0     39219      C   /usr/local/bin/python3.6                    1152MiB |\n",
      "|    0     40878      C   /usr/local/bin/python3.6                    1501MiB |\n",
      "|    0     43659      C   /usr/local/bin/python3.6                    3349MiB |\n",
      "|    0     54330      C   /usr/local/bin/python3.6                     351MiB |\n",
      "|    0     58023      C   /usr/local/bin/python3.6                     619MiB |\n",
      "|    0    130442      C   /usr/local/bin/python3.6                     582MiB |\n",
      "|    1    130442      C   /usr/local/bin/python3.6                     472MiB |\n",
      "|    2    109422      C   /usr/local/bin/python3.6                    6912MiB |\n",
      "|    2    130442      C   /usr/local/bin/python3.6                     472MiB |\n",
      "|    3    130442      C   /usr/local/bin/python3.6                     472MiB |\n",
      "+-----------------------------------------------------------------------------+\n"
     ]
    }
   ],
   "source": [
    "!free -h\n",
    "!nvidia-smi"
   ]
  },
  {
   "cell_type": "markdown",
   "metadata": {},
   "source": [
    "# Choosing Model"
   ]
  },
  {
   "cell_type": "code",
   "execution_count": 12,
   "metadata": {},
   "outputs": [
    {
     "name": "stdout",
     "output_type": "stream",
     "text": [
      "Using ResNet model\n"
     ]
    }
   ],
   "source": [
    "use_resnet = True\n",
    "use_inception = False\n",
    "use_denseNet = False\n",
    "\n",
    "if use_resnet:\n",
    "    print('Using ResNet model')\n",
    "    model_name = \"ResNet\"\n",
    "    model = MyResNet()\n",
    "elif use_inception:\n",
    "    print('Using Inception model')\n",
    "    model_name = \"Inception\"\n",
    "    model = MyInception()\n",
    "elif use_denseNet:\n",
    "    print('Using DenseNet model')\n",
    "    model_name = \"DenseNet\"    \n",
    "    model = MyDenseNet()"
   ]
  },
  {
   "cell_type": "code",
   "execution_count": 13,
   "metadata": {},
   "outputs": [
    {
     "name": "stdout",
     "output_type": "stream",
     "text": [
      "Using all GPU's \n"
     ]
    }
   ],
   "source": [
    "if use_gpu:\n",
    "    if use_DataParalel:\n",
    "        print(\"Using all GPU's \")\n",
    "        model.mrnc = torch.nn.DataParallel(model.mrnc) #device_ids=[1,3]\n",
    "        model.mrnc = model.mrnc.cuda()\n",
    "        model.mrnd = torch.nn.DataParallel(model.mrnd) #device_ids=[1,3]\n",
    "        model.mrnd = model.mrnd.cuda()\n",
    "    else:\n",
    "        print('Using GPU')# {}'.format(device_id))\n",
    "        model.cuda()\n",
    "else:\n",
    "    print(\"Using CPU's\")"
   ]
  },
  {
   "cell_type": "code",
   "execution_count": 14,
   "metadata": {},
   "outputs": [],
   "source": [
    "#print(model)"
   ]
  },
  {
   "cell_type": "code",
   "execution_count": null,
   "metadata": {},
   "outputs": [],
   "source": [
    "#extract features from images\n",
    "convOutput_train = predict(dset_loaders['train'], model.mrnc,use_gpu=use_gpu)\n",
    "convOutput_valid = predict(dset_loaders['valid'], model.mrnc,use_gpu=use_gpu)\n",
    "convOutput_test = predict(dset_loaders['test'], model.mrnc,use_gpu=use_gpu)"
   ]
  },
  {
   "cell_type": "code",
   "execution_count": null,
   "metadata": {},
   "outputs": [],
   "source": [
    "print(convOutput_train['true'].size(), convOutput_train['pred'].size())\n",
    "print(convOutput_valid['true'].size(), convOutput_valid['pred'].size())\n",
    "print(convOutput_test['true'].size(), convOutput_test['pred'].size())"
   ]
  },
  {
   "cell_type": "code",
   "execution_count": null,
   "metadata": {},
   "outputs": [],
   "source": [
    "print(convOutput_train['true'].type(), convOutput_train['pred'].type())"
   ]
  },
  {
   "cell_type": "markdown",
   "metadata": {},
   "source": [
    "# Saving features"
   ]
  },
  {
   "cell_type": "code",
   "execution_count": null,
   "metadata": {},
   "outputs": [],
   "source": [
    "sav_feats= {\n",
    "    'train': (convOutput_train['pred'], convOutput_train['true'],model_name),\n",
    "    'valid': (convOutput_valid['pred'], convOutput_valid['true'],model_name),\n",
    "    'test': (convOutput_test['pred'], convOutput_test['true'],model_name)\n",
    "\n",
    "}"
   ]
  },
  {
   "cell_type": "code",
   "execution_count": null,
   "metadata": {},
   "outputs": [],
   "source": [
    "sav_feats['train'][2]"
   ]
  },
  {
   "cell_type": "code",
   "execution_count": null,
   "metadata": {},
   "outputs": [],
   "source": [
    "features_saving(path2features,sav_feats)"
   ]
  },
  {
   "cell_type": "markdown",
   "metadata": {},
   "source": [
    "# Loading features"
   ]
  },
  {
   "cell_type": "code",
   "execution_count": 15,
   "metadata": {},
   "outputs": [],
   "source": [
    "model_name='ResNet'"
   ]
  },
  {
   "cell_type": "code",
   "execution_count": 16,
   "metadata": {},
   "outputs": [
    {
     "name": "stdout",
     "output_type": "stream",
     "text": [
      "Loaded features with shapes: \n",
      "\n",
      "\n",
      "train:\n",
      "pred torch.Size([17940, 6400]), true torch.Size([17940])\n",
      "\n",
      "valid:\n",
      "pred torch.Size([4484, 6400]), true torch.Size([4484])\n",
      "\n",
      "test:\n",
      "pred torch.Size([79726, 6400]), true torch.Size([79726])\n"
     ]
    }
   ],
   "source": [
    "load_feat= features_loading(path2features,model_name)"
   ]
  },
  {
   "cell_type": "code",
   "execution_count": 17,
   "metadata": {},
   "outputs": [
    {
     "data": {
      "text/plain": [
       "(torch.Size([17940, 6400]), torch.Size([17940]))"
      ]
     },
     "execution_count": 17,
     "metadata": {},
     "output_type": "execute_result"
    }
   ],
   "source": [
    "load_feat['train'][0].shape,load_feat['train'][1].shape"
   ]
  },
  {
   "cell_type": "code",
   "execution_count": 18,
   "metadata": {},
   "outputs": [],
   "source": [
    "if load_features:\n",
    "    conv_dset ={\n",
    "    'train': TensorDataset(load_feat['train'][0], load_feat['train'][1]),\n",
    "    'valid': TensorDataset(load_feat['valid'][0], load_feat['valid'][1]),\n",
    "    'test': TensorDataset(load_feat['test'][0], load_feat['test'][1])\n",
    "    }\n",
    "else:\n",
    "    conv_dset ={\n",
    "    'train': TensorDataset(convOutput_train['train'][0], convOutput_train['train'][1]),\n",
    "    'valid': TensorDataset(convOutput_valid['valid'][0], convOutput_valid['valid'][1]),\n",
    "    'test': TensorDataset(convOutput_test['test'][0], convOutput_test['test'][1])\n",
    "    }"
   ]
  },
  {
   "cell_type": "code",
   "execution_count": 19,
   "metadata": {},
   "outputs": [],
   "source": [
    "dset_loaders_convnet = _create_dataLoader(conv_dset, batch_size, \n",
    "                        pin_memory=False, use_shuffle= True)"
   ]
  },
  {
   "cell_type": "code",
   "execution_count": 20,
   "metadata": {},
   "outputs": [
    {
     "data": {
      "text/plain": [
       "{'test': 2492, 'train': 561, 'valid': 141}"
      ]
     },
     "execution_count": 20,
     "metadata": {},
     "output_type": "execute_result"
    }
   ],
   "source": [
    "dset_convnet_sizes = {x: len(dset_loaders_convnet[x]) for x in ['train','valid', 'test']} \n",
    "dset_convnet_sizes"
   ]
  },
  {
   "cell_type": "code",
   "execution_count": 21,
   "metadata": {},
   "outputs": [],
   "source": [
    "path2saveModel = '/mnt/home/r120084/project/models/distractdriver'\n",
    "#path2saveModel = '/mnt/home/e209440/models/ResNetDistractDriver' \n",
    "\n",
    "savebest = ptt.ModelCheckpoint(path2saveModel,reset=True, verbose=1)"
   ]
  },
  {
   "cell_type": "code",
   "execution_count": 22,
   "metadata": {},
   "outputs": [],
   "source": [
    "loss_fn = nn.CrossEntropyLoss()\n",
    "num_epochs = 50\n",
    "\n",
    "optimizer =  optim.Adam(model.mrnd.parameters(), lr=1e-3)\n",
    "scheduler = StepLR(optimizer, step_size=5, gamma=0.75)\n",
    "\n",
    "params = {'model' : model.mrnd, \n",
    "    'criterion': loss_fn,  \n",
    "    'optimizer': optimizer, \n",
    "    'callbacks': [savebest, ptt.AccuracyMetric(), ptt.PrintCallback()] #ptt.PlotCallback(),\n",
    "}"
   ]
  },
  {
   "cell_type": "code",
   "execution_count": 23,
   "metadata": {},
   "outputs": [],
   "source": [
    "trainer = ptt.DeepNetTrainer(use_gpu=use_gpu,**params)"
   ]
  },
  {
   "cell_type": "code",
   "execution_count": 24,
   "metadata": {
    "scrolled": true
   },
   "outputs": [
    {
     "name": "stdout",
     "output_type": "stream",
     "text": [
      "Start training for 50 epochs\n",
      "  1: 159.7s   T: 1.83189 0.33584   V: 0.85789 0.66815 best\n",
      "  2:  21.5s   T: 0.55467 0.80808   V: 0.20269 0.94759 best\n",
      "  3:  22.0s   T: 0.24458 0.91996   V: 0.18238 0.94246 best\n",
      "  4:  21.7s   T: 0.18586 0.94091   V: 0.16942 0.94759 best\n",
      "  5:  21.5s   T: 0.16022 0.94939   V: 0.07498 0.97837 best\n",
      "  6:  21.4s   T: 0.12702 0.95909   V: 0.06736 0.98171 best\n",
      "  7:  21.6s   T: 0.14697 0.95524   V: 0.19906 0.93599 \n",
      "  8:  21.5s   T: 0.08993 0.97074   V: 0.06396 0.98439 best\n",
      "  9:  20.7s   T: 0.12194 0.96087   V: 0.05370 0.98506 best\n",
      " 10:  19.9s   T: 0.08849 0.97179   V: 0.16790 0.94938 \n",
      " 11:  20.0s   T: 0.05961 0.98004   V: 0.09074 0.97614 \n",
      " 12:  20.2s   T: 0.08535 0.97269   V: 0.04911 0.98729 best\n",
      " 13:  20.0s   T: 0.07320 0.97659   V: 0.18934 0.93756 \n",
      " 14:  20.6s   T: 0.07635 0.97520   V: 0.09040 0.97770 \n",
      " 15:  21.6s   T: 0.08656 0.97447   V: 0.04169 0.98930 best\n",
      " 16:  21.6s   T: 0.06439 0.97965   V: 0.09317 0.97190 \n",
      " 17:  21.2s   T: 0.04648 0.98495   V: 0.06627 0.98260 \n",
      " 18:  21.2s   T: 0.05171 0.98361   V: 0.50959 0.87444 \n",
      " 19:  21.0s   T: 0.05030 0.98389   V: 0.12610 0.96276 \n",
      " 20:  21.6s   T: 0.07544 0.97575   V: 0.03493 0.99153 best\n",
      " 21:  22.5s   T: 0.05006 0.98612   V: 0.06773 0.98149 \n",
      " 22:  22.2s   T: 0.04934 0.98601   V: 0.09718 0.97145 \n",
      " 23:  22.4s   T: 0.05376 0.98172   V: 0.02430 0.99487 best\n",
      " 24:  20.8s   T: 0.06796 0.97809   V: 0.04424 0.98930 \n",
      " 25:  20.6s   T: 0.06367 0.98149   V: 0.06314 0.98127 \n",
      " 26:  20.4s   T: 0.01638 0.99476   V: 0.08031 0.97971 \n",
      " 27:  21.1s   T: 0.03876 0.98735   V: 0.02818 0.99331 \n",
      " 28:  20.7s   T: 0.04028 0.98729   V: 0.05097 0.98907 \n",
      " 29:  21.4s   T: 0.05020 0.98400   V: 0.02621 0.99309 \n",
      " 30:  21.4s   T: 0.03750 0.98885   V: 0.03519 0.99242 \n",
      " 31:  21.7s   T: 0.05038 0.98361   V: 0.10944 0.96499 \n",
      " 32:  21.7s   T: 0.04259 0.98685   V: 0.11653 0.96945 \n",
      " 33:  21.3s   T: 0.02729 0.99097   V: 0.02104 0.99442 best\n",
      " 34:  21.6s   T: 0.01592 0.99560   V: 0.25095 0.91994 \n",
      " 35:  21.7s   T: 0.04422 0.98595   V: 0.03970 0.98996 \n",
      " 36:  20.9s   T: 0.03434 0.98902   V: 0.04349 0.99086 \n",
      " 37:  21.5s   T: 0.04118 0.98768   V: 0.03021 0.99219 \n",
      " 38:  20.9s   T: 0.05987 0.98356   V: 0.02001 0.99532 best\n",
      " 39:  20.5s   T: 0.03667 0.98919   V: 0.04775 0.98773 \n",
      " 40:  20.5s   T: 0.02672 0.99158   V: 0.12742 0.96855 \n",
      " 41:  20.5s   T: 0.03122 0.99108   V: 0.01737 0.99576 best\n",
      " 42:  20.0s   T: 0.03152 0.99130   V: 0.03823 0.99063 \n",
      " 43:  20.7s   T: 0.02786 0.99125   V: 0.01960 0.99554 \n",
      " 44:  20.8s   T: 0.01964 0.99420   V: 0.16309 0.95941 \n",
      " 45:  20.7s   T: 0.03068 0.99103   V: 0.01990 0.99554 \n",
      " 46:  20.8s   T: 0.04439 0.98768   V: 0.02290 0.99509 \n",
      " 47:  20.6s   T: 0.00674 0.99805   V: 0.05755 0.98506 \n",
      " 48:  20.8s   T: 0.04671 0.98679   V: 0.04701 0.99063 \n",
      " 49:  21.2s   T: 0.02295 0.99169   V: 0.03790 0.99063 \n",
      " 50:  20.8s   T: 0.02463 0.99236   V: 0.01931 0.99599 \n",
      "Best model was saved at epoch 41 with loss 0.01737: /mnt/home/r120084/project/models/distractdriver\n",
      "Stop training at epoch: 50/50\n"
     ]
    }
   ],
   "source": [
    "trainer.fit_loader(num_epochs, dset_loaders_convnet['train'], dset_loaders_convnet['valid'])"
   ]
  },
  {
   "cell_type": "markdown",
   "metadata": {},
   "source": [
    "# Loading best epoch"
   ]
  },
  {
   "cell_type": "code",
   "execution_count": 25,
   "metadata": {},
   "outputs": [],
   "source": [
    "trainer.load_state(path2saveModel)\n",
    "model.mrnd = trainer.model"
   ]
  },
  {
   "cell_type": "code",
   "execution_count": 26,
   "metadata": {},
   "outputs": [
    {
     "name": "stdout",
     "output_type": "stream",
     "text": [
      "              total        used        free      shared  buff/cache   available\n",
      "Mem:           220G         92G         58G        8.4G         68G        117G\n",
      "Swap:            0B          0B          0B\n",
      "Sun Nov 26 12:59:46 2017       \n",
      "+-----------------------------------------------------------------------------+\n",
      "| NVIDIA-SMI 384.90                 Driver Version: 384.90                    |\n",
      "|-------------------------------+----------------------+----------------------+\n",
      "| GPU  Name        Persistence-M| Bus-Id        Disp.A | Volatile Uncorr. ECC |\n",
      "| Fan  Temp  Perf  Pwr:Usage/Cap|         Memory-Usage | GPU-Util  Compute M. |\n",
      "|===============================+======================+======================|\n",
      "|   0  Tesla K80           Off  | 00003609:00:00.0 Off |                    0 |\n",
      "| N/A   64C    P0    78W / 149W |  11106MiB / 11439MiB |     44%      Default |\n",
      "+-------------------------------+----------------------+----------------------+\n",
      "|   1  Tesla K80           Off  | 00004BDC:00:00.0 Off |                    0 |\n",
      "| N/A   74C    P0    71W / 149W |    251MiB / 11439MiB |      0%      Default |\n",
      "+-------------------------------+----------------------+----------------------+\n",
      "|   2  Tesla K80           Off  | 00006ABF:00:00.0 Off |                    0 |\n",
      "| N/A   78C    P0   108W / 149W |   7165MiB / 11439MiB |     39%      Default |\n",
      "+-------------------------------+----------------------+----------------------+\n",
      "|   3  Tesla K80           Off  | 00008660:00:00.0 Off |                    0 |\n",
      "| N/A   47C    P0    83W / 149W |    251MiB / 11439MiB |      0%      Default |\n",
      "+-------------------------------+----------------------+----------------------+\n",
      "                                                                               \n",
      "+-----------------------------------------------------------------------------+\n",
      "| Processes:                                                       GPU Memory |\n",
      "|  GPU       PID   Type   Process name                             Usage      |\n",
      "|=============================================================================|\n",
      "|    0     39219      C   /usr/local/bin/python3.6                    1152MiB |\n",
      "|    0     43659      C   /usr/local/bin/python3.6                    3349MiB |\n",
      "|    0    104407      C   /usr/local/bin/python3.6                    3529MiB |\n",
      "|    0    110174      C   /usr/local/bin/python3.6                     845MiB |\n",
      "|    0    130442      C   /usr/local/bin/python3.6                     347MiB |\n",
      "|    1    130442      C   /usr/local/bin/python3.6                     240MiB |\n",
      "|    2    109422      C   /usr/local/bin/python3.6                    6912MiB |\n",
      "|    2    130442      C   /usr/local/bin/python3.6                     240MiB |\n",
      "|    3    130442      C   /usr/local/bin/python3.6                     240MiB |\n",
      "+-----------------------------------------------------------------------------+\n"
     ]
    }
   ],
   "source": [
    "!free -h\n",
    "!nvidia-smi"
   ]
  },
  {
   "cell_type": "code",
   "execution_count": 35,
   "metadata": {},
   "outputs": [
    {
     "name": "stdout",
     "output_type": "stream",
     "text": [
      "done!\n"
     ]
    }
   ],
   "source": [
    "metrics2csv(trainer, 'ResNet18')"
   ]
  },
  {
   "cell_type": "code",
   "execution_count": 28,
   "metadata": {},
   "outputs": [
    {
     "name": "stdout",
     "output_type": "stream",
     "text": [
      "evaluate: 560/560 ok\n",
      "evaluate: 140/140 ok\n"
     ]
    }
   ],
   "source": [
    "train_eval = trainer.evaluate_loader(dset_loaders_convnet['train'])\n",
    "valid_eval = trainer.evaluate_loader(dset_loaders_convnet['valid'])"
   ]
  },
  {
   "cell_type": "code",
   "execution_count": 29,
   "metadata": {},
   "outputs": [
    {
     "data": {
      "text/plain": [
       "({'losses': 0.0009273802822247073}, {'losses': 0.01736979211791087})"
      ]
     },
     "execution_count": 29,
     "metadata": {},
     "output_type": "execute_result"
    }
   ],
   "source": [
    "train_eval, valid_eval"
   ]
  },
  {
   "cell_type": "code",
   "execution_count": 30,
   "metadata": {},
   "outputs": [],
   "source": [
    "# need to create a dataloader without shuffle to compare the mismatch\n",
    "dset_loaders_wshuffle = _create_dataLoader(dsets, batch_size, pin_memory=False, use_shuffle= False)"
   ]
  },
  {
   "cell_type": "code",
   "execution_count": null,
   "metadata": {},
   "outputs": [],
   "source": [
    "#we need to use all dloader, because this one has use_shuffle false\n",
    "result_train = predict(dset_loaders_wshuffle['train'], model, use_gpu=use_gpu)\n",
    "result_valid = predict(dset_loaders_wshuffle['valid'], model, use_gpu=use_gpu)\n",
    "result_test = predict(dset_loaders_wshuffle['test'], model, use_gpu=use_gpu)"
   ]
  },
  {
   "cell_type": "code",
   "execution_count": 49,
   "metadata": {},
   "outputs": [],
   "source": [
    "predictions_out = {'train': result_train, 'valid': result_valid}"
   ]
  },
  {
   "cell_type": "code",
   "execution_count": 73,
   "metadata": {},
   "outputs": [
    {
     "name": "stdout",
     "output_type": "stream",
     "text": [
      "train set result saved!\n",
      "valid set result saved!\n"
     ]
    }
   ],
   "source": [
    "save_results(predictions_out, 'Resnet18', use_gpu = use_gpu)"
   ]
  },
  {
   "cell_type": "code",
   "execution_count": null,
   "metadata": {},
   "outputs": [],
   "source": [
    "result_train = getPrediction(result_train)\n",
    "result_valid = getPrediction(result_valid)\n",
    "# result_test['pred'] must be an array of probabilities to make the submission"
   ]
  },
  {
   "cell_type": "code",
   "execution_count": null,
   "metadata": {},
   "outputs": [],
   "source": [
    "correct_train = (result_train['true'] == result_train['pred']).sum()\n",
    "correct_valid = (result_valid['true'] == result_valid['pred']).sum()"
   ]
  },
  {
   "cell_type": "code",
   "execution_count": 76,
   "metadata": {},
   "outputs": [
    {
     "name": "stdout",
     "output_type": "stream",
     "text": [
      "Train:  17934 / 17940\n",
      "Valid:  4467 / 4484\n"
     ]
    }
   ],
   "source": [
    "print('Train: ', correct_train, '/', len(dsets['train']) )\n",
    "print('Valid: ', correct_valid, '/', len(dsets['valid']) )"
   ]
  },
  {
   "cell_type": "markdown",
   "metadata": {},
   "source": [
    "# Make submission of the Test set"
   ]
  },
  {
   "cell_type": "code",
   "execution_count": null,
   "metadata": {},
   "outputs": [],
   "source": [
    "create_submission(result_test, 'distracted_driver')"
   ]
  }
 ],
 "metadata": {
  "kernelspec": {
   "display_name": "Python 3",
   "language": "python",
   "name": "python3"
  },
  "language_info": {
   "codemirror_mode": {
    "name": "ipython",
    "version": 3
   },
   "file_extension": ".py",
   "mimetype": "text/x-python",
   "name": "python",
   "nbconvert_exporter": "python",
   "pygments_lexer": "ipython3",
   "version": "3.6.3"
  }
 },
 "nbformat": 4,
 "nbformat_minor": 2
}
