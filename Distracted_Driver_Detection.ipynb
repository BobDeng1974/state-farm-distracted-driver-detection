{
 "cells": [
  {
   "cell_type": "code",
   "execution_count": 1,
   "metadata": {
    "collapsed": true
   },
   "outputs": [],
   "source": [
    "path2train = \"/home/e209440/data/train\"\n",
    "path2test = \"/home/e209440/data/test\""
   ]
  },
  {
   "cell_type": "code",
   "execution_count": 2,
   "metadata": {
    "collapsed": true
   },
   "outputs": [],
   "source": [
    "%matplotlib inline\n",
    "import numpy as np\n",
    "import pandas as pd\n",
    "import seaborn as sns\n",
    "import matplotlib.pyplot as plt\n",
    "\n",
    "import torch as tc\n",
    "import torch.nn as nn\n",
    "import torch.nn.functional as F\n",
    "import torch.optim as optim\n",
    "import torchvision.transforms as transforms\n",
    "from torchvision import transforms, utils\n",
    "\n",
    "from torch.autograd import Variable\n",
    "from torch.utils.data import Dataset, DataLoader\n",
    "from torch.optim.lr_scheduler import StepLR"
   ]
  },
  {
   "cell_type": "code",
   "execution_count": 3,
   "metadata": {
    "collapsed": true
   },
   "outputs": [],
   "source": [
    "import os, glob, math,time\n",
    "from scipy import misc\n",
    "\n"
   ]
  },
  {
   "cell_type": "code",
   "execution_count": 4,
   "metadata": {
    "collapsed": true
   },
   "outputs": [],
   "source": [
    "img_size = 50\n",
    "sz = (img_size, img_size)\n"
   ]
  },
  {
   "cell_type": "code",
   "execution_count": 5,
   "metadata": {
    "collapsed": true
   },
   "outputs": [],
   "source": [
    "def process_image(img_file):\n",
    "    img = misc.imread(img_file)\n",
    "    img = misc.imresize(img, sz).transpose((2,0,1)).astype('float32') / 255.0\n",
    "    return img"
   ]
  },
  {
   "cell_type": "code",
   "execution_count": 6,
   "metadata": {
    "collapsed": true
   },
   "outputs": [],
   "source": [
    "def load_traindata():\n",
    "\n",
    "    start = time.time()\n",
    "    X_train = []\n",
    "    Y_train = []\n",
    "\n",
    "    for j in range(1):\n",
    "        print('Load folder c{}'.format(j))\n",
    "        path = os.path.join(path2train, 'c' + str(j), '*.jpg')\n",
    "        files = glob.glob(path)\n",
    "        X_train.extend(process_image(im_file) for im_file in files)\n",
    "        Y_train.extend([j]*len(files))\n",
    "\n",
    "    end = time.time() - start\n",
    "    print(\"Time: %.2f seconds\" % end)\n",
    "    return (X_train,Y_train)"
   ]
  },
  {
   "cell_type": "code",
   "execution_count": 21,
   "metadata": {},
   "outputs": [
    {
     "name": "stdout",
     "output_type": "stream",
     "text": [
      "Load folder c0\n",
      "Time: 24.09 seconds\n"
     ]
    }
   ],
   "source": [
    "X_train, y_train = load_traindata()"
   ]
  },
  {
   "cell_type": "code",
   "execution_count": 8,
   "metadata": {
    "scrolled": true
   },
   "outputs": [
    {
     "data": {
      "text/plain": [
       "2489"
      ]
     },
     "execution_count": 8,
     "metadata": {},
     "output_type": "execute_result"
    }
   ],
   "source": [
    "len(X_train)"
   ]
  },
  {
   "cell_type": "code",
   "execution_count": 10,
   "metadata": {},
   "outputs": [
    {
     "data": {
      "text/plain": [
       "(3, 50, 50)"
      ]
     },
     "execution_count": 10,
     "metadata": {},
     "output_type": "execute_result"
    }
   ],
   "source": [
    "X_train[0].shape"
   ]
  },
  {
   "cell_type": "code",
   "execution_count": 9,
   "metadata": {},
   "outputs": [
    {
     "data": {
      "text/plain": [
       "2489"
      ]
     },
     "execution_count": 9,
     "metadata": {},
     "output_type": "execute_result"
    }
   ],
   "source": [
    "len(y_train)"
   ]
  },
  {
   "cell_type": "code",
   "execution_count": null,
   "metadata": {
    "collapsed": true
   },
   "outputs": [],
   "source": [
    "def process_test_image(img_file):\n",
    "    return process_image(img_file), os.path.basename(img_file)"
   ]
  },
  {
   "cell_type": "code",
   "execution_count": 29,
   "metadata": {
    "scrolled": true
   },
   "outputs": [],
   "source": [
    "def load_testdata():\n",
    "    start = time.time()\n",
    "    X_test    = []\n",
    "    X_test_id = []\n",
    "\n",
    "    path  = os.path.join(path2test, '*.jpg')\n",
    "    files = glob.glob(path)\n",
    "\n",
    "#    results = (process_test_image(im_file) for im_file in files)  # Original\n",
    "\n",
    "#   Ajuste para pegar poucas imagens : \n",
    "\n",
    "    idx = 0\n",
    "    for im_file in files:\n",
    "        idx += 1\n",
    "        if idx == 20:\n",
    "            break\n",
    "        X_test.extend(process_image(im_file))    \n",
    "#        results = process_image(im_file) # Lembrar de discutir função process_test_image\n",
    "            \n",
    "\n",
    "#    X_test, X_test_id,_ = zip(*results)\n",
    "\n",
    "    end = time.time() - start\n",
    "    print(\"Time: %.2f seconds\" % end)\n",
    "    return (X_test)\n"
   ]
  },
  {
   "cell_type": "code",
   "execution_count": 30,
   "metadata": {},
   "outputs": [
    {
     "name": "stdout",
     "output_type": "stream",
     "text": [
      "Time: 0.85 seconds\n"
     ]
    }
   ],
   "source": [
    "X_test = load_testdata()"
   ]
  },
  {
   "cell_type": "code",
   "execution_count": 33,
   "metadata": {},
   "outputs": [
    {
     "name": "stdout",
     "output_type": "stream",
     "text": [
      "57\n"
     ]
    },
    {
     "data": {
      "text/plain": [
       "(50, 50)"
      ]
     },
     "execution_count": 33,
     "metadata": {},
     "output_type": "execute_result"
    }
   ],
   "source": [
    "print(len(X_test))\n",
    "X_test[2].shape"
   ]
  },
  {
   "cell_type": "code",
   "execution_count": null,
   "metadata": {
    "collapsed": true
   },
   "outputs": [],
   "source": [
    "few_samples = True\n",
    "if few_samples:\n",
    "    n_samples = 100\n",
    "else : \n",
    "    n_samples = data['X_train'].shape[0]"
   ]
  },
  {
   "cell_type": "code",
   "execution_count": null,
   "metadata": {
    "collapsed": true
   },
   "outputs": [],
   "source": [
    "X_train = data['X_train'][:n_samples]\n",
    "y_train = data['y_train'][:n_samples]\n",
    "X_test = data['X_test'][:n_samples]\n",
    "y_test = data['y_test'][:n_samples]"
   ]
  },
  {
   "cell_type": "code",
   "execution_count": null,
   "metadata": {
    "collapsed": true
   },
   "outputs": [],
   "source": [
    "X_train.shape, y_train.shape, X_test.shape, y_test.shape"
   ]
  },
  {
   "cell_type": "code",
   "execution_count": null,
   "metadata": {
    "collapsed": true,
    "run_control": {
     "marked": false
    }
   },
   "outputs": [],
   "source": [
    "class CRDataset(Dataset):\n",
    "    \n",
    "    def __init__(self, data, target, transform):\n",
    "        assert data.shape[0] == target.shape[0]\n",
    "        \n",
    "        self.data = data\n",
    "        self.target = torch.LongTensor(target.astype(int))\n",
    "        self.transform = transform\n",
    "    \n",
    "    def __len__(self):\n",
    "        return self.target.shape[0]\n",
    "    \n",
    "    def __getitem__(self, i):\n",
    "        data = self.transform(self.data[i, :, :, :])\n",
    "        return (data, self.target[i])\n",
    "\n"
   ]
  },
  {
   "cell_type": "code",
   "execution_count": null,
   "metadata": {
    "collapsed": true
   },
   "outputs": [],
   "source": []
  }
 ],
 "metadata": {
  "kernelspec": {
   "display_name": "Python 3",
   "language": "python",
   "name": "python3"
  },
  "language_info": {
   "codemirror_mode": {
    "name": "ipython",
    "version": 3
   },
   "file_extension": ".py",
   "mimetype": "text/x-python",
   "name": "python",
   "nbconvert_exporter": "python",
   "pygments_lexer": "ipython3",
   "version": "3.6.0"
  }
 },
 "nbformat": 4,
 "nbformat_minor": 2
}
